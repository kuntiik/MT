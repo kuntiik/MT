{
 "cells": [
  {
   "cell_type": "code",
   "execution_count": null,
   "metadata": {
    "pycharm": {
     "name": "#%%\n"
    }
   },
   "outputs": [],
   "source": [
    "import hydra\n",
    "import pytorch_lightning as pl\n",
    "import torch\n",
    "from pathlib import Path\n",
    "import albumentations as A\n",
    "from src.transforms.albumentations_adapter import Adapter\n",
    "import src.utils.bbox_inverse_transform\n",
    "import json"
   ]
  },
  {
   "cell_type": "code",
   "execution_count": null,
   "metadata": {
    "pycharm": {
     "name": "#%%\n"
    }
   },
   "outputs": [],
   "source": [
    "%matplotlib inline\n",
    "import matplotlib.pyplot as plt"
   ]
  },
  {
   "cell_type": "code",
   "execution_count": null,
   "metadata": {
    "pycharm": {
     "name": "#%%\n"
    }
   },
   "outputs": [],
   "source": [
    "prediction_dir_path = Path('/datagrid/personal/kuntluka/pretrained/dataset_4000')"
   ]
  },
  {
   "cell_type": "code",
   "execution_count": null,
   "metadata": {
    "pycharm": {
     "name": "#%%\n"
    }
   },
   "outputs": [],
   "source": [
    "for file in list(prediction_dir_path.iterdir()):\n",
    "    print(file)\n",
    "    predict_from_ckpt(file)"
   ]
  },
  {
   "cell_type": "code",
   "execution_count": null,
   "metadata": {
    "pycharm": {
     "name": "#%%\n"
    }
   },
   "outputs": [],
   "source": [
    "def create_predictions_name(ckpt_name):\n",
    "    base_name = ckpt_name.split('_0.')[0]\n",
    "    name = 'predictions_' + base_name + '.json'\n",
    "    return name\n",
    "\n",
    "def create_overrides(ckpt_name):\n",
    "    overrides = []\n",
    "    if 'retinanet' in ckpt_name:\n",
    "        overrides.append('module=retinanet')\n",
    "\n",
    "    elif 'faster_rcnn' in ckpt_name:\n",
    "        overrides.append('module=faster_rcnn')\n",
    "\n",
    "    elif 'yolov5' in ckpt_name:\n",
    "        overrides.append('module=yolov5')\n",
    "    \n",
    "    elif 'efficientdet' in ckpt_name:\n",
    "        overrides.append('module=efficientdet')\n",
    "    \n",
    "    if 'medium' in ckpt_name:\n",
    "        overrides.append('module.backbone=medium_p6')\n",
    "\n",
    "    elif 'large' in ckpt_name:\n",
    "        overrides.append('module.backbone=large_p6')\n",
    "\n",
    "    elif 'resnet101' in ckpt_name:\n",
    "        overrides.append('module.backbone=resnet101_fpn_1x')\n",
    "\n",
    "    elif 'swint' in ckpt_name:\n",
    "        overrides.append('module.backbone=swin_t_p4_w7_fpn_1x_coco')\n",
    "\n",
    "    return overrides"
   ]
  },
  {
   "cell_type": "code",
   "execution_count": null,
   "metadata": {
    "pycharm": {
     "name": "#%%\n"
    }
   },
   "outputs": [],
   "source": [
    "def predict_from_ckpt(ckpt_path : Path):\n",
    "    ckpt_name = ckpt_path.name\n",
    "    overrides = create_overrides(ckpt_name)\n",
    "    pred_name = create_predictions_name(ckpt_name)\n",
    "    overrides.append('logger.wandb.project=inference')\n",
    "\n",
    "    with hydra.initialize(config_path=\"configs\"):\n",
    "        cfg = hydra.compose(\n",
    "            config_name=\"train\",\n",
    "            overrides=overrides\n",
    "        )\n",
    "    model = hydra.utils.instantiate(cfg.module.model)\n",
    "\n",
    "    model.load_state_dict(torch.load(ckpt_path, map_location='cpu')['state_dict'])\n",
    "    logger = []\n",
    "    if \"logger\" in cfg:\n",
    "        for _, lg_conf in cfg.logger.items():\n",
    "            if \"_target_\" in lg_conf:\n",
    "                logger.append(hydra.utils.instantiate(lg_conf))\n",
    "\n",
    "    statistics = dict(mean=0.3669, std=0.2768)\n",
    "    trainer = hydra.utils.instantiate(cfg.trainer, logger=logger)\n",
    "    v = Adapter([A.Resize(896,1024), A.Normalize(mean=statistics[\"mean\"], std=statistics[\"std\"])])\n",
    "    dm = hydra.utils.instantiate(cfg.datamodule, train_transforms=v, val_transforms=v)\n",
    "    dm.setup()\n",
    "\n",
    "    test_prediction = trainer.predict(model, dm.predict_dataloader('test'))\n",
    "    val_prediction = trainer.predict(model, dm.predict_dataloader('val'))\n",
    "    train_prediction = trainer.predict(model, dm.predict_dataloader('train'))\n",
    "\n",
    "    test_data = src.utils.bbox_inverse_transform.predictions_to_fiftyone(test_prediction, stage='test')\n",
    "    val_data = src.utils.bbox_inverse_transform.predictions_to_fiftyone(val_prediction, stage='val')\n",
    "    train_data = src.utils.bbox_inverse_transform.predictions_to_fiftyone(train_prediction, stage='train')\n",
    "    data = {**test_data, **val_data, **train_data}\n",
    "\n",
    "    with open(pred_name, 'w') as f:\n",
    "        json.dump(data, f)\n"
   ]
  },
  {
   "cell_type": "code",
   "execution_count": null,
   "metadata": {
    "pycharm": {
     "name": "#%%\n"
    }
   },
   "outputs": [],
   "source": [
    "\n",
    "import os\n",
    "os.environ[\"CUDA_DEVICE_ORDER\"]=\"PCI_BUS_ID\"   # see issue #152\n",
    "os.environ[\"CUDA_VISIBLE_DEVICES\"]=\"3\"\n",
    "\n",
    "with hydra.initialize(config_path=\"configs\"):\n",
    "    cfg = hydra.compose(\n",
    "        config_name=\"train\",\n",
    "        overrides=['module=yolov5', 'module.backbone=small_p6', 'datamodule.batch_size=12']\n",
    "    )\n",
    "model = hydra.utils.instantiate(cfg.module.model)\n",
    "\n",
    "statistics = dict(mean=0.3669, std=0.2768)\n",
    "trainer = hydra.utils.instantiate(cfg.trainer)\n",
    "v = Adapter([A.Resize(896,1024), A.Normalize(mean=statistics[\"mean\"], std=statistics[\"std\"])])\n",
    "dm = hydra.utils.instantiate(cfg.datamodule, train_transforms=v, val_transforms=v)"
   ]
  },
  {
   "cell_type": "code",
   "execution_count": null,
   "metadata": {
    "pycharm": {
     "name": "#%%\n"
    }
   },
   "outputs": [],
   "source": [
    "lr_finder = trainer.tuner.lr_find(model, datamodule=dm)"
   ]
  },
  {
   "cell_type": "code",
   "execution_count": null,
   "metadata": {
    "pycharm": {
     "name": "#%%\n"
    }
   },
   "outputs": [],
   "source": [
    "lr_finder.plot()"
   ]
  },
  {
   "cell_type": "code",
   "execution_count": null,
   "metadata": {
    "pycharm": {
     "name": "#%%\n"
    }
   },
   "outputs": [],
   "source": [
    "plt.show()"
   ]
  },
  {
   "cell_type": "code",
   "execution_count": null,
   "metadata": {
    "pycharm": {
     "name": "#%%\n"
    }
   },
   "outputs": [],
   "source": [
    "\n",
    "trainer = hydra.utils.instantiate(cfg.trainer, logger=logger)"
   ]
  }
 ],
 "metadata": {
  "interpreter": {
   "hash": "dbe21a925ef5e9e252762f4d5a2a53866ff1bba2868f4ab01984a4b043a519cc"
  },
  "kernelspec": {
   "display_name": "Python 3.8.12 ('mt')",
   "language": "python",
   "name": "python3"
  },
  "language_info": {
   "codemirror_mode": {
    "name": "ipython",
    "version": 3
   },
   "file_extension": ".py",
   "mimetype": "text/x-python",
   "name": "python",
   "nbconvert_exporter": "python",
   "pygments_lexer": "ipython3",
   "version": "3.8.12"
  },
  "orig_nbformat": 4
 },
 "nbformat": 4,
 "nbformat_minor": 2
}