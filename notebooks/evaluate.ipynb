{
 "cells": [
  {
   "cell_type": "code",
   "execution_count": null,
   "metadata": {
    "pycharm": {
     "name": "#%%\n"
    }
   },
   "outputs": [],
   "source": [
    "%load_ext autoreload\n",
    "%autoreload\n",
    "from pathlib import Path\n",
    "import json\n",
    "from src.evaluation.pycocotools.coco import COCO\n",
    "from src.evaluation.pycocotools.cocoeval import COCOeval, Params"
   ]
  },
  {
   "cell_type": "code",
   "execution_count": null,
   "metadata": {
    "pycharm": {
     "name": "#%%\n"
    }
   },
   "outputs": [],
   "source": [
    "ann_path = '/datagrid/personal/kuntluka/dental_rtg3/annotations.json'\n",
    "# preds_path = 'predictions_faster_rcnn_res50.json'\n",
    "# preds_path = 'predictions_faster_rcnn_res101.json'\n",
    "preds_path = 'predictions_yolov5_medium.json'\n",
    "# preds_path ='predictions_yolov5_large.json'\n",
    "# preds_path = 'predictions_efficientdet_d4.json'\n",
    "# preds_path2 = 'predictions_retinanet_swint.json'\n",
    "# preds_path = 'predictions_retinanet_resnet50.json'"
   ]
  },
  {
   "cell_type": "code",
   "execution_count": null,
   "metadata": {
    "pycharm": {
     "name": "#%%\n"
    }
   },
   "outputs": [],
   "source": [
    "with open('predictions_4000/'+preds_path) as f: \n",
    "    data = json.load(f)"
   ]
  },
  {
   "cell_type": "code",
   "execution_count": null,
   "metadata": {
    "pycharm": {
     "name": "#%%\n"
    }
   },
   "outputs": [],
   "source": [
    "pred_path = Path('predictions_4000')"
   ]
  },
  {
   "cell_type": "code",
   "execution_count": null,
   "metadata": {
    "pycharm": {
     "name": "#%%\n"
    }
   },
   "outputs": [],
   "source": [
    "preds = list(pred_path.iterdir())"
   ]
  },
  {
   "cell_type": "code",
   "execution_count": null,
   "metadata": {
    "pycharm": {
     "name": "#%%\n"
    }
   },
   "outputs": [],
   "source": [
    "preds[0].name"
   ]
  },
  {
   "cell_type": "code",
   "execution_count": null,
   "metadata": {
    "pycharm": {
     "name": "#%%\n"
    }
   },
   "outputs": [],
   "source": [
    "from src.utils.conver_to_coco import to_coco\n",
    "from src.evaluation.prediction_evaluation import PredictionEval\n",
    "\n",
    "with open(ann_path, 'r') as f:\n",
    "    ann_file = json.load(f)\n",
    "\n",
    "with open(pred_path/ preds_path, 'r') as f:\n",
    "    preds_dict = json.load(f)\n",
    "\n",
    "# with open(preds_path2, 'r') as f:\n",
    "#     preds_dict2 = json.load(f)\n",
    "\n",
    "# with open(preds_path3, 'r') as f:\n",
    "#     preds_dict3 = json.load(f)\n",
    "\n",
    "preds_coco, names = to_coco(str(pred_path /preds_path), ann_path)\n",
    "\n",
    "pred_eval = PredictionEval()\n",
    "pred_eval.load_data_coco_files(ann_path, preds_coco, names)\n",
    "\n",
    "with open('metadata.json', 'r') as f:\n",
    "    meta_data = json.load(f)"
   ]
  },
  {
   "cell_type": "code",
   "execution_count": null,
   "metadata": {
    "pycharm": {
     "name": "#%%\n"
    }
   },
   "outputs": [],
   "source": [
    "with open('ens_all_preds.json') as f:\n",
    "    data = json.load(f)"
   ]
  },
  {
   "cell_type": "code",
   "execution_count": null,
   "metadata": {
    "pycharm": {
     "name": "#%%\n"
    }
   },
   "outputs": [],
   "source": [
    "preds_coco, names = to_coco(data, ann_path)"
   ]
  },
  {
   "cell_type": "code",
   "execution_count": null,
   "metadata": {
    "pycharm": {
     "name": "#%%\n"
    }
   },
   "outputs": [],
   "source": [
    "pred_eval.load_predictions(preds_coco)"
   ]
  },
  {
   "cell_type": "code",
   "execution_count": null,
   "metadata": {
    "pycharm": {
     "name": "#%%\n"
    }
   },
   "outputs": [],
   "source": [
    "p,r,c = pred_eval.precision_recall_score(stage='test')"
   ]
  },
  {
   "cell_type": "code",
   "execution_count": null,
   "metadata": {
    "pycharm": {
     "name": "#%%\n"
    }
   },
   "outputs": [],
   "source": [
    "for prec, "
   ]
  },
  {
   "cell_type": "code",
   "execution_count": null,
   "metadata": {
    "pycharm": {
     "name": "#%%\n"
    }
   },
   "outputs": [],
   "source": [
    "np.max(2*p*r/(p+r))"
   ]
  },
  {
   "cell_type": "code",
   "execution_count": null,
   "metadata": {
    "pycharm": {
     "name": "#%%\n"
    }
   },
   "outputs": [],
   "source": [
    "c[67]"
   ]
  },
  {
   "cell_type": "code",
   "execution_count": null,
   "metadata": {
    "pycharm": {
     "name": "#%%\n"
    }
   },
   "outputs": [],
   "source": [
    "den = TP[67] + FP[67] + FN[67] + (1061 - FN[67] )"
   ]
  },
  {
   "cell_type": "code",
   "execution_count": null,
   "metadata": {
    "pycharm": {
     "name": "#%%\n"
    }
   },
   "outputs": [],
   "source": [
    "acc = (TP[67] + (1061 - FN[67])) / den"
   ]
  },
  {
   "cell_type": "code",
   "execution_count": null,
   "metadata": {
    "pycharm": {
     "name": "#%%\n"
    }
   },
   "outputs": [],
   "source": [
    "acc"
   ]
  },
  {
   "cell_type": "code",
   "execution_count": null,
   "metadata": {
    "pycharm": {
     "name": "#%%\n"
    }
   },
   "outputs": [],
   "source": [
    "r"
   ]
  },
  {
   "cell_type": "code",
   "execution_count": null,
   "metadata": {
    "pycharm": {
     "name": "#%%\n"
    }
   },
   "outputs": [],
   "source": [
    "c"
   ]
  },
  {
   "cell_type": "code",
   "execution_count": null,
   "metadata": {
    "pycharm": {
     "name": "#%%\n"
    }
   },
   "outputs": [],
   "source": [
    "import numpy as np"
   ]
  },
  {
   "cell_type": "code",
   "execution_count": null,
   "metadata": {
    "pycharm": {
     "name": "#%%\n"
    }
   },
   "outputs": [],
   "source": [
    "num_preds_arr=[]\n",
    "for confidence in c:\n",
    "    num_preds = 0\n",
    "    for key, value in data.items(): \n",
    "        if value['stage'] != 'test': \n",
    "            continue \n",
    "        tmp_s = np.asarray(value['scores']) \n",
    "        num_preds += np.count_nonzero(tmp_s >= confidence) \n",
    "    num_preds_arr.append(num_preds)"
   ]
  },
  {
   "cell_type": "code",
   "execution_count": null,
   "metadata": {
    "pycharm": {
     "name": "#%%\n"
    }
   },
   "outputs": [],
   "source": [
    "TP = []\n",
    "FP = []\n",
    "for prec, num in zip(p, num_preds_arr):\n",
    "    TP.append(prec*num)\n",
    "    FP.append((1-prec)*num)"
   ]
  },
  {
   "cell_type": "code",
   "execution_count": null,
   "metadata": {
    "pycharm": {
     "name": "#%%\n"
    }
   },
   "outputs": [],
   "source": [
    "rc = []\n",
    "FN = []\n",
    "for rec in r:\n",
    "    rc.append(rec*1061)\n",
    "    FN.append((1-rec)*1061)"
   ]
  },
  {
   "cell_type": "code",
   "execution_count": null,
   "metadata": {
    "pycharm": {
     "name": "#%%\n"
    }
   },
   "outputs": [],
   "source": [
    "%matplotlib inline\n",
    "import matplotlib.pyplot as plt\n",
    "plt.style.use('seaborn')\n",
    "tex_fonts = {\n",
    "    # Use LaTeX to write all text\n",
    "    \"text.usetex\": True,\n",
    "    \"font.family\": \"arial\",\n",
    "    # Use 10pt font in plots, to match 10pt font in document\n",
    "    \"axes.labelsize\": 11,\n",
    "    \"font.size\": 11,\n",
    "    # Make the legend/label fonts a little smaller\n",
    "    \"legend.fontsize\": 9,\n",
    "    \"xtick.labelsize\": 9,\n",
    "    \"ytick.labelsize\": 9\n",
    "}\n",
    "plt.rcParams.update(tex_fonts)\n",
    "\n",
    "def set_size(width_pt, fraction=1, subplots=(1,1)):\n",
    "    fig_width_pt = width_pt * fraction\n",
    "    inches_per_pt = 1 / 72.27\n",
    "    golden_ratio = (5**.5 - 1) / 2\n",
    "    fig_width_in = fig_width_pt * inches_per_pt\n",
    "    fig_height_in = fig_width_in * golden_ratio * (subplots[0] / subplots[1])\n",
    "    return (fig_width_in, fig_height_in)"
   ]
  },
  {
   "cell_type": "code",
   "execution_count": null,
   "metadata": {
    "pycharm": {
     "name": "#%%\n"
    }
   },
   "outputs": [],
   "source": [
    "TP = np.asarray(TP)\n",
    "FP = np.asarray(FP)\n",
    "FN = np.asarray(FN)"
   ]
  },
  {
   "cell_type": "code",
   "execution_count": null,
   "metadata": {
    "pycharm": {
     "name": "#%%\n"
    }
   },
   "outputs": [],
   "source": [
    "fig, ax = plt.subplots(figsize=set_size(407))\n",
    "ax.plot(r[:90], FP[:90]/599)\n",
    "ax.set_xlim([0,1])\n",
    "ax.set_ylabel('FP detections per image')\n",
    "ax.set_xlabel('Recall')\n",
    "fig.savefig('fp_recall.pdf', format='pdf', bbox_inches='tight')"
   ]
  },
  {
   "cell_type": "code",
   "execution_count": null,
   "metadata": {
    "pycharm": {
     "name": "#%%\n"
    }
   },
   "outputs": [],
   "source": [
    "fig, ax = plt.subplots(figsize=set_size(407))\n",
    "ax.plot(p[:91], FN[:91]/1061*100)\n",
    "ax.set_xlim([0.3,1])\n",
    "ax.set_ylabel(\"Non-detected dental caries [\\%]\")\n",
    "ax.set_xlabel('Precision')\n",
    "fig.savefig('nondet_precision.pdf', format='pdf', bbox_inches='tight')"
   ]
  },
  {
   "cell_type": "code",
   "execution_count": null,
   "metadata": {
    "pycharm": {
     "name": "#%%\n"
    }
   },
   "outputs": [],
   "source": [
    "num_preds_arrk"
   ]
  },
  {
   "cell_type": "code",
   "execution_count": null,
   "metadata": {
    "pycharm": {
     "name": "#%%\n"
    }
   },
   "outputs": [],
   "source": [
    "pred_eval.cocoEval.evaluate()\n",
    "pred_eval.cocoEval.accumulate()"
   ]
  },
  {
   "cell_type": "code",
   "execution_count": null,
   "metadata": {
    "pycharm": {
     "name": "#%%\n"
    }
   },
   "outputs": [],
   "source": [
    "pred_eval.img"
   ]
  },
  {
   "cell_type": "code",
   "execution_count": null,
   "metadata": {
    "pycharm": {
     "name": "#%%\n"
    }
   },
   "outputs": [],
   "source": [
    "meta = {}\n",
    "meta['test_ids'] = names['test']\n",
    "meta['train_ids'] = names['train']\n",
    "meta['val_ids'] = names['val']"
   ]
  },
  {
   "cell_type": "code",
   "execution_count": null,
   "metadata": {
    "pycharm": {
     "name": "#%%\n"
    }
   },
   "outputs": [],
   "source": [
    "meta['train_files'] = [pred_eval.img_id2name[id] for id in meta['train_ids']]\n",
    "meta['test_files'] = [pred_eval.img_id2name[id] for id in meta['test_ids']]\n",
    "meta['val_files'] = [pred_eval.img_id2name[id] for id in meta['val_ids']]"
   ]
  },
  {
   "cell_type": "code",
   "execution_count": null,
   "metadata": {
    "pycharm": {
     "name": "#%%\n"
    }
   },
   "outputs": [],
   "source": [
    "with open('metadata4000.json', 'w') as f:\n",
    "    json.dump(meta, f)"
   ]
  },
  {
   "cell_type": "code",
   "execution_count": null,
   "metadata": {
    "pycharm": {
     "name": "#%%\n"
    }
   },
   "outputs": [],
   "source": [
    "names['type']"
   ]
  },
  {
   "cell_type": "code",
   "execution_count": null,
   "metadata": {
    "pycharm": {
     "name": "#%%\n"
    }
   },
   "outputs": [],
   "source": [
    "names.keys()"
   ]
  },
  {
   "cell_type": "code",
   "execution_count": null,
   "metadata": {
    "pycharm": {
     "name": "#%%\n"
    }
   },
   "outputs": [],
   "source": [
    "meta_data.keys()"
   ]
  },
  {
   "cell_type": "code",
   "execution_count": null,
   "metadata": {
    "pycharm": {
     "name": "#%%\n"
    }
   },
   "outputs": [],
   "source": [
    "meta_data['train_ids'] == names['train']"
   ]
  },
  {
   "cell_type": "code",
   "execution_count": null,
   "metadata": {
    "pycharm": {
     "name": "#%%\n"
    }
   },
   "outputs": [],
   "source": [
    "print(len(meta_data['test_ids']))\n",
    "print(len(names['test']))"
   ]
  },
  {
   "cell_type": "code",
   "execution_count": null,
   "metadata": {
    "pycharm": {
     "name": "#%%\n"
    }
   },
   "outputs": [],
   "source": [
    "len(meta_data['test_ids'] + meta_data['train_ids'] + meta_data['val_ids'])"
   ]
  },
  {
   "cell_type": "code",
   "execution_count": null,
   "metadata": {
    "pycharm": {
     "name": "#%%\n"
    }
   },
   "outputs": [],
   "source": [
    "def evaluate_ckpts(preds_paths, annotations_path, metadata_path='metadata.json', out_name=\"results.txt\"):\n",
    "\n",
    "    with open(annotations_path, 'r') as f:\n",
    "        ann_file = json.load(f)\n",
    "    \n",
    "    out_file_path = Path(out_name)\n",
    "    out_file_path.unlink(missing_ok=True)\n",
    "    \n",
    "    for pred_path in preds_paths:\n",
    "        with open(pred_path) as f:\n",
    "            preds_dict = json.load(f)\n",
    "        preds_coco, names = to_coco(preds_dict, ann_file)\n",
    "        pred_eval = PredictionEval()\n",
    "        pred_eval.load_data_coco_files(annotations_path, preds_coco, names)\n",
    "        name = str(pred_path).replace('.json','').replace('predictions_', '')\n",
    "        text, prec = pred_eval.get_data(name)\n",
    "\n",
    "        with open(out_name, 'a') as out_file:\n",
    "            out_file.write(f\"{text}\\n{prec}\\n\\n\")\n"
   ]
  },
  {
   "cell_type": "code",
   "execution_count": null,
   "metadata": {
    "pycharm": {
     "name": "#%%\n"
    }
   },
   "outputs": [],
   "source": [
    "# evaluate_ckpts([ 'predictions_yolov5_medium.json', 'predictions_yolov5_large.json'], ann_path)\n",
    "preds = list(Path('predictions_4000').iterdir())\n",
    "evaluate_ckpts(preds, ann_path)"
   ]
  },
  {
   "cell_type": "code",
   "execution_count": null,
   "metadata": {
    "pycharm": {
     "name": "#%%\n"
    }
   },
   "outputs": [],
   "source": [
    "meta_data.keys()"
   ]
  },
  {
   "cell_type": "code",
   "execution_count": null,
   "metadata": {
    "pycharm": {
     "name": "#%%\n"
    }
   },
   "outputs": [],
   "source": [
    "import numpy as np\n",
    "from src.evaluation.boxes_fusion.ensemble_boxes_wbf import weighted_boxes_fusion\n",
    "boxes1 = []\n",
    "boxes2 = []\n",
    "scores1 =[]\n",
    "scores2 =[]\n",
    "dict_out = {}\n",
    "\n",
    "for img_name in meta_data['test_files']:\n",
    "\n",
    "    boxes1 = []\n",
    "    boxes2 = []\n",
    "    boxes3 = []\n",
    "    d1 = preds_dict[img_name]\n",
    "    for bbox in d1['bboxes']:\n",
    "        x1,y1,x2,y2 = bbox\n",
    "        boxes1.append([x1/1068, y1/847, x2/1068, y2/847])\n",
    "    d2 = preds_dict2[img_name]\n",
    "\n",
    "    for bbox in d2['bboxes']:\n",
    "        x1,y1,x2,y2 = bbox\n",
    "        boxes2.append([x1/1068, y1/847, x2/1068, y2/847])\n",
    "\n",
    "    d3 = preds_dict3[img_name]\n",
    "\n",
    "    for bbox in d3['bboxes']:\n",
    "        x1,y1,x2,y2 = bbox\n",
    "        boxes3.append([x1/1068, y1/847, x2/1068, y2/847])\n",
    "    \n",
    "    boxes = [boxes1, boxes2, boxes3]\n",
    "    scores = [d1['scores'], d2['scores'], d3['scores']]\n",
    "    labels = [d1['labels'], d2['labels'], d3['labels']]\n",
    "    # labels = np.zeros_like(np.asarray(scores)).tolist()\n",
    "    # labels = [[0 for bboxes in boxes] for box in boxes]\n",
    "    weights = [3, 2, 2]\n",
    "    # weights = [[1,1,1], [2,2,2], [3,3,3]]\n",
    "    iou_thr = 0.55\n",
    "    skip_box_thr = 0.001\n",
    "    sigma = 0.1\n",
    "\n",
    "    boxes, scores, labels = weighted_boxes_fusion(boxes, scores, labels, weights=weights, iou_thr=iou_thr, skip_box_thr=skip_box_thr)\n",
    "\n",
    "    boxes_out = [] \n",
    "    for bbox in boxes:\n",
    "        x1, y1, x2, y2 = bbox\n",
    "        boxes_out.append([x1*1068, y1 * 847, x2 * 1068, y2 * 847])\n",
    "    dict_out[img_name] = {'bboxes' : boxes_out, 'scores' : scores, 'labels' : labels, 'stage':'test'}\n",
    "    # for box, score in zip(d1['bboxes'], d1['scores']):\n",
    "\n",
    "    # boxes1="
   ]
  },
  {
   "cell_type": "code",
   "execution_count": null,
   "metadata": {
    "pycharm": {
     "name": "#%%\n"
    }
   },
   "outputs": [],
   "source": [
    "preds_coco, _ = to_coco(dict_out, ann_path)\n",
    "pred_eval.load_data_coco_files(ann_path, preds_coco['annotations'], names)"
   ]
  },
  {
   "cell_type": "code",
   "execution_count": null,
   "metadata": {
    "pycharm": {
     "name": "#%%\n"
    }
   },
   "outputs": [],
   "source": [
    "text, prec = pred_eval.get_data(preds_path)"
   ]
  },
  {
   "cell_type": "code",
   "execution_count": null,
   "metadata": {
    "pycharm": {
     "name": "#%%\n"
    }
   },
   "outputs": [],
   "source": [
    "text"
   ]
  },
  {
   "cell_type": "code",
   "execution_count": null,
   "metadata": {
    "pycharm": {
     "name": "#%%\n"
    }
   },
   "outputs": [],
   "source": [
    "prec"
   ]
  }
 ],
 "metadata": {
  "interpreter": {
   "hash": "dbe21a925ef5e9e252762f4d5a2a53866ff1bba2868f4ab01984a4b043a519cc"
  },
  "kernelspec": {
   "display_name": "Python 3.8.12 ('mt')",
   "language": "python",
   "name": "python3"
  },
  "language_info": {
   "codemirror_mode": {
    "name": "ipython",
    "version": 3
   },
   "file_extension": ".py",
   "mimetype": "text/x-python",
   "name": "python",
   "nbconvert_exporter": "python",
   "pygments_lexer": "ipython3",
   "version": "3.8.12"
  },
  "orig_nbformat": 4
 },
 "nbformat": 4,
 "nbformat_minor": 2
}