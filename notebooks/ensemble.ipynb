{
 "cells": [
  {
   "cell_type": "code",
   "execution_count": null,
   "metadata": {
    "pycharm": {
     "name": "#%%\n"
    }
   },
   "outputs": [],
   "source": [
    "%load_ext autoreload\n",
    "%autoreload 2\n",
    "import sys\n",
    "sys.path.append('..')\n",
    "\n",
    "from pathlib import Path\n",
    "import json\n",
    "from src.evaluation.ensembling import *\n",
    "from src.utils.conver_to_coco import to_coco\n",
    "import torch\n",
    "import numpy as np\n",
    "\n"
   ]
  },
  {
   "cell_type": "code",
   "execution_count": null,
   "metadata": {
    "pycharm": {
     "name": "#%%\n"
    }
   },
   "outputs": [],
   "source": [
    "# Confidence threshold to normalize the weights you need to prepare this beforehand\n",
    "confidence_thr = {\n",
    "    'predictions_faster_rcnn_resnet101.json' : 0.664,\n",
    "    'predictions_retinanet_swint.json' : 0.401,\n",
    "    'predictions_faster_rcnn_resnet50.json' :0.663,\n",
    "    'predictions_yolov5_large.json' : 0.114,\n",
    "    'predictions_yolov5_medium.json': 0.238,\n",
    "    'predictions_efficientdet_d4.json' : 0.183\n",
    "}\n",
    "with open('confidence_thresholds.json', 'w') as  f:\n",
    "    json.dump(confidence_thr, f)"
   ]
  },
  {
   "cell_type": "code",
   "execution_count": null,
   "metadata": {
    "pycharm": {
     "name": "#%%\n"
    }
   },
   "outputs": [],
   "source": [
    "ann_path = Path('/datagrid/personal/kuntluka/dental_rtg3/annotations.json')"
   ]
  },
  {
   "cell_type": "code",
   "execution_count": null,
   "metadata": {
    "pycharm": {
     "name": "#%%\n"
    }
   },
   "outputs": [],
   "source": [
    "#load predictions\n",
    "pred_path = Path('ens_search')\n",
    "preds = list(pred_path.iterdir())\n",
    "preds = [pred.name for pred in preds]\n",
    "\n",
    "with open('confidence_thresholds.json', 'r') as f:\n",
    "    confidence_thr = json.load(f)\n",
    "confidences = [confidence_thr[p] for p in preds]\n",
    "\n",
    "preds_dicts = []\n",
    "for pred_name in preds:\n",
    "    with open(pred_path / pred_name, 'r') as f:\n",
    "        preds_dicts.append(json.load(f))\n",
    "\n",
    "\n",
    "with open('metadata4000.json', 'r') as f:\n",
    "    meta_data = json.load(f)"
   ]
  },
  {
   "cell_type": "code",
   "execution_count": null,
   "metadata": {
    "pycharm": {
     "name": "#%%\n"
    }
   },
   "outputs": [],
   "source": [
    "boxesensemble = BoxesEnsemble(meta_data, preds_dicts, ann_path, confidences )\n",
    "boxesensemble.load_pred_eval(ann_path, meta_data)"
   ]
  },
  {
   "cell_type": "code",
   "execution_count": null,
   "metadata": {
    "pycharm": {
     "name": "#%%\n"
    }
   },
   "outputs": [],
   "source": [
    "# In the casae you used optuna to find best ensembling parameters load the study and check the parameters\n",
    "import optuna\n",
    "study = optuna.load_study(\n",
    "    storage=\"sqlite:///ens_search.db\",\n",
    "    study_name='ens_search_area'\n",
    ")\n",
    "study.best_trial"
   ]
  },
  {
   "cell_type": "code",
   "execution_count": null,
   "metadata": {
    "pycharm": {
     "name": "#%%\n"
    }
   },
   "outputs": [],
   "source": [
    "# You need to manually set the parameters for ensembling (guess the numbers or do hyper-parameter search)\n",
    "wbf_area_w = [[0.936,0.774, 0.84],[0.31,0.47,0.31],[0.98, 0.85,0.88], [0.72,0.69,0.91]]\n",
    "wbf_t_area = 0.642\n",
    "\n",
    "boxesensemble.evaluate_ensemble(wbf_area_w, wbf_t_area, 'test', ensemble_method='wbf', sigma=0.5)"
   ]
  },
  {
   "cell_type": "code",
   "execution_count": null,
   "metadata": {
    "pycharm": {
     "name": "#%%\n"
    }
   },
   "outputs": [],
   "source": [
    "snms_argmax = [4, 0, 0, 0, 4, 5]\n",
    "snms_w = [1, 0.12, 0.12, 0.12]\n",
    "t =  0.7\n",
    "sigma = 0.8\n",
    "\n",
    "# boxesensemble.evaluate_ensemble([1,0.4, 0.85, 0.85], 0.65, 'test', ensemble_method='wbf')\n",
    "boxesensemble.evaluate_ensemble(snms_w, t, 'test', ensemble_method='snms', sigma=sigma)"
   ]
  },
  {
   "cell_type": "code",
   "execution_count": null,
   "metadata": {
    "pycharm": {
     "name": "#%%\n"
    }
   },
   "outputs": [],
   "source": [
    "nmw_indexes =[5, 1, 4, 5, 1]\n",
    "nmw_w = [0.85, 0.25, 0.70, 0.85]\n",
    "t =  0.45\n",
    "\n",
    "boxesensemble.evaluate_ensemble(nmw_w, t, 'test', ensemble_method='nwm', sigma=sigma)"
   ]
  },
  {
   "cell_type": "code",
   "execution_count": null,
   "metadata": {
    "pycharm": {
     "name": "#%%\n"
    }
   },
   "outputs": [],
   "source": [
    "nms_indexes = [6, 2, 2, 5, 4]\n",
    "\n",
    "nms_w = [1, 0.4, 0.4, 0.85]\n",
    "t =  0.6\n",
    "\n",
    "boxesensemble.evaluate_ensemble(nms_w, t, 'test', ensemble_method='nms', sigma=sigma)\n"
   ]
  }
 ],
 "metadata": {
  "interpreter": {
   "hash": "dbe21a925ef5e9e252762f4d5a2a53866ff1bba2868f4ab01984a4b043a519cc"
  },
  "kernelspec": {
   "display_name": "Python 3.8.12 ('mt')",
   "language": "python",
   "name": "python3"
  },
  "language_info": {
   "codemirror_mode": {
    "name": "ipython",
    "version": 3
   },
   "file_extension": ".py",
   "mimetype": "text/x-python",
   "name": "python",
   "nbconvert_exporter": "python",
   "pygments_lexer": "ipython3",
   "version": "3.8.12"
  },
  "orig_nbformat": 4
 },
 "nbformat": 4,
 "nbformat_minor": 2
}