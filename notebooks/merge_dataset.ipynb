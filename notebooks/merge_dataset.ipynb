{
 "cells": [
  {
   "cell_type": "code",
   "execution_count": null,
   "metadata": {
    "pycharm": {
     "name": "#%%\n"
    }
   },
   "outputs": [],
   "source": [
    "from pathlib import Path"
   ]
  },
  {
   "cell_type": "code",
   "execution_count": null,
   "metadata": {
    "pycharm": {
     "name": "#%%\n"
    }
   },
   "outputs": [],
   "source": [
    "annotations = [Path('/datagrid/personal/kuntluka/annotations/annotations2.json'), Path('/datagrid/personal/kuntluka/annotations/instances_default.json'),Path('/datagrid/personal/kuntluka/annotations/instances_default2.json')]\n",
    "blacklist = [2928, 2932, 3352, 3353, 3393, 3451, 3464, 3365, 3507, 3315]\n",
    "image_paths = [Path('/datagrid/personal/kuntluka/dental_merged/images'), Path('/datagrid/personal/kuntluka/Dental_RTG_7')]\n",
    "final_path = Path('/datagrid/personal/kuntluka/dental_rtg3/images')"
   ]
  },
  {
   "cell_type": "code",
   "execution_count": null,
   "metadata": {
    "pycharm": {
     "name": "#%%\n",
     "is_executing": true
    }
   },
   "outputs": [],
   "source": [
    "data = merge_datasets(annotations, image_paths, blacklist, final_path, merge_images=True)"
   ]
  },
  {
   "cell_type": "code",
   "execution_count": null,
   "metadata": {
    "pycharm": {
     "name": "#%%\n"
    }
   },
   "outputs": [],
   "source": [
    "with open('/datagrid/personal/kuntluka/dental_rtg3/annotations.json', 'w') as f:\n",
    "    json.dump(data, f)\n"
   ]
  },
  {
   "cell_type": "code",
   "execution_count": null,
   "metadata": {
    "pycharm": {
     "name": "#%%\n"
    }
   },
   "outputs": [],
   "source": [
    "import copy\n",
    "import json\n",
    "import shutil\n",
    "\n",
    "def merge_datasets(annoation_paths, image_paths, blacklist_imgs=[], merged_dataset_images_path=None, merge_annotations=True, merge_images=True):\n",
    "    '''\n",
    "    Merges coco dataset ignoring duplicit images. blacklist_imgs is list of img numbers\n",
    "    ''' \n",
    "    if merge_images and merged_dataset_images_path is None:\n",
    "        print(\"Do not know where to put merged images\")\n",
    "        return\n",
    "\n",
    "    with open(annoation_paths[0], 'r') as f:\n",
    "        data = json.load(f)\n",
    "\n",
    "    merged = {}\n",
    "    merged['categories'] = data['categories']\n",
    "    merged['images'] = []\n",
    "    merged['annotations'] = []\n",
    "\n",
    "    img_names = []\n",
    "\n",
    "    img_id = 0\n",
    "    ann_id = 0\n",
    "\n",
    "    for ann_path in annoation_paths:\n",
    "        with open(ann_path, 'r') as f:\n",
    "            data = json.load(f)\n",
    "        print(len(data['annotations']))\n",
    "        print(len(data['images']))\n",
    "        \n",
    "        for img in data['images']:\n",
    "            if '_' in img['file_name']:\n",
    "                img['file_name'] = img['file_name'].split('_')[1]\n",
    "            if img['file_name'] not in img_names and int(str(Path(img['file_name']).stem)) not in blacklist_imgs:\n",
    "                img_names.append(img['file_name'])\n",
    "            else:\n",
    "                continue\n",
    "            \n",
    "            old_id = img['id']\n",
    "            img['id'] = img_id\n",
    "            img_id += 1\n",
    "            merged['images'].append(img)\n",
    "            for ann in data['annotations']:\n",
    "                #only caries\n",
    "                if ann['category_id'] != 1:\n",
    "                    continue\n",
    "\n",
    "                if ann['image_id'] == old_id:\n",
    "                    ann_c = copy.deepcopy(ann)\n",
    "                    ann_c['id'] = ann_id\n",
    "                    ann_c['image_id'] = img['id']\n",
    "                    ann_id += 1\n",
    "                    merged['annotations'].append(ann_c)\n",
    "\n",
    "\n",
    "    if merge_images:\n",
    "        #check for duplicit image names\n",
    "        img_names = []\n",
    "        duplicit_img_names = []\n",
    "        for root in image_paths:\n",
    "            names = [x.name for x in root.iterdir()]\n",
    "            for name in names:\n",
    "                if name not in img_names:\n",
    "                    img_names.append(name)\n",
    "                else:\n",
    "                    duplicit_img_names.append(name)\n",
    "        if len(duplicit_img_names):\n",
    "            print(\"Found duplicit images\")\n",
    "            print(duplicit_img_names)\n",
    "\n",
    "        shutil.rmtree(merged_dataset_images_path)\n",
    "        merged_dataset_images_path.mkdir(parents=True)\n",
    "        img_names = []\n",
    "\n",
    "        for img_root in image_paths:\n",
    "            for img in img_root.iterdir():\n",
    "                if img.suffix not in ['.png', '.jpg', '.jpeg'] or int(str(img.stem)) in blacklist_imgs:\n",
    "                    continue\n",
    "                if img not in img_names:\n",
    "                    img_names.append(img)\n",
    "                else:\n",
    "                    continue\n",
    "                shutil.copy(str(img_root/img.name), str(merged_dataset_images_path / img.name))\n",
    "        print(f\"Target directory contains {len(list(merged_dataset_images_path.iterdir()))} images after merging\")\n",
    "\n",
    "    print(f\"The dataset contains: {len(merged['images'])} images and {len(merged['annotations'])} annotations\")\n",
    "    return merged"
   ]
  },
  {
   "cell_type": "code",
   "execution_count": null,
   "metadata": {
    "pycharm": {
     "name": "#%%\n"
    }
   },
   "outputs": [],
   "source": []
  }
 ],
 "metadata": {
  "interpreter": {
   "hash": "74074061a5ef2ed64485c40f2f7de4283553adc6eee1657083f9122aaed2c64f"
  },
  "kernelspec": {
   "display_name": "Python 3.8.13 ('det')",
   "language": "python",
   "name": "python3"
  },
  "language_info": {
   "codemirror_mode": {
    "name": "ipython",
    "version": 3
   },
   "file_extension": ".py",
   "mimetype": "text/x-python",
   "name": "python",
   "nbconvert_exporter": "python",
   "pygments_lexer": "ipython3",
   "version": "3.8.13"
  },
  "orig_nbformat": 4
 },
 "nbformat": 4,
 "nbformat_minor": 2
}