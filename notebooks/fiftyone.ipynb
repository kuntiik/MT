{
 "cells": [
  {
   "cell_type": "code",
   "execution_count": null,
   "metadata": {
    "pycharm": {
     "name": "#%%\n"
    }
   },
   "outputs": [],
   "source": [
    "import fiftyone as fo\n",
    "import json\n",
    "from pathlib import Path\n",
    "import fiftyone.utils.coco as fouc\n",
    "from PIL import Image\n",
    "from fiftyone import ViewField as F\n",
    "import numpy as np"
   ]
  },
  {
   "cell_type": "code",
   "execution_count": null,
   "metadata": {
    "pycharm": {
     "name": "#%%\n"
    }
   },
   "outputs": [],
   "source": [
    "\n",
    "name = 'dental_rtg_dataset'\n",
    "dataset = fo.load_dataset(name)\n",
    "dataset.delete()"
   ]
  },
  {
   "cell_type": "code",
   "execution_count": null,
   "metadata": {
    "pycharm": {
     "name": "#%%\n"
    }
   },
   "outputs": [],
   "source": [
    "name = 'dental_rtg_dataset'\n",
    "data_path = \"/datagrid/personal/kuntluka/dental_rtg3/images\"\n",
    "labels_path = \"/datagrid/personal/kuntluka/dental_rtg3/annotations.json\"\n",
    "dataset = fo.Dataset.from_dir(\n",
    "    dataset_type = fo.types.COCODetectionDataset,\n",
    "    data_path = data_path,\n",
    "    labels_path = labels_path,\n",
    "    name=name\n",
    ")\n"
   ]
  },
  {
   "cell_type": "code",
   "execution_count": null,
   "metadata": {
    "pycharm": {
     "name": "#%%\n"
    }
   },
   "outputs": [],
   "source": [
    "session = fo.launch_app(dataset,auto=False)"
   ]
  },
  {
   "cell_type": "code",
   "execution_count": null,
   "metadata": {
    "pycharm": {
     "name": "#%%\n"
    }
   },
   "outputs": [],
   "source": [
    "session.dataset = dataset\n"
   ]
  },
  {
   "cell_type": "code",
   "execution_count": null,
   "metadata": {
    "pycharm": {
     "name": "#%%\n"
    }
   },
   "outputs": [],
   "source": [
    "session.view = dataset.view()"
   ]
  },
  {
   "cell_type": "code",
   "execution_count": null,
   "metadata": {
    "pycharm": {
     "name": "#%%\n"
    }
   },
   "outputs": [],
   "source": [
    "with open('val_seg_names.json','r') as f:\n",
    "    filenames = json.load(f)"
   ]
  },
  {
   "cell_type": "code",
   "execution_count": null,
   "metadata": {
    "pycharm": {
     "name": "#%%\n"
    }
   },
   "outputs": [],
   "source": [
    "data = np.load('res_mask.npy')\n",
    "# np.min(data[0,:,:])\n",
    "data = data >= 0.5"
   ]
  },
  {
   "cell_type": "code",
   "execution_count": null,
   "metadata": {
    "pycharm": {
     "name": "#%%\n"
    }
   },
   "outputs": [],
   "source": [
    "data.shape"
   ]
  },
  {
   "cell_type": "code",
   "execution_count": null,
   "metadata": {
    "pycharm": {
     "name": "#%%\n"
    }
   },
   "outputs": [],
   "source": [
    "for i, m in enumerate(data):\n",
    "    f = str(i+1) + \".png\"\n",
    "    sample = dataset[str(Path(data_path)/f)]\n",
    "    sample['segmentation'] = fo.Segmentation(mask=m)\n",
    "    sample.tags.append('seg')\n",
    "    sample.save()\n",
    "    "
   ]
  },
  {
   "cell_type": "code",
   "execution_count": null,
   "metadata": {
    "pycharm": {
     "name": "#%%\n"
    }
   },
   "outputs": [],
   "source": [
    "m = np.zeros_like(data[0])"
   ]
  },
  {
   "cell_type": "code",
   "execution_count": null,
   "metadata": {
    "pycharm": {
     "name": "#%%\n"
    }
   },
   "outputs": [],
   "source": [
    "m[data[0]] = 2"
   ]
  },
  {
   "cell_type": "code",
   "execution_count": null,
   "metadata": {
    "pycharm": {
     "name": "#%%\n"
    }
   },
   "outputs": [],
   "source": [
    "s = fo.Segmentation(mask=m)"
   ]
  },
  {
   "cell_type": "code",
   "execution_count": null,
   "metadata": {
    "pycharm": {
     "name": "#%%\n"
    }
   },
   "outputs": [],
   "source": [
    "view = dataset.select_by(\"filepath\", str(Path(data_path)/'169.png'))"
   ]
  },
  {
   "cell_type": "code",
   "execution_count": null,
   "metadata": {
    "pycharm": {
     "name": "#%%\n"
    }
   },
   "outputs": [],
   "source": [
    "view = dataset[str(Path(data_path)/'150.png')]\n",
    "view['segmentation'] = s\n",
    "view.save()\n",
    "\n"
   ]
  },
  {
   "cell_type": "code",
   "execution_count": null,
   "metadata": {
    "pycharm": {
     "name": "#%%\n"
    }
   },
   "outputs": [],
   "source": [
    "for i in range(25):\n",
    "    test_v = dataset.match_tags('test')\n",
    "    test_v = test_v.filter_labels(pred_name, F('confidence')>0.294)\n",
    "    "
   ]
  },
  {
   "cell_type": "code",
   "execution_count": null,
   "metadata": {
    "pycharm": {
     "name": "#%%\n"
    }
   },
   "outputs": [],
   "source": [
    "pred_name = 'ens_all_mix'\n",
    "test_v = dataset.match_tags('train')\n",
    "test_v = test_v.filter_labels(pred_name, F('confidence')>0.294)\n",
    "results = test_v.evaluate_detections(\n",
    "    pred_name,\n",
    "    gt_field=\"ground_truth\",\n",
    "    iou=0.5,\n",
    "    \n",
    "    compute_mAP = True,\n",
    "    eval_key='None'\n",
    "    \n",
    ")\n",
    "results.print_report()"
   ]
  },
  {
   "cell_type": "code",
   "execution_count": null,
   "metadata": {
    "pycharm": {
     "name": "#%%\n"
    }
   },
   "outputs": [],
   "source": [
    "results.metrics()['recall']"
   ]
  },
  {
   "cell_type": "code",
   "execution_count": null,
   "metadata": {
    "pycharm": {
     "name": "#%%\n"
    }
   },
   "outputs": [],
   "source": [
    "match = (F('eval_ens_all_fn') + F('eval_ens_all_fp'))\n",
    "mistakes = dataset.match(match > 0)"
   ]
  },
  {
   "cell_type": "code",
   "execution_count": null,
   "metadata": {
    "pycharm": {
     "name": "#%%\n"
    }
   },
   "outputs": [],
   "source": [
    "results.confusion_matrix()\n",
    "# results.report()"
   ]
  },
  {
   "cell_type": "code",
   "execution_count": null,
   "metadata": {
    "pycharm": {
     "name": "#%%\n"
    }
   },
   "outputs": [],
   "source": [
    "session.view = mistakes.sort_by(match, reverse=True)"
   ]
  },
  {
   "cell_type": "code",
   "execution_count": null,
   "metadata": {
    "pycharm": {
     "name": "#%%\n"
    }
   },
   "outputs": [],
   "source": [
    "anno_key = \"p7\"\n",
    "\n",
    "label_schema = {\n",
    "    \"ground_truth\" : {\n",
    "        \"type\" : \"detections\",\n",
    "        \"classes\" : [\"decay\"]\n",
    "    },\n",
    "    \"retinanet_swint\" : {\n",
    "        \"type\" : \"detections\",\n",
    "        \"classes\" : [\"decay\"]\n",
    "    }\n",
    "}\n",
    "\n",
    "# Upload the samples and launch CVAT\n",
    "annot_res = mistakes[800:].annotate(\n",
    "    anno_key=anno_key,\n",
    "    label_schema=label_schema,\n",
    "    attributes=False,\n",
    "    image_quality=100,\n",
    "    segment_size=100\n",
    ")"
   ]
  },
  {
   "cell_type": "code",
   "execution_count": null,
   "metadata": {
    "pycharm": {
     "name": "#%%\n"
    }
   },
   "outputs": [],
   "source": [
    "def add_prediction(pred_dict, dataset, img_root, name, confidence_threshold=0):\n",
    "    # for sample in dataset:\n",
    "    det_id = 0\n",
    "    for pred_key, pred_value in pred_dict.items():\n",
    "        dets = []\n",
    "        # id = sample.id\n",
    "        path = img_root / pred_key\n",
    "        sample = dataset[str(path)]\n",
    "        s_id = sample.id\n",
    "        scores = pred_value['scores']\n",
    "        labels = pred_value['labels']\n",
    "        bboxes = pred_value['bboxes']\n",
    "        img = Image.open(path)\n",
    "        for box, score, label in zip(bboxes, scores, labels):\n",
    "            #TODO to limit confidence\n",
    "            if score < confidence_threshold:\n",
    "                continue\n",
    "            coco_obj = fouc.COCOObject(det_id, s_id, int(label), [box[0],box[1], box[2]-box[0], box[3]-box[1]], score=score)\n",
    "            det = coco_obj.to_detection(img.size, ['background','decay'])\n",
    "            dets.append(det)\n",
    "            det_id += 1\n",
    "        detection = fo.Detections(detections=dets)\n",
    "        sample[name] = detection\n",
    "        sample.tags.append(pred_value['stage'])\n",
    "#         sample.tags = [pred_value['stage']]\n",
    "        sample.save()"
   ]
  },
  {
   "cell_type": "code",
   "execution_count": null,
   "metadata": {
    "pycharm": {
     "name": "#%%\n"
    }
   },
   "outputs": [],
   "source": [
    "# names = ['faster_rcnn_res50','yolov5_medium','faster_rcnn_res101', 'yolov5_large', 'retinanet_swint', 'efficientdet_d4', 'retinanet_resnet50']\n",
    "names = ['predictions_3500']\n",
    "data_path = \"/datagrid/personal/kuntluka/dental_rtg3/images/\"\n",
    "for name in names:\n",
    "    with open('predictions_' + name + '.json', 'r') as json_file:\n",
    "        preds = json.load(json_file)\n",
    "    add_prediction(preds, dataset, Path(data_path), name)"
   ]
  },
  {
   "cell_type": "code",
   "execution_count": null,
   "metadata": {
    "pycharm": {
     "name": "#%%\n"
    }
   },
   "outputs": [],
   "source": [
    "with open('predictions_4000/predictions_retinanet_swint.json', 'r') as json_file:\n",
    "# with open('ens_yolomix_preds.json', 'r') as json_file:\n",
    "    preds = json.load(json_file)\n",
    "add_prediction(preds, dataset, Path(data_path), 'swint', confidence_threshold=0.01)"
   ]
  }
 ],
 "metadata": {
  "interpreter": {
   "hash": "2540b300559644401979982382605a5a8d5b33ec6a07c4f333955e3bcb81e8dd"
  },
  "kernelspec": {
   "display_name": "Python 3 (ipykernel)",
   "language": "python",
   "name": "python3"
  },
  "language_info": {
   "codemirror_mode": {
    "name": "ipython",
    "version": 3
   },
   "file_extension": ".py",
   "mimetype": "text/x-python",
   "name": "python",
   "nbconvert_exporter": "python",
   "pygments_lexer": "ipython3",
   "version": "3.9.5"
  }
 },
 "nbformat": 4,
 "nbformat_minor": 2
}