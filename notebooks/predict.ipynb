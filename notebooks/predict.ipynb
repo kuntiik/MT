{
 "cells": [
  {
   "cell_type": "code",
   "execution_count": null,
   "metadata": {
    "pycharm": {
     "name": "#%%\n"
    }
   },
   "outputs": [],
   "source": [
    "import hydra\n",
    "import pytorch_lightning as pl\n",
    "import torch\n",
    "from pathlib import Path\n",
    "import torch.nn as nn\n",
    "import src.utils.bbox_inverse_transform\n",
    "import albumentations as A\n",
    "from src.transforms.albumentations_adapter import Adapter\n",
    "import json\n",
    "from src.utils.conver_to_coco import to_coco\n",
    "from src.evaluation.prediction_evaluation import PredictionEval\n",
    "from src.utils.bbox_inverse_transform import predictions_to_fiftyone\n",
    "\n"
   ]
  },
  {
   "cell_type": "code",
   "execution_count": null,
   "metadata": {
    "pycharm": {
     "name": "#%%\n"
    }
   },
   "outputs": [],
   "source": [
    "weights_root = Path('/datagrid/personal/kuntluka/weights').rglob(\"**/*.ckpt\")\n",
    "f =list(weights_root)\n"
   ]
  },
  {
   "cell_type": "code",
   "execution_count": null,
   "metadata": {
    "pycharm": {
     "name": "#%%\n"
    }
   },
   "outputs": [],
   "source": [
    "#automaticaly get the model settings from checkpoint name\n",
    "def create_overrides_and_path(ckpt_name):\n",
    "    overrides = []\n",
    "    target_path = \"\"\n",
    "    if '/retinanet/' in ckpt_name:\n",
    "        overrides.append('module=retinanet')\n",
    "        target_path = Path('retinanet')\n",
    "\n",
    "    elif '/faster_rcnn/' in ckpt_name:\n",
    "        overrides.append('module=faster_rcnn')\n",
    "        target_path = Path('faster_rcnn')\n",
    "\n",
    "    elif '/yolov5/' in ckpt_name:\n",
    "        overrides.append('module=yolov5')\n",
    "        target_path = Path('yolov5')\n",
    "    \n",
    "    elif '/effdet/' in ckpt_name:\n",
    "        overrides.append('module=efficientdet')\n",
    "        target_path = Path('effdet')\n",
    "    \n",
    "    if '/medium_p6/' in ckpt_name:\n",
    "        overrides.append('module.backbone=medium_p6')\n",
    "        target_path = target_path / \"medium\"\n",
    "\n",
    "    if '/small_p6/' in ckpt_name:\n",
    "        overrides.append('module.backbone=small_p6')\n",
    "        target_path = target_path / \"small\"\n",
    "\n",
    "    elif '/large_p6/' in ckpt_name:\n",
    "        overrides.append('module.backbone=large_p6')\n",
    "        target_path = target_path / \"large\"\n",
    "\n",
    "    elif '/resnet101/' in ckpt_name:\n",
    "        overrides.append('module.backbone=resnet101_fpn_1x')\n",
    "        target_path = target_path / \"resnet101\"\n",
    "\n",
    "    elif '/resnet50/' in ckpt_name:\n",
    "        overrides.append('module.backbone=resnet50_fpn_1x')\n",
    "        target_path = target_path / \"resnet50\"\n",
    "\n",
    "    elif '/swint/' in ckpt_name:\n",
    "        overrides.append('module.backbone=swin_t_p4_w7_fpn_1x_coco')\n",
    "        target_path = target_path / \"swint\"\n",
    "\n",
    "    elif '/d0/' in ckpt_name:\n",
    "        overrides.append('module.backbone=d0')\n",
    "        target_path = target_path / \"d0\"\n",
    "    elif '/d1/' in ckpt_name:\n",
    "        overrides.append('module.backbone=d1')\n",
    "        target_path = target_path / \"d1\"\n",
    "    elif '/d2/' in ckpt_name:\n",
    "        overrides.append('module.backbone=d2')\n",
    "        target_path = target_path / \"d2\"\n",
    "    elif '/tf_d0/' in ckpt_name:\n",
    "        overrides.append('module.backbone=tf_d0')\n",
    "        target_path = target_path / \"tf_d0\"\n",
    "    elif '/tf_d3/' in ckpt_name:\n",
    "        overrides.append('module.backbone=tf_d3')\n",
    "        target_path = target_path / \"tf_d3\"\n",
    "\n",
    "    return overrides, target_path"
   ]
  },
  {
   "cell_type": "code",
   "execution_count": null,
   "metadata": {
    "pycharm": {
     "name": "#%%\n"
    }
   },
   "outputs": [],
   "source": [
    "def create_predictions_name(ckpt_name):\n",
    "    base_name = ckpt_name.split('_0.')[0]\n",
    "    name = 'predictions_' + base_name + '.json'\n",
    "    return name"
   ]
  },
  {
   "cell_type": "code",
   "execution_count": null,
   "metadata": {
    "pycharm": {
     "name": "#%%\n"
    }
   },
   "outputs": [],
   "source": [
    "#load the model based on the settings loaded\n",
    "overrides, name = create_overrides_and_path(str(f[0]))\n",
    "overrides.append('logger.wandb.project=inference')\n",
    "with hydra.initialize(config_path=\"configs\"):\n",
    "    cfg = hydra.compose(\n",
    "        config_name=\"train\",\n",
    "        overrides=overrides\n",
    "    )\n",
    "model = hydra.utils.instantiate(cfg.module.model)\n",
    "model.load_state_dict(torch.load(f[0], map_location='cpu')['state_dict'])"
   ]
  },
  {
   "cell_type": "code",
   "execution_count": null,
   "metadata": {
    "pycharm": {
     "name": "#%%\n"
    }
   },
   "outputs": [],
   "source": [
    "# there are sparse errors, when inference is done without any logger\n",
    "logger = []\n",
    "if \"logger\" in cfg:\n",
    "    for _, lg_conf in cfg.logger.items():\n",
    "        if \"_target_\" in lg_conf:\n",
    "            logger.append(hydra.utils.instantiate(lg_conf))"
   ]
  },
  {
   "cell_type": "code",
   "execution_count": null,
   "metadata": {
    "pycharm": {
     "name": "#%%\n"
    }
   },
   "outputs": [],
   "source": [
    "#do the inference\n",
    "statistics = dict(mean=0.3669, std=0.2768)\n",
    "trainer = hydra.utils.instantiate(cfg.trainer, logger=logger)\n",
    "composer = hydra.utils.instantiate(cfg.transforms, _recursive_=False)\n",
    "t, v = composer.train_val_transforms()\n",
    "v = Adapter([A.Resize(896,1024), A.Normalize(mean=statistics[\"mean\"], std=statistics[\"std\"])])\n",
    "dm = hydra.utils.instantiate(cfg.datamodule, train_transforms=v, val_transforms=v)\n",
    "dm.setup()"
   ]
  },
  {
   "cell_type": "code",
   "execution_count": null,
   "metadata": {
    "pycharm": {
     "name": "#%%\n"
    }
   },
   "outputs": [],
   "source": [
    "test_prediction = trainer.predict(model, dm.predict_dataloader('test'))\n",
    "val_prediction = trainer.predict(model, dm.predict_dataloader('val'))\n",
    "train_prediction = trainer.predict(model, dm.predict_dataloader('train'))"
   ]
  },
  {
   "cell_type": "code",
   "execution_count": null,
   "metadata": {
    "pycharm": {
     "name": "#%%\n"
    }
   },
   "outputs": [],
   "source": [
    "test_data = predictions_to_fiftyone(test_prediction, stage='test')\n",
    "val_data = predictions_to_fiftyone(val_prediction, stage='val')\n",
    "train_data = predictions_to_fiftyone(train_prediction, stage='train')\n",
    "data = {**test_data, **val_data, **train_data}\n"
   ]
  },
  {
   "cell_type": "code",
   "execution_count": null,
   "metadata": {
    "pycharm": {
     "name": "#%%\n"
    }
   },
   "outputs": [],
   "source": [
    "with open('metadata4000.json', 'r') as f:\n",
    "    meta_data = json.load(f)"
   ]
  },
  {
   "cell_type": "code",
   "execution_count": null,
   "metadata": {
    "pycharm": {
     "name": "#%%\n"
    }
   },
   "outputs": [],
   "source": [
    "#now evaluate the predictions\n",
    "ann_path = '/datagrid/personal/kuntluka/dental_rtg3/annotations.json'\n",
    "\n",
    "with open(ann_path, 'r') as f:\n",
    "    ann_file = json.load(f)"
   ]
  },
  {
   "cell_type": "code",
   "execution_count": null,
   "metadata": {
    "pycharm": {
     "name": "#%%\n"
    }
   },
   "outputs": [],
   "source": [
    "data_path = Path('predictions/retinanet/swint/0.723.json')\n",
    "with open(data_path, 'r') as f:\n",
    "    data = json.load(f)\n",
    "\n",
    "preds_coco, names = to_coco(data, ann_file)\n",
    "pred_eval = PredictionEval()\n",
    "pred_eval.load_data_coco_files(ann_path, preds_coco, names)\n",
    "pred_eval.get_data('')"
   ]
  },
  {
   "cell_type": "code",
   "execution_count": null,
   "metadata": {
    "pycharm": {
     "name": "#%%\n"
    }
   },
   "outputs": [],
   "source": [
    "map50 = pred_eval.map_query(stage='test')"
   ]
  },
  {
   "cell_type": "code",
   "execution_count": null,
   "metadata": {
    "pycharm": {
     "name": "#%%\n"
    }
   },
   "outputs": [],
   "source": [
    "map50 = round(map50,3)"
   ]
  }
 ],
 "metadata": {
  "interpreter": {
   "hash": "dbe21a925ef5e9e252762f4d5a2a53866ff1bba2868f4ab01984a4b043a519cc"
  },
  "kernelspec": {
   "display_name": "Python 3.8.12 ('mt')",
   "language": "python",
   "name": "python3"
  },
  "language_info": {
   "codemirror_mode": {
    "name": "ipython",
    "version": 3
   },
   "file_extension": ".py",
   "mimetype": "text/x-python",
   "name": "python",
   "nbconvert_exporter": "python",
   "pygments_lexer": "ipython3",
   "version": "3.8.12"
  },
  "orig_nbformat": 4
 },
 "nbformat": 4,
 "nbformat_minor": 2
}