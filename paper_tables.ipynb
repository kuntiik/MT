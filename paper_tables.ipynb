{
 "cells": [
  {
   "cell_type": "code",
   "execution_count": 1,
   "metadata": {
    "collapsed": true
   },
   "outputs": [
    {
     "name": "stderr",
     "output_type": "stream",
     "text": [
      "Module `mt.models.efficientdet.model` requires the module `effdet`. You can install it using this command: Unknown module: You can try `poetry install --all-extras`.\n",
      "Module `mt.models.yolov5.model` requires the module `yolov5`. You can install it using this command: `poetry install -E yolov5`.\n",
      "Module `mt.models.yolov5.prediction` requires the module `yolov5`. You can install it using this command: `poetry install -E yolov5`.\n"
     ]
    },
    {
     "ename": "ModuleNotFoundError",
     "evalue": "No module named 'effdet'",
     "output_type": "error",
     "traceback": [
      "\u001B[0;31m---------------------------------------------------------------------------\u001B[0m",
      "\u001B[0;31mModuleNotFoundError\u001B[0m                       Traceback (most recent call last)",
      "Cell \u001B[0;32mIn[1], line 1\u001B[0m\n\u001B[0;32m----> 1\u001B[0m \u001B[38;5;28;01mimport\u001B[39;00m \u001B[38;5;21;01mmt\u001B[39;00m\n",
      "File \u001B[0;32m~/dev/MT/mt/__init__.py:2\u001B[0m\n\u001B[1;32m      1\u001B[0m \u001B[38;5;28;01mimport\u001B[39;00m \u001B[38;5;21;01mmt\u001B[39;00m\u001B[38;5;21;01m.\u001B[39;00m\u001B[38;5;21;01mmodels\u001B[39;00m\n\u001B[0;32m----> 2\u001B[0m \u001B[38;5;28;01mimport\u001B[39;00m \u001B[38;5;21;01mmt\u001B[39;00m\u001B[38;5;21;01m.\u001B[39;00m\u001B[38;5;21;01mmodules\u001B[39;00m\n",
      "File \u001B[0;32m~/dev/MT/mt/modules/__init__.py:1\u001B[0m\n\u001B[0;32m----> 1\u001B[0m \u001B[38;5;28;01mfrom\u001B[39;00m \u001B[38;5;21;01mmt\u001B[39;00m\u001B[38;5;21;01m.\u001B[39;00m\u001B[38;5;21;01mmodules\u001B[39;00m\u001B[38;5;21;01m.\u001B[39;00m\u001B[38;5;21;01mefficientdet\u001B[39;00m \u001B[38;5;28;01mimport\u001B[39;00m EfficientDetModule\n\u001B[1;32m      2\u001B[0m \u001B[38;5;28;01mfrom\u001B[39;00m \u001B[38;5;21;01mmt\u001B[39;00m\u001B[38;5;21;01m.\u001B[39;00m\u001B[38;5;21;01mmodules\u001B[39;00m\u001B[38;5;21;01m.\u001B[39;00m\u001B[38;5;21;01myolov5\u001B[39;00m \u001B[38;5;28;01mimport\u001B[39;00m YoloV5Module\n\u001B[1;32m      3\u001B[0m \u001B[38;5;28;01mfrom\u001B[39;00m \u001B[38;5;21;01mmt\u001B[39;00m\u001B[38;5;21;01m.\u001B[39;00m\u001B[38;5;21;01mmodules\u001B[39;00m\u001B[38;5;21;01m.\u001B[39;00m\u001B[38;5;21;01mmmdet_adapter\u001B[39;00m \u001B[38;5;28;01mimport\u001B[39;00m MMDetModelAdapter\n",
      "File \u001B[0;32m~/dev/MT/mt/modules/efficientdet.py:11\u001B[0m\n\u001B[1;32m      9\u001B[0m \u001B[38;5;28;01mimport\u001B[39;00m \u001B[38;5;21;01mmt\u001B[39;00m\u001B[38;5;21;01m.\u001B[39;00m\u001B[38;5;21;01mmodels\u001B[39;00m\u001B[38;5;21;01m.\u001B[39;00m\u001B[38;5;21;01mefficientdet\u001B[39;00m \u001B[38;5;28;01mas\u001B[39;00m \u001B[38;5;21;01mefficientdet\u001B[39;00m\n\u001B[1;32m     10\u001B[0m \u001B[38;5;28;01mfrom\u001B[39;00m \u001B[38;5;21;01mtorch\u001B[39;00m\u001B[38;5;21;01m.\u001B[39;00m\u001B[38;5;21;01moptim\u001B[39;00m \u001B[38;5;28;01mimport\u001B[39;00m Adam, SGD, AdamW\n\u001B[0;32m---> 11\u001B[0m \u001B[38;5;28;01mfrom\u001B[39;00m \u001B[38;5;21;01meffdet\u001B[39;00m \u001B[38;5;28;01mimport\u001B[39;00m DetBenchPredict, unwrap_bench\n\u001B[1;32m     13\u001B[0m \u001B[38;5;28;01mfrom\u001B[39;00m \u001B[38;5;21;01mmt\u001B[39;00m\u001B[38;5;21;01m.\u001B[39;00m\u001B[38;5;21;01mcore\u001B[39;00m\u001B[38;5;21;01m.\u001B[39;00m\u001B[38;5;21;01mconvertions\u001B[39;00m \u001B[38;5;28;01mimport\u001B[39;00m preds2dicts\n\u001B[1;32m     14\u001B[0m \u001B[38;5;28;01mfrom\u001B[39;00m \u001B[38;5;21;01mmt\u001B[39;00m\u001B[38;5;21;01m.\u001B[39;00m\u001B[38;5;21;01mmetrics\u001B[39;00m\u001B[38;5;21;01m.\u001B[39;00m\u001B[38;5;21;01mcoco_metric\u001B[39;00m \u001B[38;5;28;01mimport\u001B[39;00m COCOMetric, COCOMetricType\n",
      "\u001B[0;31mModuleNotFoundError\u001B[0m: No module named 'effdet'"
     ]
    }
   ],
   "source": [
    "import mt"
   ]
  },
  {
   "cell_type": "code",
   "execution_count": 3,
   "outputs": [
    {
     "name": "stderr",
     "output_type": "stream",
     "text": [
      "Module `mt.modules.efficientdet` requires the module `mt`. You can install it using this command: Unknown module: You can try `poetry install --all-extras`.\n",
      "Module `mt.modules.yolov5` requires the module `yolov5`. You can install it using this command: `poetry install -E yolov5`.\n",
      "Module `mt.models.mmdet.common.utils` requires the module `mmdet`. You can install it using this command: `poe install-mmlab-all`.\n",
      "Module `mt.models.mmdet.common.backbone_config` requires the module `mmdet`. You can install it using this command: `poe install-mmlab-all`.\n",
      "\u001B[1m\u001B[1mINFO    \u001B[0m\u001B[1m\u001B[0m - \u001B[1mThe mmdet config folder already exists. No need to downloaded it. Path : /home/kuntik/.mt/mmdetection_configs/mmdetection_configs-2.20.1/configs\u001B[0m | \u001B[36mmt.models.mmdet.common.download_config\u001B[0m:\u001B[36mdownload_mmdet_configs\u001B[0m:\u001B[36m21\u001B[0m\n"
     ]
    },
    {
     "name": "stdout",
     "output_type": "stream",
     "text": [
      "The autoreload extension is already loaded. To reload it, use:\n",
      "  %reload_ext autoreload\n"
     ]
    }
   ],
   "source": [
    "%matplotlib inline\n",
    "%load_ext autoreload\n",
    "%autoreload 2\n",
    "\n",
    "from pathlib import Path\n",
    "import os\n",
    "import sys\n",
    "module_path = os.path.abspath(os.path.join('..'))\n",
    "if module_path not in sys.path:\n",
    "    sys.path.append(module_path)\n",
    "\n",
    "from pathlib import Path\n",
    "from mt.evaluation.prediction_evaluation import PredictionEval\n",
    "from mt.utils.conver_to_coco import to_coco"
   ],
   "metadata": {
    "collapsed": false,
    "ExecuteTime": {
     "start_time": "2023-03-26T23:16:52.647064Z",
     "end_time": "2023-03-26T23:16:52.699019Z"
    }
   }
  },
  {
   "cell_type": "code",
   "execution_count": 4,
   "outputs": [],
   "source": [
    "root_path = Path('/home/kuntik/dev/datasets/dental_data')\n",
    "ds_path = root_path / 'caries6.json'\n",
    "test_ds_path = root_path / 'test_annotations_ordered.json'\n",
    "best_ensemble_path = root_path / 'filtered_ens_all.json'\n",
    "\n",
    "names = ['YOLOv5-S', 'YOLOv5-M', 'YOLOv5-L', 'RetinaNet-R50', 'RetinaNet-R101', 'RetinaNet-SwinT', 'FasterRCNN-R50', 'FasterRCNN-R101', 'EfficientDet-D0', 'EfficientDet-D1', 'EfficientDet-D4']\n",
    "data_root = Path('../dental_data/preds')\n",
    "data_path = [ 'yolov5/small/0.773.json',  'yolov5/medium/0.808.json',  'yolov5/large/0.815.json',  'retinanet/resnet50/0.814.json',\n",
    "               'retinanet/resnet101/0.789.json',  'retinanet/swint/0.827.json',  'faster_rcnn/resnet50/0.801.json',  'faster_rcnn/resnet101/0.791.json',\n",
    "                'd0/0.762.json', 'd1/0.792.json', 'd4/0.742.json'\n",
    "            ]\n",
    "full_data_path = [data_root / p for p in data_path]"
   ],
   "metadata": {
    "collapsed": false,
    "ExecuteTime": {
     "start_time": "2023-03-26T23:20:07.927658Z",
     "end_time": "2023-03-26T23:20:07.961316Z"
    }
   }
  },
  {
   "cell_type": "code",
   "execution_count": 6,
   "outputs": [
    {
     "name": "stdout",
     "output_type": "stream",
     "text": [
      "loading annotations into memory...\n",
      "Done (t=0.02s)\n",
      "creating index...\n",
      "index created!\n",
      "Loading and preparing results...\n",
      "DONE (t=0.12s)\n",
      "creating index...\n",
      "index created!\n"
     ]
    }
   ],
   "source": [
    "import json\n",
    "\n",
    "with open(root_path / 'preds/ensembles/ens_yoloM.json', 'r') as f:\n",
    "    data = json.load(f)\n",
    "\n",
    "with open(ds_path, 'r') as f:\n",
    "    ann_data = json.load(f)\n",
    "\n",
    "preds_coco, names = to_coco(data, ann_data)\n",
    "eval = PredictionEval()\n",
    "eval.load_data_coco_files(ds_path, preds_coco, names)"
   ],
   "metadata": {
    "collapsed": false,
    "ExecuteTime": {
     "start_time": "2023-03-26T23:21:57.247225Z",
     "end_time": "2023-03-26T23:21:57.676975Z"
    }
   }
  },
  {
   "cell_type": "code",
   "execution_count": 10,
   "outputs": [
    {
     "name": "stdout",
     "output_type": "stream",
     "text": [
      "Running per image evaluation...\n",
      "DONE (t=0.44s).\n",
      "Accumulating evaluation results...\n",
      "DONE (t=0.12s).\n",
      " Average Precision  (AP) @[ IoU=0.05:0.95 | area=   all | maxDets=100 ] = 0.434\n",
      " Average Precision  (AP) @[ IoU=0.30      | area=   all | maxDets=100 ] = 0.879\n",
      " Average Precision  (AP) @[ IoU=0.50      | area=   all | maxDets=100 ] = 0.841\n",
      " Average Precision  (AP) @[ IoU=0.75      | area=   all | maxDets=100 ] = 0.390\n",
      " Average Precision  (AP) @[ IoU=0.50      | area= small | maxDets=100 ] = 0.814\n",
      " Average Precision  (AP) @[ IoU=0.50      | area=medium | maxDets=100 ] = 0.862\n",
      " Average Precision  (AP) @[ IoU=0.50      | area= large | maxDets=100 ] = 0.804\n"
     ]
    },
    {
     "data": {
      "text/plain": "' & 0.434& 0.879 & 0.841 & 0.39 & 0.814 & 0.862 & 0.804 \\\\ \\\\hline'"
     },
     "execution_count": 10,
     "metadata": {},
     "output_type": "execute_result"
    }
   ],
   "source": [
    "eval.get_latex_table(stage='test')"
   ],
   "metadata": {
    "collapsed": false,
    "ExecuteTime": {
     "start_time": "2023-03-26T23:24:26.897974Z",
     "end_time": "2023-03-26T23:24:27.478395Z"
    }
   }
  },
  {
   "cell_type": "code",
   "execution_count": 16,
   "outputs": [
    {
     "name": "stdout",
     "output_type": "stream",
     "text": [
      "Running per image evaluation...\n",
      "DONE (t=0.43s).\n",
      "Accumulating evaluation results...\n",
      "DONE (t=0.12s).\n"
     ]
    },
    {
     "data": {
      "text/plain": "{'precision': 0.808, 'recall': 0.77, 'fscore': 0.788, 'confidence': 0.276}"
     },
     "execution_count": 16,
     "metadata": {},
     "output_type": "execute_result"
    }
   ],
   "source": [
    "eval.results_maximizing_fscore(stage='test')"
   ],
   "metadata": {
    "collapsed": false,
    "ExecuteTime": {
     "start_time": "2023-03-26T23:24:48.517112Z",
     "end_time": "2023-03-26T23:24:49.093358Z"
    }
   }
  },
  {
   "cell_type": "code",
   "execution_count": null,
   "outputs": [],
   "source": [],
   "metadata": {
    "collapsed": false
   }
  }
 ],
 "metadata": {
  "kernelspec": {
   "display_name": "Python 3",
   "language": "python",
   "name": "python3"
  },
  "language_info": {
   "codemirror_mode": {
    "name": "ipython",
    "version": 2
   },
   "file_extension": ".py",
   "mimetype": "text/x-python",
   "name": "python",
   "nbconvert_exporter": "python",
   "pygments_lexer": "ipython2",
   "version": "2.7.6"
  }
 },
 "nbformat": 4,
 "nbformat_minor": 0
}
