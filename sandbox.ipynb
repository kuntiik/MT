{
 "cells": [
  {
   "cell_type": "code",
   "execution_count": 1,
   "metadata": {
    "collapsed": true
   },
   "outputs": [],
   "source": [
    "import torchvision"
   ]
  },
  {
   "cell_type": "code",
   "execution_count": 4,
   "outputs": [],
   "source": [
    "from src.lightning_modules.models.efficientdet.model import *"
   ],
   "metadata": {
    "collapsed": false,
    "pycharm": {
     "name": "#%%\n"
    }
   }
  },
  {
   "cell_type": "code",
   "execution_count": 1,
   "outputs": [],
   "source": [
    "import hydra"
   ],
   "metadata": {
    "collapsed": false,
    "pycharm": {
     "name": "#%%\n"
    }
   }
  },
  {
   "cell_type": "code",
   "execution_count": 5,
   "outputs": [],
   "source": [
    "import effdet"
   ],
   "metadata": {
    "collapsed": false,
    "pycharm": {
     "name": "#%%\n"
    }
   }
  },
  {
   "cell_type": "code",
   "execution_count": 13,
   "outputs": [],
   "source": [
    "import src\n",
    "# import src.lightning_modules"
   ],
   "metadata": {
    "collapsed": false,
    "pycharm": {
     "name": "#%%\n"
    }
   }
  },
  {
   "cell_type": "code",
   "execution_count": 14,
   "outputs": [
    {
     "data": {
      "text/plain": "<module 'src.lightning_modules' (namespace)>"
     },
     "execution_count": 14,
     "metadata": {},
     "output_type": "execute_result"
    }
   ],
   "source": [
    "getattr(src, 'lightning_modules')"
   ],
   "metadata": {
    "collapsed": false,
    "pycharm": {
     "name": "#%%\n"
    }
   }
  },
  {
   "cell_type": "code",
   "execution_count": 4,
   "outputs": [],
   "source": [
    "from hydra import compose, initialize\n",
    "from omegaconf import OmegaConf"
   ],
   "metadata": {
    "collapsed": false,
    "pycharm": {
     "name": "#%%\n"
    }
   }
  },
  {
   "cell_type": "code",
   "execution_count": 12,
   "outputs": [
    {
     "name": "stdout",
     "output_type": "stream",
     "text": [
      "model_type: efficientdet\n",
      "backbone: tf_d4\n",
      "img_size: 1024\n",
      "model:\n",
      "  _target_: src.lightning_modules.efficientdet.EfficientDetModule\n",
      "  model:\n",
      "    _target_: src.lightning_modules.models.efficientdet.model\n",
      "    backbone:\n",
      "      _target_: src.lightning_modules.models.efficientdet.backbones.${backbone}\n",
      "      pretrained: 0\n",
      "    num_classes: 2\n",
      "    img_size: ${module.img_size}\n",
      "  learning_rate: 0.0001\n",
      "  optimizer: adam\n",
      "  weight_decay: 1.0e-06\n",
      "\n"
     ]
    }
   ],
   "source": [
    "with initialize(config_path=\"configs/module\"):\n",
    "    cfg = compose(config_name='efficientdet')\n",
    "    print(OmegaConf.to_yaml(cfg))"
   ],
   "metadata": {
    "collapsed": false,
    "pycharm": {
     "name": "#%%\n"
    }
   }
  },
  {
   "cell_type": "code",
   "execution_count": 14,
   "outputs": [
    {
     "ename": "InterpolationKeyError",
     "evalue": "Interpolation key 'module.img_size' not found",
     "output_type": "error",
     "traceback": [
      "\u001B[0;31m---------------------------------------------------------------------------\u001B[0m",
      "\u001B[0;31mInterpolationKeyError\u001B[0m                     Traceback (most recent call last)",
      "Input \u001B[0;32mIn [14]\u001B[0m, in \u001B[0;36m<cell line: 1>\u001B[0;34m()\u001B[0m\n\u001B[0;32m----> 1\u001B[0m \u001B[43mhydra\u001B[49m\u001B[38;5;241;43m.\u001B[39;49m\u001B[43mutils\u001B[49m\u001B[38;5;241;43m.\u001B[39;49m\u001B[43minstantiate\u001B[49m\u001B[43m(\u001B[49m\u001B[43mcfg\u001B[49m\u001B[38;5;241;43m.\u001B[39;49m\u001B[43mmodel\u001B[49m\u001B[38;5;241;43m.\u001B[39;49m\u001B[43mmodel\u001B[49m\u001B[43m)\u001B[49m\n",
      "File \u001B[0;32m~/miniconda3/envs/mt3/lib/python3.9/site-packages/hydra/_internal/instantiate/_instantiate2.py:175\u001B[0m, in \u001B[0;36minstantiate\u001B[0;34m(config, *args, **kwargs)\u001B[0m\n\u001B[1;32m    172\u001B[0m \u001B[38;5;28;01mif\u001B[39;00m kwargs:\n\u001B[1;32m    173\u001B[0m     config \u001B[38;5;241m=\u001B[39m OmegaConf\u001B[38;5;241m.\u001B[39mmerge(config, kwargs)\n\u001B[0;32m--> 175\u001B[0m \u001B[43mOmegaConf\u001B[49m\u001B[38;5;241;43m.\u001B[39;49m\u001B[43mresolve\u001B[49m\u001B[43m(\u001B[49m\u001B[43mconfig\u001B[49m\u001B[43m)\u001B[49m\n\u001B[1;32m    177\u001B[0m _recursive_ \u001B[38;5;241m=\u001B[39m config\u001B[38;5;241m.\u001B[39mpop(_Keys\u001B[38;5;241m.\u001B[39mRECURSIVE, \u001B[38;5;28;01mTrue\u001B[39;00m)\n\u001B[1;32m    178\u001B[0m _convert_ \u001B[38;5;241m=\u001B[39m config\u001B[38;5;241m.\u001B[39mpop(_Keys\u001B[38;5;241m.\u001B[39mCONVERT, ConvertMode\u001B[38;5;241m.\u001B[39mNONE)\n",
      "File \u001B[0;32m~/miniconda3/envs/mt3/lib/python3.9/site-packages/omegaconf/omegaconf.py:792\u001B[0m, in \u001B[0;36mOmegaConf.resolve\u001B[0;34m(cfg)\u001B[0m\n\u001B[1;32m    786\u001B[0m \u001B[38;5;28;01mif\u001B[39;00m \u001B[38;5;129;01mnot\u001B[39;00m OmegaConf\u001B[38;5;241m.\u001B[39mis_config(cfg):\n\u001B[1;32m    787\u001B[0m     \u001B[38;5;66;03m# Since this function is mutating the input object in-place, it doesn't make sense to\u001B[39;00m\n\u001B[1;32m    788\u001B[0m     \u001B[38;5;66;03m# auto-convert the input object to an OmegaConf container\u001B[39;00m\n\u001B[1;32m    789\u001B[0m     \u001B[38;5;28;01mraise\u001B[39;00m \u001B[38;5;167;01mValueError\u001B[39;00m(\n\u001B[1;32m    790\u001B[0m         \u001B[38;5;124mf\u001B[39m\u001B[38;5;124m\"\u001B[39m\u001B[38;5;124mInvalid config type (\u001B[39m\u001B[38;5;132;01m{\u001B[39;00m\u001B[38;5;28mtype\u001B[39m(cfg)\u001B[38;5;241m.\u001B[39m\u001B[38;5;18m__name__\u001B[39m\u001B[38;5;132;01m}\u001B[39;00m\u001B[38;5;124m), expected an OmegaConf Container\u001B[39m\u001B[38;5;124m\"\u001B[39m\n\u001B[1;32m    791\u001B[0m     )\n\u001B[0;32m--> 792\u001B[0m \u001B[43momegaconf\u001B[49m\u001B[38;5;241;43m.\u001B[39;49m\u001B[43m_impl\u001B[49m\u001B[38;5;241;43m.\u001B[39;49m\u001B[43m_resolve\u001B[49m\u001B[43m(\u001B[49m\u001B[43mcfg\u001B[49m\u001B[43m)\u001B[49m\n",
      "File \u001B[0;32m~/miniconda3/envs/mt3/lib/python3.9/site-packages/omegaconf/_impl.py:40\u001B[0m, in \u001B[0;36m_resolve\u001B[0;34m(cfg)\u001B[0m\n\u001B[1;32m     38\u001B[0m \u001B[38;5;28;01mif\u001B[39;00m \u001B[38;5;28misinstance\u001B[39m(cfg, DictConfig):\n\u001B[1;32m     39\u001B[0m     \u001B[38;5;28;01mfor\u001B[39;00m k \u001B[38;5;129;01min\u001B[39;00m cfg\u001B[38;5;241m.\u001B[39mkeys():\n\u001B[0;32m---> 40\u001B[0m         \u001B[43m_resolve_container_value\u001B[49m\u001B[43m(\u001B[49m\u001B[43mcfg\u001B[49m\u001B[43m,\u001B[49m\u001B[43m \u001B[49m\u001B[43mk\u001B[49m\u001B[43m)\u001B[49m\n\u001B[1;32m     42\u001B[0m \u001B[38;5;28;01melif\u001B[39;00m \u001B[38;5;28misinstance\u001B[39m(cfg, ListConfig):\n\u001B[1;32m     43\u001B[0m     \u001B[38;5;28;01mfor\u001B[39;00m i \u001B[38;5;129;01min\u001B[39;00m \u001B[38;5;28mrange\u001B[39m(\u001B[38;5;28mlen\u001B[39m(cfg)):\n",
      "File \u001B[0;32m~/miniconda3/envs/mt3/lib/python3.9/site-packages/omegaconf/_impl.py:14\u001B[0m, in \u001B[0;36m_resolve_container_value\u001B[0;34m(cfg, key)\u001B[0m\n\u001B[1;32m     12\u001B[0m \u001B[38;5;28;01mif\u001B[39;00m node\u001B[38;5;241m.\u001B[39m_is_interpolation():\n\u001B[1;32m     13\u001B[0m     \u001B[38;5;28;01mtry\u001B[39;00m:\n\u001B[0;32m---> 14\u001B[0m         resolved \u001B[38;5;241m=\u001B[39m \u001B[43mnode\u001B[49m\u001B[38;5;241;43m.\u001B[39;49m\u001B[43m_dereference_node\u001B[49m\u001B[43m(\u001B[49m\u001B[43m)\u001B[49m\n\u001B[1;32m     15\u001B[0m     \u001B[38;5;28;01mexcept\u001B[39;00m InterpolationToMissingValueError:\n\u001B[1;32m     16\u001B[0m         node\u001B[38;5;241m.\u001B[39m_set_value(MISSING)\n",
      "File \u001B[0;32m~/miniconda3/envs/mt3/lib/python3.9/site-packages/omegaconf/base.py:205\u001B[0m, in \u001B[0;36mNode._dereference_node\u001B[0;34m(self)\u001B[0m\n\u001B[1;32m    204\u001B[0m \u001B[38;5;28;01mdef\u001B[39;00m \u001B[38;5;21m_dereference_node\u001B[39m(\u001B[38;5;28mself\u001B[39m) \u001B[38;5;241m-\u001B[39m\u001B[38;5;241m>\u001B[39m \u001B[38;5;124m\"\u001B[39m\u001B[38;5;124mNode\u001B[39m\u001B[38;5;124m\"\u001B[39m:\n\u001B[0;32m--> 205\u001B[0m     node \u001B[38;5;241m=\u001B[39m \u001B[38;5;28;43mself\u001B[39;49m\u001B[38;5;241;43m.\u001B[39;49m\u001B[43m_dereference_node_impl\u001B[49m\u001B[43m(\u001B[49m\u001B[43mthrow_on_resolution_failure\u001B[49m\u001B[38;5;241;43m=\u001B[39;49m\u001B[38;5;28;43;01mTrue\u001B[39;49;00m\u001B[43m)\u001B[49m\n\u001B[1;32m    206\u001B[0m     \u001B[38;5;28;01massert\u001B[39;00m node \u001B[38;5;129;01mis\u001B[39;00m \u001B[38;5;129;01mnot\u001B[39;00m \u001B[38;5;28;01mNone\u001B[39;00m\n\u001B[1;32m    207\u001B[0m     \u001B[38;5;28;01mreturn\u001B[39;00m node\n",
      "File \u001B[0;32m~/miniconda3/envs/mt3/lib/python3.9/site-packages/omegaconf/base.py:236\u001B[0m, in \u001B[0;36mNode._dereference_node_impl\u001B[0;34m(self, throw_on_resolution_failure, memo)\u001B[0m\n\u001B[1;32m    234\u001B[0m \u001B[38;5;28;01massert\u001B[39;00m parent \u001B[38;5;129;01mis\u001B[39;00m \u001B[38;5;129;01mnot\u001B[39;00m \u001B[38;5;28;01mNone\u001B[39;00m\n\u001B[1;32m    235\u001B[0m key \u001B[38;5;241m=\u001B[39m \u001B[38;5;28mself\u001B[39m\u001B[38;5;241m.\u001B[39m_key()\n\u001B[0;32m--> 236\u001B[0m \u001B[38;5;28;01mreturn\u001B[39;00m \u001B[43mparent\u001B[49m\u001B[38;5;241;43m.\u001B[39;49m\u001B[43m_resolve_interpolation_from_parse_tree\u001B[49m\u001B[43m(\u001B[49m\n\u001B[1;32m    237\u001B[0m \u001B[43m    \u001B[49m\u001B[43mparent\u001B[49m\u001B[38;5;241;43m=\u001B[39;49m\u001B[43mparent\u001B[49m\u001B[43m,\u001B[49m\n\u001B[1;32m    238\u001B[0m \u001B[43m    \u001B[49m\u001B[43mkey\u001B[49m\u001B[38;5;241;43m=\u001B[39;49m\u001B[43mkey\u001B[49m\u001B[43m,\u001B[49m\n\u001B[1;32m    239\u001B[0m \u001B[43m    \u001B[49m\u001B[43mvalue\u001B[49m\u001B[38;5;241;43m=\u001B[39;49m\u001B[38;5;28;43mself\u001B[39;49m\u001B[43m,\u001B[49m\n\u001B[1;32m    240\u001B[0m \u001B[43m    \u001B[49m\u001B[43mparse_tree\u001B[49m\u001B[38;5;241;43m=\u001B[39;49m\u001B[43mparse\u001B[49m\u001B[43m(\u001B[49m\u001B[43m_get_value\u001B[49m\u001B[43m(\u001B[49m\u001B[38;5;28;43mself\u001B[39;49m\u001B[43m)\u001B[49m\u001B[43m)\u001B[49m\u001B[43m,\u001B[49m\n\u001B[1;32m    241\u001B[0m \u001B[43m    \u001B[49m\u001B[43mthrow_on_resolution_failure\u001B[49m\u001B[38;5;241;43m=\u001B[39;49m\u001B[43mthrow_on_resolution_failure\u001B[49m\u001B[43m,\u001B[49m\n\u001B[1;32m    242\u001B[0m \u001B[43m    \u001B[49m\u001B[43mmemo\u001B[49m\u001B[38;5;241;43m=\u001B[39;49m\u001B[43mmemo\u001B[49m\u001B[43m,\u001B[49m\n\u001B[1;32m    243\u001B[0m \u001B[43m\u001B[49m\u001B[43m)\u001B[49m\n",
      "File \u001B[0;32m~/miniconda3/envs/mt3/lib/python3.9/site-packages/omegaconf/base.py:482\u001B[0m, in \u001B[0;36mContainer._resolve_interpolation_from_parse_tree\u001B[0;34m(self, parent, value, key, parse_tree, throw_on_resolution_failure, memo)\u001B[0m\n\u001B[1;32m    452\u001B[0m \u001B[38;5;124;03m\"\"\"\u001B[39;00m\n\u001B[1;32m    453\u001B[0m \u001B[38;5;124;03mResolve an interpolation.\u001B[39;00m\n\u001B[1;32m    454\u001B[0m \n\u001B[0;32m   (...)\u001B[0m\n\u001B[1;32m    478\u001B[0m \u001B[38;5;124;03m    `throw_on_resolution_failure` is `False` and an error occurs during resolution.\u001B[39;00m\n\u001B[1;32m    479\u001B[0m \u001B[38;5;124;03m\"\"\"\u001B[39;00m\n\u001B[1;32m    481\u001B[0m \u001B[38;5;28;01mtry\u001B[39;00m:\n\u001B[0;32m--> 482\u001B[0m     resolved \u001B[38;5;241m=\u001B[39m \u001B[38;5;28;43mself\u001B[39;49m\u001B[38;5;241;43m.\u001B[39;49m\u001B[43mresolve_parse_tree\u001B[49m\u001B[43m(\u001B[49m\n\u001B[1;32m    483\u001B[0m \u001B[43m        \u001B[49m\u001B[43mparse_tree\u001B[49m\u001B[38;5;241;43m=\u001B[39;49m\u001B[43mparse_tree\u001B[49m\u001B[43m,\u001B[49m\u001B[43m \u001B[49m\u001B[43mnode\u001B[49m\u001B[38;5;241;43m=\u001B[39;49m\u001B[43mvalue\u001B[49m\u001B[43m,\u001B[49m\u001B[43m \u001B[49m\u001B[43mkey\u001B[49m\u001B[38;5;241;43m=\u001B[39;49m\u001B[43mkey\u001B[49m\u001B[43m,\u001B[49m\u001B[43m \u001B[49m\u001B[43mparent\u001B[49m\u001B[38;5;241;43m=\u001B[39;49m\u001B[43mparent\u001B[49m\u001B[43m,\u001B[49m\u001B[43m \u001B[49m\u001B[43mmemo\u001B[49m\u001B[38;5;241;43m=\u001B[39;49m\u001B[43mmemo\u001B[49m\n\u001B[1;32m    484\u001B[0m \u001B[43m    \u001B[49m\u001B[43m)\u001B[49m\n\u001B[1;32m    485\u001B[0m \u001B[38;5;28;01mexcept\u001B[39;00m InterpolationResolutionError:\n\u001B[1;32m    486\u001B[0m     \u001B[38;5;28;01mif\u001B[39;00m throw_on_resolution_failure:\n",
      "File \u001B[0;32m~/miniconda3/envs/mt3/lib/python3.9/site-packages/omegaconf/base.py:662\u001B[0m, in \u001B[0;36mContainer.resolve_parse_tree\u001B[0;34m(self, parse_tree, node, memo, key, parent)\u001B[0m\n\u001B[1;32m    656\u001B[0m visitor \u001B[38;5;241m=\u001B[39m GrammarVisitor(\n\u001B[1;32m    657\u001B[0m     node_interpolation_callback\u001B[38;5;241m=\u001B[39mnode_interpolation_callback,\n\u001B[1;32m    658\u001B[0m     resolver_interpolation_callback\u001B[38;5;241m=\u001B[39mresolver_interpolation_callback,\n\u001B[1;32m    659\u001B[0m     memo\u001B[38;5;241m=\u001B[39mmemo,\n\u001B[1;32m    660\u001B[0m )\n\u001B[1;32m    661\u001B[0m \u001B[38;5;28;01mtry\u001B[39;00m:\n\u001B[0;32m--> 662\u001B[0m     \u001B[38;5;28;01mreturn\u001B[39;00m \u001B[43mvisitor\u001B[49m\u001B[38;5;241;43m.\u001B[39;49m\u001B[43mvisit\u001B[49m\u001B[43m(\u001B[49m\u001B[43mparse_tree\u001B[49m\u001B[43m)\u001B[49m\n\u001B[1;32m    663\u001B[0m \u001B[38;5;28;01mexcept\u001B[39;00m InterpolationResolutionError:\n\u001B[1;32m    664\u001B[0m     \u001B[38;5;28;01mraise\u001B[39;00m\n",
      "File \u001B[0;32m~/miniconda3/envs/mt3/lib/python3.9/site-packages/antlr4/tree/Tree.py:34\u001B[0m, in \u001B[0;36mParseTreeVisitor.visit\u001B[0;34m(self, tree)\u001B[0m\n\u001B[1;32m     33\u001B[0m \u001B[38;5;28;01mdef\u001B[39;00m \u001B[38;5;21mvisit\u001B[39m(\u001B[38;5;28mself\u001B[39m, tree):\n\u001B[0;32m---> 34\u001B[0m     \u001B[38;5;28;01mreturn\u001B[39;00m \u001B[43mtree\u001B[49m\u001B[38;5;241;43m.\u001B[39;49m\u001B[43maccept\u001B[49m\u001B[43m(\u001B[49m\u001B[38;5;28;43mself\u001B[39;49m\u001B[43m)\u001B[49m\n",
      "File \u001B[0;32m~/miniconda3/envs/mt3/lib/python3.9/site-packages/omegaconf/grammar/gen/OmegaConfGrammarParser.py:205\u001B[0m, in \u001B[0;36mOmegaConfGrammarParser.ConfigValueContext.accept\u001B[0;34m(self, visitor)\u001B[0m\n\u001B[1;32m    203\u001B[0m \u001B[38;5;28;01mdef\u001B[39;00m \u001B[38;5;21maccept\u001B[39m(\u001B[38;5;28mself\u001B[39m, visitor:ParseTreeVisitor):\n\u001B[1;32m    204\u001B[0m     \u001B[38;5;28;01mif\u001B[39;00m \u001B[38;5;28mhasattr\u001B[39m( visitor, \u001B[38;5;124m\"\u001B[39m\u001B[38;5;124mvisitConfigValue\u001B[39m\u001B[38;5;124m\"\u001B[39m ):\n\u001B[0;32m--> 205\u001B[0m         \u001B[38;5;28;01mreturn\u001B[39;00m \u001B[43mvisitor\u001B[49m\u001B[38;5;241;43m.\u001B[39;49m\u001B[43mvisitConfigValue\u001B[49m\u001B[43m(\u001B[49m\u001B[38;5;28;43mself\u001B[39;49m\u001B[43m)\u001B[49m\n\u001B[1;32m    206\u001B[0m     \u001B[38;5;28;01melse\u001B[39;00m:\n\u001B[1;32m    207\u001B[0m         \u001B[38;5;28;01mreturn\u001B[39;00m visitor\u001B[38;5;241m.\u001B[39mvisitChildren(\u001B[38;5;28mself\u001B[39m)\n",
      "File \u001B[0;32m~/miniconda3/envs/mt3/lib/python3.9/site-packages/omegaconf/grammar_visitor.py:101\u001B[0m, in \u001B[0;36mGrammarVisitor.visitConfigValue\u001B[0;34m(self, ctx)\u001B[0m\n\u001B[1;32m     98\u001B[0m \u001B[38;5;28;01mdef\u001B[39;00m \u001B[38;5;21mvisitConfigValue\u001B[39m(\u001B[38;5;28mself\u001B[39m, ctx: OmegaConfGrammarParser\u001B[38;5;241m.\u001B[39mConfigValueContext) \u001B[38;5;241m-\u001B[39m\u001B[38;5;241m>\u001B[39m Any:\n\u001B[1;32m     99\u001B[0m     \u001B[38;5;66;03m# text EOF\u001B[39;00m\n\u001B[1;32m    100\u001B[0m     \u001B[38;5;28;01massert\u001B[39;00m ctx\u001B[38;5;241m.\u001B[39mgetChildCount() \u001B[38;5;241m==\u001B[39m \u001B[38;5;241m2\u001B[39m\n\u001B[0;32m--> 101\u001B[0m     \u001B[38;5;28;01mreturn\u001B[39;00m \u001B[38;5;28;43mself\u001B[39;49m\u001B[38;5;241;43m.\u001B[39;49m\u001B[43mvisit\u001B[49m\u001B[43m(\u001B[49m\u001B[43mctx\u001B[49m\u001B[38;5;241;43m.\u001B[39;49m\u001B[43mgetChild\u001B[49m\u001B[43m(\u001B[49m\u001B[38;5;241;43m0\u001B[39;49m\u001B[43m)\u001B[49m\u001B[43m)\u001B[49m\n",
      "File \u001B[0;32m~/miniconda3/envs/mt3/lib/python3.9/site-packages/antlr4/tree/Tree.py:34\u001B[0m, in \u001B[0;36mParseTreeVisitor.visit\u001B[0;34m(self, tree)\u001B[0m\n\u001B[1;32m     33\u001B[0m \u001B[38;5;28;01mdef\u001B[39;00m \u001B[38;5;21mvisit\u001B[39m(\u001B[38;5;28mself\u001B[39m, tree):\n\u001B[0;32m---> 34\u001B[0m     \u001B[38;5;28;01mreturn\u001B[39;00m \u001B[43mtree\u001B[49m\u001B[38;5;241;43m.\u001B[39;49m\u001B[43maccept\u001B[49m\u001B[43m(\u001B[49m\u001B[38;5;28;43mself\u001B[39;49m\u001B[43m)\u001B[49m\n",
      "File \u001B[0;32m~/miniconda3/envs/mt3/lib/python3.9/site-packages/omegaconf/grammar/gen/OmegaConfGrammarParser.py:339\u001B[0m, in \u001B[0;36mOmegaConfGrammarParser.TextContext.accept\u001B[0;34m(self, visitor)\u001B[0m\n\u001B[1;32m    337\u001B[0m \u001B[38;5;28;01mdef\u001B[39;00m \u001B[38;5;21maccept\u001B[39m(\u001B[38;5;28mself\u001B[39m, visitor:ParseTreeVisitor):\n\u001B[1;32m    338\u001B[0m     \u001B[38;5;28;01mif\u001B[39;00m \u001B[38;5;28mhasattr\u001B[39m( visitor, \u001B[38;5;124m\"\u001B[39m\u001B[38;5;124mvisitText\u001B[39m\u001B[38;5;124m\"\u001B[39m ):\n\u001B[0;32m--> 339\u001B[0m         \u001B[38;5;28;01mreturn\u001B[39;00m \u001B[43mvisitor\u001B[49m\u001B[38;5;241;43m.\u001B[39;49m\u001B[43mvisitText\u001B[49m\u001B[43m(\u001B[49m\u001B[38;5;28;43mself\u001B[39;49m\u001B[43m)\u001B[49m\n\u001B[1;32m    340\u001B[0m     \u001B[38;5;28;01melse\u001B[39;00m:\n\u001B[1;32m    341\u001B[0m         \u001B[38;5;28;01mreturn\u001B[39;00m visitor\u001B[38;5;241m.\u001B[39mvisitChildren(\u001B[38;5;28mself\u001B[39m)\n",
      "File \u001B[0;32m~/miniconda3/envs/mt3/lib/python3.9/site-packages/omegaconf/grammar_visitor.py:298\u001B[0m, in \u001B[0;36mGrammarVisitor.visitText\u001B[0;34m(self, ctx)\u001B[0m\n\u001B[1;32m    296\u001B[0m     c \u001B[38;5;241m=\u001B[39m ctx\u001B[38;5;241m.\u001B[39mgetChild(\u001B[38;5;241m0\u001B[39m)\n\u001B[1;32m    297\u001B[0m     \u001B[38;5;28;01mif\u001B[39;00m \u001B[38;5;28misinstance\u001B[39m(c, OmegaConfGrammarParser\u001B[38;5;241m.\u001B[39mInterpolationContext):\n\u001B[0;32m--> 298\u001B[0m         \u001B[38;5;28;01mreturn\u001B[39;00m \u001B[38;5;28;43mself\u001B[39;49m\u001B[38;5;241;43m.\u001B[39;49m\u001B[43mvisitInterpolation\u001B[49m\u001B[43m(\u001B[49m\u001B[43mc\u001B[49m\u001B[43m)\u001B[49m\n\u001B[1;32m    300\u001B[0m \u001B[38;5;66;03m# Otherwise, concatenate string representations together.\u001B[39;00m\n\u001B[1;32m    301\u001B[0m \u001B[38;5;28;01mreturn\u001B[39;00m \u001B[38;5;28mself\u001B[39m\u001B[38;5;241m.\u001B[39m_unescape(\u001B[38;5;28mlist\u001B[39m(ctx\u001B[38;5;241m.\u001B[39mgetChildren()))\n",
      "File \u001B[0;32m~/miniconda3/envs/mt3/lib/python3.9/site-packages/omegaconf/grammar_visitor.py:125\u001B[0m, in \u001B[0;36mGrammarVisitor.visitInterpolation\u001B[0;34m(self, ctx)\u001B[0m\n\u001B[1;32m    121\u001B[0m \u001B[38;5;28;01mdef\u001B[39;00m \u001B[38;5;21mvisitInterpolation\u001B[39m(\n\u001B[1;32m    122\u001B[0m     \u001B[38;5;28mself\u001B[39m, ctx: OmegaConfGrammarParser\u001B[38;5;241m.\u001B[39mInterpolationContext\n\u001B[1;32m    123\u001B[0m ) \u001B[38;5;241m-\u001B[39m\u001B[38;5;241m>\u001B[39m Any:\n\u001B[1;32m    124\u001B[0m     \u001B[38;5;28;01massert\u001B[39;00m ctx\u001B[38;5;241m.\u001B[39mgetChildCount() \u001B[38;5;241m==\u001B[39m \u001B[38;5;241m1\u001B[39m  \u001B[38;5;66;03m# interpolationNode | interpolationResolver\u001B[39;00m\n\u001B[0;32m--> 125\u001B[0m     \u001B[38;5;28;01mreturn\u001B[39;00m \u001B[38;5;28;43mself\u001B[39;49m\u001B[38;5;241;43m.\u001B[39;49m\u001B[43mvisit\u001B[49m\u001B[43m(\u001B[49m\u001B[43mctx\u001B[49m\u001B[38;5;241;43m.\u001B[39;49m\u001B[43mgetChild\u001B[49m\u001B[43m(\u001B[49m\u001B[38;5;241;43m0\u001B[39;49m\u001B[43m)\u001B[49m\u001B[43m)\u001B[49m\n",
      "File \u001B[0;32m~/miniconda3/envs/mt3/lib/python3.9/site-packages/antlr4/tree/Tree.py:34\u001B[0m, in \u001B[0;36mParseTreeVisitor.visit\u001B[0;34m(self, tree)\u001B[0m\n\u001B[1;32m     33\u001B[0m \u001B[38;5;28;01mdef\u001B[39;00m \u001B[38;5;21mvisit\u001B[39m(\u001B[38;5;28mself\u001B[39m, tree):\n\u001B[0;32m---> 34\u001B[0m     \u001B[38;5;28;01mreturn\u001B[39;00m \u001B[43mtree\u001B[49m\u001B[38;5;241;43m.\u001B[39;49m\u001B[43maccept\u001B[49m\u001B[43m(\u001B[49m\u001B[38;5;28;43mself\u001B[39;49m\u001B[43m)\u001B[49m\n",
      "File \u001B[0;32m~/miniconda3/envs/mt3/lib/python3.9/site-packages/omegaconf/grammar/gen/OmegaConfGrammarParser.py:911\u001B[0m, in \u001B[0;36mOmegaConfGrammarParser.InterpolationNodeContext.accept\u001B[0;34m(self, visitor)\u001B[0m\n\u001B[1;32m    909\u001B[0m \u001B[38;5;28;01mdef\u001B[39;00m \u001B[38;5;21maccept\u001B[39m(\u001B[38;5;28mself\u001B[39m, visitor:ParseTreeVisitor):\n\u001B[1;32m    910\u001B[0m     \u001B[38;5;28;01mif\u001B[39;00m \u001B[38;5;28mhasattr\u001B[39m( visitor, \u001B[38;5;124m\"\u001B[39m\u001B[38;5;124mvisitInterpolationNode\u001B[39m\u001B[38;5;124m\"\u001B[39m ):\n\u001B[0;32m--> 911\u001B[0m         \u001B[38;5;28;01mreturn\u001B[39;00m \u001B[43mvisitor\u001B[49m\u001B[38;5;241;43m.\u001B[39;49m\u001B[43mvisitInterpolationNode\u001B[49m\u001B[43m(\u001B[49m\u001B[38;5;28;43mself\u001B[39;49m\u001B[43m)\u001B[49m\n\u001B[1;32m    912\u001B[0m     \u001B[38;5;28;01melse\u001B[39;00m:\n\u001B[1;32m    913\u001B[0m         \u001B[38;5;28;01mreturn\u001B[39;00m visitor\u001B[38;5;241m.\u001B[39mvisitChildren(\u001B[38;5;28mself\u001B[39m)\n",
      "File \u001B[0;32m~/miniconda3/envs/mt3/lib/python3.9/site-packages/omegaconf/grammar_visitor.py:158\u001B[0m, in \u001B[0;36mGrammarVisitor.visitInterpolationNode\u001B[0;34m(self, ctx)\u001B[0m\n\u001B[1;32m    155\u001B[0m         inter_key_tokens\u001B[38;5;241m.\u001B[39mappend(\u001B[38;5;28mself\u001B[39m\u001B[38;5;241m.\u001B[39mvisitConfigKey(child))\n\u001B[1;32m    157\u001B[0m inter_key \u001B[38;5;241m=\u001B[39m \u001B[38;5;124m\"\u001B[39m\u001B[38;5;124m\"\u001B[39m\u001B[38;5;241m.\u001B[39mjoin(inter_key_tokens)\n\u001B[0;32m--> 158\u001B[0m \u001B[38;5;28;01mreturn\u001B[39;00m \u001B[38;5;28;43mself\u001B[39;49m\u001B[38;5;241;43m.\u001B[39;49m\u001B[43mnode_interpolation_callback\u001B[49m\u001B[43m(\u001B[49m\u001B[43minter_key\u001B[49m\u001B[43m,\u001B[49m\u001B[43m \u001B[49m\u001B[38;5;28;43mself\u001B[39;49m\u001B[38;5;241;43m.\u001B[39;49m\u001B[43mmemo\u001B[49m\u001B[43m)\u001B[49m\n",
      "File \u001B[0;32m~/miniconda3/envs/mt3/lib/python3.9/site-packages/omegaconf/base.py:643\u001B[0m, in \u001B[0;36mContainer.resolve_parse_tree.<locals>.node_interpolation_callback\u001B[0;34m(inter_key, memo)\u001B[0m\n\u001B[1;32m    640\u001B[0m \u001B[38;5;28;01mdef\u001B[39;00m \u001B[38;5;21mnode_interpolation_callback\u001B[39m(\n\u001B[1;32m    641\u001B[0m     inter_key: \u001B[38;5;28mstr\u001B[39m, memo: Optional[Set[\u001B[38;5;28mint\u001B[39m]]\n\u001B[1;32m    642\u001B[0m ) \u001B[38;5;241m-\u001B[39m\u001B[38;5;241m>\u001B[39m Optional[\u001B[38;5;124m\"\u001B[39m\u001B[38;5;124mNode\u001B[39m\u001B[38;5;124m\"\u001B[39m]:\n\u001B[0;32m--> 643\u001B[0m     \u001B[38;5;28;01mreturn\u001B[39;00m \u001B[38;5;28;43mself\u001B[39;49m\u001B[38;5;241;43m.\u001B[39;49m\u001B[43m_resolve_node_interpolation\u001B[49m\u001B[43m(\u001B[49m\u001B[43minter_key\u001B[49m\u001B[38;5;241;43m=\u001B[39;49m\u001B[43minter_key\u001B[49m\u001B[43m,\u001B[49m\u001B[43m \u001B[49m\u001B[43mmemo\u001B[49m\u001B[38;5;241;43m=\u001B[39;49m\u001B[43mmemo\u001B[49m\u001B[43m)\u001B[49m\n",
      "File \u001B[0;32m~/miniconda3/envs/mt3/lib/python3.9/site-packages/omegaconf/base.py:573\u001B[0m, in \u001B[0;36mContainer._resolve_node_interpolation\u001B[0;34m(self, inter_key, memo)\u001B[0m\n\u001B[1;32m    568\u001B[0m     \u001B[38;5;28;01mraise\u001B[39;00m InterpolationToMissingValueError(\n\u001B[1;32m    569\u001B[0m         \u001B[38;5;124mf\u001B[39m\u001B[38;5;124m\"\u001B[39m\u001B[38;5;124mMissingMandatoryValue while resolving interpolation: \u001B[39m\u001B[38;5;132;01m{\u001B[39;00mexc\u001B[38;5;132;01m}\u001B[39;00m\u001B[38;5;124m\"\u001B[39m\n\u001B[1;32m    570\u001B[0m     )\u001B[38;5;241m.\u001B[39mwith_traceback(sys\u001B[38;5;241m.\u001B[39mexc_info()[\u001B[38;5;241m2\u001B[39m])\n\u001B[1;32m    572\u001B[0m \u001B[38;5;28;01mif\u001B[39;00m parent \u001B[38;5;129;01mis\u001B[39;00m \u001B[38;5;28;01mNone\u001B[39;00m \u001B[38;5;129;01mor\u001B[39;00m value \u001B[38;5;129;01mis\u001B[39;00m \u001B[38;5;28;01mNone\u001B[39;00m:\n\u001B[0;32m--> 573\u001B[0m     \u001B[38;5;28;01mraise\u001B[39;00m InterpolationKeyError(\u001B[38;5;124mf\u001B[39m\u001B[38;5;124m\"\u001B[39m\u001B[38;5;124mInterpolation key \u001B[39m\u001B[38;5;124m'\u001B[39m\u001B[38;5;132;01m{\u001B[39;00minter_key\u001B[38;5;132;01m}\u001B[39;00m\u001B[38;5;124m'\u001B[39m\u001B[38;5;124m not found\u001B[39m\u001B[38;5;124m\"\u001B[39m)\n\u001B[1;32m    574\u001B[0m \u001B[38;5;28;01melse\u001B[39;00m:\n\u001B[1;32m    575\u001B[0m     \u001B[38;5;28mself\u001B[39m\u001B[38;5;241m.\u001B[39m_validate_not_dereferencing_to_parent(node\u001B[38;5;241m=\u001B[39m\u001B[38;5;28mself\u001B[39m, target\u001B[38;5;241m=\u001B[39mvalue)\n",
      "\u001B[0;31mInterpolationKeyError\u001B[0m: Interpolation key 'module.img_size' not found"
     ]
    }
   ],
   "source": [
    "hydra.utils.instantiate(cfg.model.model)"
   ],
   "metadata": {
    "collapsed": false,
    "pycharm": {
     "name": "#%%\n"
    }
   }
  }
 ],
 "metadata": {
  "kernelspec": {
   "display_name": "Python 3",
   "language": "python",
   "name": "python3"
  },
  "language_info": {
   "codemirror_mode": {
    "name": "ipython",
    "version": 2
   },
   "file_extension": ".py",
   "mimetype": "text/x-python",
   "name": "python",
   "nbconvert_exporter": "python",
   "pygments_lexer": "ipython2",
   "version": "2.7.6"
  }
 },
 "nbformat": 4,
 "nbformat_minor": 0
}