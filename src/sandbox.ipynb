{
 "cells": [
  {
   "cell_type": "code",
   "execution_count": 1,
   "outputs": [],
   "source": [
    "from hydra import compose, initialize\n",
    "from omegaconf import OmegaConf\n",
    "import hydra\n",
    "\n",
    "import src.models.yolov5"
   ],
   "metadata": {
    "collapsed": false,
    "pycharm": {
     "name": "#%%\n"
    }
   }
  },
  {
   "cell_type": "code",
   "execution_count": 9,
   "outputs": [
    {
     "name": "stdout",
     "output_type": "stream",
     "text": [
      "train: true\n",
      "test: true\n",
      "seed: 12\n",
      "name: null\n",
      "trainer:\n",
      "  _target_: pytorch_lightning.Trainer\n",
      "  gpus: 1\n",
      "  accumulate_grad_batches: 4\n",
      "  min_epochs: 60\n",
      "module:\n",
      "  model_type: yolov5\n",
      "  backbone: small_p6\n",
      "  img_size:\n",
      "  - 1024\n",
      "  - 896\n",
      "  pretrained: null\n",
      "  model:\n",
      "    _target_: src.modules.yolov5.YoloV5Module\n",
      "    model:\n",
      "      _target_: src.models.yolov5.model\n",
      "      device:\n",
      "        _target_: torch.device\n",
      "        device: cpu\n",
      "      backbone:\n",
      "        _target_: src.models.yolov5.backbones.${module.backbone}\n",
      "        pretrained: 1\n",
      "      num_classes: 2\n",
      "      img_size: 1024\n",
      "    learning_rate: 0.0001\n",
      "    weight_decay: 1.0e-06\n",
      "datamodule:\n",
      "  _target_: src.datamodules.dental.DentalCaries\n",
      "  data_root: /datagrid/personal/kuntluka/dental_rtg\n",
      "  model_type: ${module.model_type}\n",
      "  ann_file: caries6.json\n",
      "  batch_size: 1\n",
      "  num_workers: 8\n",
      "  limit_train_samples: null\n",
      "  train_val_test_split:\n",
      "  - 0.7\n",
      "  - 0.15\n",
      "  - 0.15\n",
      "  seed: ${seed}\n",
      "logger:\n",
      "  wandb:\n",
      "    _target_: pytorch_lightning.loggers.wandb.WandbLogger\n",
      "    project: MT7\n",
      "    offline: false\n",
      "    id: null\n",
      "    log_model: false\n",
      "    prefix: ''\n",
      "    job_type: train\n",
      "    group: ''\n",
      "    tags: []\n",
      "callbacks:\n",
      "  rich_progress_bar:\n",
      "    _target_: pytorch_lightning.callbacks.RichProgressBar\n",
      "  model_checkpoint:\n",
      "    _target_: pytorch_lightning.callbacks.ModelCheckpoint\n",
      "    monitor: val/map_50\n",
      "    mode: max\n",
      "    save_top_k: 1\n",
      "    save_last: true\n",
      "    verbose: false\n",
      "    dirpath: checkpoints/\n",
      "    filename: epoch_{epoch:03d}_{val/map_50:.3f}\n",
      "    auto_insert_metric_name: false\n",
      "    save_weights_only: true\n",
      "  learning_rate_monitor:\n",
      "    _target_: pytorch_lightning.callbacks.LearningRateMonitor\n",
      "    logging_interval: epoch\n",
      "  early_stopping:\n",
      "    _target_: pytorch_lightning.callbacks.EarlyStopping\n",
      "    monitor: val/map_50\n",
      "    mode: max\n",
      "    patience: 10\n",
      "    min_delta: 0.005\n",
      "transforms:\n",
      "  _target_: src.transforms.transforms_composer.TransformsComposer\n",
      "  tfms_mode: ice\n",
      "  cfg:\n",
      "    image_size: ${module.img_size}\n",
      "    horizontal_flip:\n",
      "      apply: true\n",
      "      transform:\n",
      "        _target_: albumentations.HorizontalFlip\n",
      "        p: 0.5\n",
      "    vertical_flip:\n",
      "      apply: true\n",
      "      transform:\n",
      "        _target_: albumentations.VerticalFlip\n",
      "        p: 0.5\n",
      "    rotate:\n",
      "      apply: true\n",
      "      transform:\n",
      "        _target_: albumentations.Rotate\n",
      "        limit: 10\n",
      "        p: 0.3\n",
      "    affine_transform:\n",
      "      apply: true\n",
      "      transform:\n",
      "        _target_: albumentations.Affine\n",
      "        translate_percent:\n",
      "        - -0.1\n",
      "        - 0.1\n",
      "        p: 0.5\n",
      "    gaussian_blur:\n",
      "      apply: true\n",
      "      transform:\n",
      "        _target_: albumentations.GaussianBlur\n",
      "        blur_limit:\n",
      "        - 7\n",
      "        - 31\n",
      "        p: 0.3\n",
      "    random_gamma:\n",
      "      apply: true\n",
      "      transform:\n",
      "        _target_: albumentations.RandomGamma\n",
      "        gamma_limit:\n",
      "        - 60\n",
      "        - 140\n",
      "        p: 0.3\n",
      "    to_gray:\n",
      "      apply: false\n",
      "      transform:\n",
      "        _target_: albumentations.ToGray\n",
      "        p: 1\n",
      "\n"
     ]
    }
   ],
   "source": [
    "with initialize(config_path=\"../configs\"):\n",
    "    cfg = compose(config_name='train', overrides=['module=yolov5', 'module.backbone=small_p6', 'module.model.model.device.device=cpu'])\n",
    "    print(OmegaConf.to_yaml(cfg))"
   ],
   "metadata": {
    "collapsed": false,
    "pycharm": {
     "name": "#%%\n"
    }
   }
  },
  {
   "cell_type": "code",
   "execution_count": 10,
   "outputs": [],
   "source": [
    "model = hydra.utils.instantiate(cfg.module.model)"
   ],
   "metadata": {
    "collapsed": false,
    "pycharm": {
     "name": "#%%\n"
    }
   }
  },
  {
   "cell_type": "code",
   "execution_count": 18,
   "outputs": [
    {
     "ename": "NameError",
     "evalue": "name 'src' is not defined",
     "output_type": "error",
     "traceback": [
      "\u001B[0;31m---------------------------------------------------------------------------\u001B[0m",
      "\u001B[0;31mNameError\u001B[0m                                 Traceback (most recent call last)",
      "Input \u001B[0;32mIn [18]\u001B[0m, in \u001B[0;36m<cell line: 6>\u001B[0;34m()\u001B[0m\n\u001B[1;32m      3\u001B[0m \u001B[38;5;28;01mimport\u001B[39;00m \u001B[38;5;21;01malbumentations\u001B[39;00m \u001B[38;5;28;01mas\u001B[39;00m \u001B[38;5;21;01mA\u001B[39;00m\n\u001B[1;32m      4\u001B[0m tfms \u001B[38;5;241m=\u001B[39m resize_and_pad((\u001B[38;5;241m1024\u001B[39m,\u001B[38;5;241m896\u001B[39m))\n\u001B[0;32m----> 6\u001B[0m \u001B[43msrc\u001B[49m\u001B[38;5;241m.\u001B[39mmodels\u001B[38;5;241m.\u001B[39myolov5\u001B[38;5;241m.\u001B[39minfer_dl(ds, Adapter(tfms))\n",
      "\u001B[0;31mNameError\u001B[0m: name 'src' is not defined"
     ]
    }
   ],
   "source": [
    "from transforms.albumentations_adapter import Adapter\n",
    "from transforms.albumentations_utils import resize_and_pad\n",
    "import albumentations as A\n",
    "tfms = resize_and_pad((1024,896))\n",
    "\n",
    "src.models.yolov5.infer_dl(ds, Adapter(tfms))"
   ],
   "metadata": {
    "collapsed": false,
    "pycharm": {
     "name": "#%%\n"
    }
   }
  },
  {
   "cell_type": "code",
   "execution_count": 9,
   "outputs": [],
   "source": [
    "\n",
    "img = Image.open('../samples/dataset/images/1.png')\n",
    "ds = Dataset.from_images(images=[img])"
   ],
   "metadata": {
    "collapsed": false,
    "pycharm": {
     "name": "#%%\n"
    }
   }
  },
  {
   "cell_type": "code",
   "execution_count": 10,
   "outputs": [
    {
     "data": {
      "text/plain": "BaseRecord\n\ncommon: \n\t- Image size ImgSize(width=1068, height=847)\n\t- Img: 1068x847x4 <np.ndarray> Image\n\t- Record ID: 0\ndetection: \n\t- Class Map: None"
     },
     "execution_count": 10,
     "metadata": {},
     "output_type": "execute_result"
    }
   ],
   "source": [
    "ds[0]"
   ],
   "metadata": {
    "collapsed": false,
    "pycharm": {
     "name": "#%%\n"
    }
   }
  },
  {
   "cell_type": "code",
   "execution_count": null,
   "outputs": [],
   "source": [],
   "metadata": {
    "collapsed": false,
    "pycharm": {
     "name": "#%%\n"
    }
   }
  },
  {
   "cell_type": "code",
   "execution_count": 15,
   "outputs": [
    {
     "ename": "MissingConfigException",
     "evalue": "In 'hydra/config': Could not find 'hydra/job_logging/colorlog'\n\nAvailable options in 'hydra/job_logging':\n\tdefault\n\tdisabled\n\tnone\n\tstdout\nConfig search path:\n\tprovider=hydra, path=pkg://hydra.conf\n\tprovider=main, path=file:///home/kuntik/dev/MT/configs\n\tprovider=schema, path=structured://",
     "output_type": "error",
     "traceback": [
      "\u001B[0;31m---------------------------------------------------------------------------\u001B[0m",
      "\u001B[0;31mMissingConfigException\u001B[0m                    Traceback (most recent call last)",
      "Input \u001B[0;32mIn [15]\u001B[0m, in \u001B[0;36m<cell line: 2>\u001B[0;34m()\u001B[0m\n\u001B[1;32m      1\u001B[0m \u001B[38;5;66;03m# import src.modules.yolov5\u001B[39;00m\n\u001B[1;32m      2\u001B[0m \u001B[38;5;28;01mwith\u001B[39;00m hydra\u001B[38;5;241m.\u001B[39minitialize(config_path\u001B[38;5;241m=\u001B[39m\u001B[38;5;124m'\u001B[39m\u001B[38;5;124m../configs\u001B[39m\u001B[38;5;124m'\u001B[39m):\n\u001B[0;32m----> 3\u001B[0m     cfg \u001B[38;5;241m=\u001B[39m \u001B[43mhydra\u001B[49m\u001B[38;5;241;43m.\u001B[39;49m\u001B[43mcompose\u001B[49m\u001B[43m(\u001B[49m\u001B[43mconfig_name\u001B[49m\u001B[38;5;241;43m=\u001B[39;49m\u001B[38;5;124;43m'\u001B[39;49m\u001B[38;5;124;43mtrain\u001B[39;49m\u001B[38;5;124;43m'\u001B[39;49m\u001B[43m,\u001B[49m\u001B[43m \u001B[49m\u001B[43moverrides\u001B[49m\u001B[38;5;241;43m=\u001B[39;49m\u001B[43m[\u001B[49m\u001B[38;5;124;43m'\u001B[39;49m\u001B[38;5;124;43mmodule=yolov5\u001B[39;49m\u001B[38;5;124;43m'\u001B[39;49m\u001B[43m,\u001B[49m\u001B[43m \u001B[49m\u001B[38;5;124;43m'\u001B[39;49m\u001B[38;5;124;43mdatamodule.batch_size=1\u001B[39;49m\u001B[38;5;124;43m'\u001B[39;49m\u001B[43m]\u001B[49m\u001B[43m)\u001B[49m\n\u001B[1;32m      4\u001B[0m model \u001B[38;5;241m=\u001B[39m hydra\u001B[38;5;241m.\u001B[39mutils\u001B[38;5;241m.\u001B[39minstantiate(cfg\u001B[38;5;241m.\u001B[39mmodule\u001B[38;5;241m.\u001B[39mmodel)\n",
      "File \u001B[0;32m~/miniconda3/envs/mt/lib/python3.8/site-packages/hydra/compose.py:33\u001B[0m, in \u001B[0;36mcompose\u001B[0;34m(config_name, overrides, return_hydra_config, strict)\u001B[0m\n\u001B[1;32m     31\u001B[0m gh \u001B[38;5;241m=\u001B[39m GlobalHydra\u001B[38;5;241m.\u001B[39minstance()\n\u001B[1;32m     32\u001B[0m \u001B[38;5;28;01massert\u001B[39;00m gh\u001B[38;5;241m.\u001B[39mhydra \u001B[38;5;129;01mis\u001B[39;00m \u001B[38;5;129;01mnot\u001B[39;00m \u001B[38;5;28;01mNone\u001B[39;00m\n\u001B[0;32m---> 33\u001B[0m cfg \u001B[38;5;241m=\u001B[39m \u001B[43mgh\u001B[49m\u001B[38;5;241;43m.\u001B[39;49m\u001B[43mhydra\u001B[49m\u001B[38;5;241;43m.\u001B[39;49m\u001B[43mcompose_config\u001B[49m\u001B[43m(\u001B[49m\n\u001B[1;32m     34\u001B[0m \u001B[43m    \u001B[49m\u001B[43mconfig_name\u001B[49m\u001B[38;5;241;43m=\u001B[39;49m\u001B[43mconfig_name\u001B[49m\u001B[43m,\u001B[49m\n\u001B[1;32m     35\u001B[0m \u001B[43m    \u001B[49m\u001B[43moverrides\u001B[49m\u001B[38;5;241;43m=\u001B[39;49m\u001B[43moverrides\u001B[49m\u001B[43m,\u001B[49m\n\u001B[1;32m     36\u001B[0m \u001B[43m    \u001B[49m\u001B[43mrun_mode\u001B[49m\u001B[38;5;241;43m=\u001B[39;49m\u001B[43mRunMode\u001B[49m\u001B[38;5;241;43m.\u001B[39;49m\u001B[43mRUN\u001B[49m\u001B[43m,\u001B[49m\n\u001B[1;32m     37\u001B[0m \u001B[43m    \u001B[49m\u001B[43mfrom_shell\u001B[49m\u001B[38;5;241;43m=\u001B[39;49m\u001B[38;5;28;43;01mFalse\u001B[39;49;00m\u001B[43m,\u001B[49m\n\u001B[1;32m     38\u001B[0m \u001B[43m    \u001B[49m\u001B[43mwith_log_configuration\u001B[49m\u001B[38;5;241;43m=\u001B[39;49m\u001B[38;5;28;43;01mFalse\u001B[39;49;00m\u001B[43m,\u001B[49m\n\u001B[1;32m     39\u001B[0m \u001B[43m\u001B[49m\u001B[43m)\u001B[49m\n\u001B[1;32m     40\u001B[0m \u001B[38;5;28;01massert\u001B[39;00m \u001B[38;5;28misinstance\u001B[39m(cfg, DictConfig)\n\u001B[1;32m     42\u001B[0m \u001B[38;5;28;01mif\u001B[39;00m \u001B[38;5;129;01mnot\u001B[39;00m return_hydra_config:\n",
      "File \u001B[0;32m~/miniconda3/envs/mt/lib/python3.8/site-packages/hydra/_internal/hydra.py:559\u001B[0m, in \u001B[0;36mHydra.compose_config\u001B[0;34m(self, config_name, overrides, run_mode, with_log_configuration, from_shell)\u001B[0m\n\u001B[1;32m    542\u001B[0m \u001B[38;5;28;01mdef\u001B[39;00m \u001B[38;5;21mcompose_config\u001B[39m(\n\u001B[1;32m    543\u001B[0m     \u001B[38;5;28mself\u001B[39m,\n\u001B[1;32m    544\u001B[0m     config_name: Optional[\u001B[38;5;28mstr\u001B[39m],\n\u001B[0;32m   (...)\u001B[0m\n\u001B[1;32m    548\u001B[0m     from_shell: \u001B[38;5;28mbool\u001B[39m \u001B[38;5;241m=\u001B[39m \u001B[38;5;28;01mTrue\u001B[39;00m,\n\u001B[1;32m    549\u001B[0m ) \u001B[38;5;241m-\u001B[39m\u001B[38;5;241m>\u001B[39m DictConfig:\n\u001B[1;32m    550\u001B[0m     \u001B[38;5;124;03m\"\"\"\u001B[39;00m\n\u001B[1;32m    551\u001B[0m \u001B[38;5;124;03m    :param config_name:\u001B[39;00m\n\u001B[1;32m    552\u001B[0m \u001B[38;5;124;03m    :param overrides:\u001B[39;00m\n\u001B[0;32m   (...)\u001B[0m\n\u001B[1;32m    556\u001B[0m \u001B[38;5;124;03m    :return:\u001B[39;00m\n\u001B[1;32m    557\u001B[0m \u001B[38;5;124;03m    \"\"\"\u001B[39;00m\n\u001B[0;32m--> 559\u001B[0m     cfg \u001B[38;5;241m=\u001B[39m \u001B[38;5;28;43mself\u001B[39;49m\u001B[38;5;241;43m.\u001B[39;49m\u001B[43mconfig_loader\u001B[49m\u001B[38;5;241;43m.\u001B[39;49m\u001B[43mload_configuration\u001B[49m\u001B[43m(\u001B[49m\n\u001B[1;32m    560\u001B[0m \u001B[43m        \u001B[49m\u001B[43mconfig_name\u001B[49m\u001B[38;5;241;43m=\u001B[39;49m\u001B[43mconfig_name\u001B[49m\u001B[43m,\u001B[49m\n\u001B[1;32m    561\u001B[0m \u001B[43m        \u001B[49m\u001B[43moverrides\u001B[49m\u001B[38;5;241;43m=\u001B[39;49m\u001B[43moverrides\u001B[49m\u001B[43m,\u001B[49m\n\u001B[1;32m    562\u001B[0m \u001B[43m        \u001B[49m\u001B[43mrun_mode\u001B[49m\u001B[38;5;241;43m=\u001B[39;49m\u001B[43mrun_mode\u001B[49m\u001B[43m,\u001B[49m\n\u001B[1;32m    563\u001B[0m \u001B[43m        \u001B[49m\u001B[43mfrom_shell\u001B[49m\u001B[38;5;241;43m=\u001B[39;49m\u001B[43mfrom_shell\u001B[49m\u001B[43m,\u001B[49m\n\u001B[1;32m    564\u001B[0m \u001B[43m    \u001B[49m\u001B[43m)\u001B[49m\n\u001B[1;32m    565\u001B[0m     \u001B[38;5;28;01mif\u001B[39;00m with_log_configuration:\n\u001B[1;32m    566\u001B[0m         configure_log(cfg\u001B[38;5;241m.\u001B[39mhydra\u001B[38;5;241m.\u001B[39mhydra_logging, cfg\u001B[38;5;241m.\u001B[39mhydra\u001B[38;5;241m.\u001B[39mverbose)\n",
      "File \u001B[0;32m~/miniconda3/envs/mt/lib/python3.8/site-packages/hydra/_internal/config_loader_impl.py:141\u001B[0m, in \u001B[0;36mConfigLoaderImpl.load_configuration\u001B[0;34m(self, config_name, overrides, run_mode, from_shell)\u001B[0m\n\u001B[1;32m    133\u001B[0m \u001B[38;5;28;01mdef\u001B[39;00m \u001B[38;5;21mload_configuration\u001B[39m(\n\u001B[1;32m    134\u001B[0m     \u001B[38;5;28mself\u001B[39m,\n\u001B[1;32m    135\u001B[0m     config_name: Optional[\u001B[38;5;28mstr\u001B[39m],\n\u001B[0;32m   (...)\u001B[0m\n\u001B[1;32m    138\u001B[0m     from_shell: \u001B[38;5;28mbool\u001B[39m \u001B[38;5;241m=\u001B[39m \u001B[38;5;28;01mTrue\u001B[39;00m,\n\u001B[1;32m    139\u001B[0m ) \u001B[38;5;241m-\u001B[39m\u001B[38;5;241m>\u001B[39m DictConfig:\n\u001B[1;32m    140\u001B[0m     \u001B[38;5;28;01mtry\u001B[39;00m:\n\u001B[0;32m--> 141\u001B[0m         \u001B[38;5;28;01mreturn\u001B[39;00m \u001B[38;5;28;43mself\u001B[39;49m\u001B[38;5;241;43m.\u001B[39;49m\u001B[43m_load_configuration_impl\u001B[49m\u001B[43m(\u001B[49m\n\u001B[1;32m    142\u001B[0m \u001B[43m            \u001B[49m\u001B[43mconfig_name\u001B[49m\u001B[38;5;241;43m=\u001B[39;49m\u001B[43mconfig_name\u001B[49m\u001B[43m,\u001B[49m\n\u001B[1;32m    143\u001B[0m \u001B[43m            \u001B[49m\u001B[43moverrides\u001B[49m\u001B[38;5;241;43m=\u001B[39;49m\u001B[43moverrides\u001B[49m\u001B[43m,\u001B[49m\n\u001B[1;32m    144\u001B[0m \u001B[43m            \u001B[49m\u001B[43mrun_mode\u001B[49m\u001B[38;5;241;43m=\u001B[39;49m\u001B[43mrun_mode\u001B[49m\u001B[43m,\u001B[49m\n\u001B[1;32m    145\u001B[0m \u001B[43m            \u001B[49m\u001B[43mfrom_shell\u001B[49m\u001B[38;5;241;43m=\u001B[39;49m\u001B[43mfrom_shell\u001B[49m\u001B[43m,\u001B[49m\n\u001B[1;32m    146\u001B[0m \u001B[43m        \u001B[49m\u001B[43m)\u001B[49m\n\u001B[1;32m    147\u001B[0m     \u001B[38;5;28;01mexcept\u001B[39;00m OmegaConfBaseException \u001B[38;5;28;01mas\u001B[39;00m e:\n\u001B[1;32m    148\u001B[0m         \u001B[38;5;28;01mraise\u001B[39;00m ConfigCompositionException()\u001B[38;5;241m.\u001B[39mwith_traceback(sys\u001B[38;5;241m.\u001B[39mexc_info()[\u001B[38;5;241m2\u001B[39m]) \u001B[38;5;28;01mfrom\u001B[39;00m \u001B[38;5;21;01me\u001B[39;00m\n",
      "File \u001B[0;32m~/miniconda3/envs/mt/lib/python3.8/site-packages/hydra/_internal/config_loader_impl.py:239\u001B[0m, in \u001B[0;36mConfigLoaderImpl._load_configuration_impl\u001B[0;34m(self, config_name, overrides, run_mode, from_shell)\u001B[0m\n\u001B[1;32m    233\u001B[0m \u001B[38;5;28mself\u001B[39m\u001B[38;5;241m.\u001B[39m_process_config_searchpath(config_name, parsed_overrides, caching_repo)\n\u001B[1;32m    235\u001B[0m \u001B[38;5;28mself\u001B[39m\u001B[38;5;241m.\u001B[39mvalidate_sweep_overrides_legal(\n\u001B[1;32m    236\u001B[0m     overrides\u001B[38;5;241m=\u001B[39mparsed_overrides, run_mode\u001B[38;5;241m=\u001B[39mrun_mode, from_shell\u001B[38;5;241m=\u001B[39mfrom_shell\n\u001B[1;32m    237\u001B[0m )\n\u001B[0;32m--> 239\u001B[0m defaults_list \u001B[38;5;241m=\u001B[39m \u001B[43mcreate_defaults_list\u001B[49m\u001B[43m(\u001B[49m\n\u001B[1;32m    240\u001B[0m \u001B[43m    \u001B[49m\u001B[43mrepo\u001B[49m\u001B[38;5;241;43m=\u001B[39;49m\u001B[43mcaching_repo\u001B[49m\u001B[43m,\u001B[49m\n\u001B[1;32m    241\u001B[0m \u001B[43m    \u001B[49m\u001B[43mconfig_name\u001B[49m\u001B[38;5;241;43m=\u001B[39;49m\u001B[43mconfig_name\u001B[49m\u001B[43m,\u001B[49m\n\u001B[1;32m    242\u001B[0m \u001B[43m    \u001B[49m\u001B[43moverrides_list\u001B[49m\u001B[38;5;241;43m=\u001B[39;49m\u001B[43mparsed_overrides\u001B[49m\u001B[43m,\u001B[49m\n\u001B[1;32m    243\u001B[0m \u001B[43m    \u001B[49m\u001B[43mprepend_hydra\u001B[49m\u001B[38;5;241;43m=\u001B[39;49m\u001B[38;5;28;43;01mTrue\u001B[39;49;00m\u001B[43m,\u001B[49m\n\u001B[1;32m    244\u001B[0m \u001B[43m    \u001B[49m\u001B[43mskip_missing\u001B[49m\u001B[38;5;241;43m=\u001B[39;49m\u001B[43mrun_mode\u001B[49m\u001B[43m \u001B[49m\u001B[38;5;241;43m==\u001B[39;49m\u001B[43m \u001B[49m\u001B[43mRunMode\u001B[49m\u001B[38;5;241;43m.\u001B[39;49m\u001B[43mMULTIRUN\u001B[49m\u001B[43m,\u001B[49m\n\u001B[1;32m    245\u001B[0m \u001B[43m\u001B[49m\u001B[43m)\u001B[49m\n\u001B[1;32m    247\u001B[0m config_overrides \u001B[38;5;241m=\u001B[39m defaults_list\u001B[38;5;241m.\u001B[39mconfig_overrides\n\u001B[1;32m    249\u001B[0m cfg \u001B[38;5;241m=\u001B[39m \u001B[38;5;28mself\u001B[39m\u001B[38;5;241m.\u001B[39m_compose_config_from_defaults_list(\n\u001B[1;32m    250\u001B[0m     defaults\u001B[38;5;241m=\u001B[39mdefaults_list\u001B[38;5;241m.\u001B[39mdefaults, repo\u001B[38;5;241m=\u001B[39mcaching_repo\n\u001B[1;32m    251\u001B[0m )\n",
      "File \u001B[0;32m~/miniconda3/envs/mt/lib/python3.8/site-packages/hydra/_internal/defaults_list.py:747\u001B[0m, in \u001B[0;36mcreate_defaults_list\u001B[0;34m(repo, config_name, overrides_list, prepend_hydra, skip_missing)\u001B[0m\n\u001B[1;32m    738\u001B[0m \u001B[38;5;124;03m\"\"\"\u001B[39;00m\n\u001B[1;32m    739\u001B[0m \u001B[38;5;124;03m:param repo:\u001B[39;00m\n\u001B[1;32m    740\u001B[0m \u001B[38;5;124;03m:param config_name:\u001B[39;00m\n\u001B[0;32m   (...)\u001B[0m\n\u001B[1;32m    744\u001B[0m \u001B[38;5;124;03m:return:\u001B[39;00m\n\u001B[1;32m    745\u001B[0m \u001B[38;5;124;03m\"\"\"\u001B[39;00m\n\u001B[1;32m    746\u001B[0m overrides \u001B[38;5;241m=\u001B[39m Overrides(repo\u001B[38;5;241m=\u001B[39mrepo, overrides_list\u001B[38;5;241m=\u001B[39moverrides_list)\n\u001B[0;32m--> 747\u001B[0m defaults, tree \u001B[38;5;241m=\u001B[39m \u001B[43m_create_defaults_list\u001B[49m\u001B[43m(\u001B[49m\n\u001B[1;32m    748\u001B[0m \u001B[43m    \u001B[49m\u001B[43mrepo\u001B[49m\u001B[43m,\u001B[49m\n\u001B[1;32m    749\u001B[0m \u001B[43m    \u001B[49m\u001B[43mconfig_name\u001B[49m\u001B[43m,\u001B[49m\n\u001B[1;32m    750\u001B[0m \u001B[43m    \u001B[49m\u001B[43moverrides\u001B[49m\u001B[43m,\u001B[49m\n\u001B[1;32m    751\u001B[0m \u001B[43m    \u001B[49m\u001B[43mprepend_hydra\u001B[49m\u001B[38;5;241;43m=\u001B[39;49m\u001B[43mprepend_hydra\u001B[49m\u001B[43m,\u001B[49m\n\u001B[1;32m    752\u001B[0m \u001B[43m    \u001B[49m\u001B[43mskip_missing\u001B[49m\u001B[38;5;241;43m=\u001B[39;49m\u001B[43mskip_missing\u001B[49m\u001B[43m,\u001B[49m\n\u001B[1;32m    753\u001B[0m \u001B[43m\u001B[49m\u001B[43m)\u001B[49m\n\u001B[1;32m    754\u001B[0m overrides\u001B[38;5;241m.\u001B[39mensure_overrides_used()\n\u001B[1;32m    755\u001B[0m overrides\u001B[38;5;241m.\u001B[39mensure_deletions_used()\n",
      "File \u001B[0;32m~/miniconda3/envs/mt/lib/python3.8/site-packages/hydra/_internal/defaults_list.py:717\u001B[0m, in \u001B[0;36m_create_defaults_list\u001B[0;34m(repo, config_name, overrides, prepend_hydra, skip_missing)\u001B[0m\n\u001B[1;32m    707\u001B[0m \u001B[38;5;28;01mdef\u001B[39;00m \u001B[38;5;21m_create_defaults_list\u001B[39m(\n\u001B[1;32m    708\u001B[0m     repo: IConfigRepository,\n\u001B[1;32m    709\u001B[0m     config_name: Optional[\u001B[38;5;28mstr\u001B[39m],\n\u001B[0;32m   (...)\u001B[0m\n\u001B[1;32m    712\u001B[0m     skip_missing: \u001B[38;5;28mbool\u001B[39m,\n\u001B[1;32m    713\u001B[0m ) \u001B[38;5;241m-\u001B[39m\u001B[38;5;241m>\u001B[39m Tuple[List[ResultDefault], DefaultsTreeNode]:\n\u001B[1;32m    715\u001B[0m     root \u001B[38;5;241m=\u001B[39m _create_root(config_name\u001B[38;5;241m=\u001B[39mconfig_name, with_hydra\u001B[38;5;241m=\u001B[39mprepend_hydra)\n\u001B[0;32m--> 717\u001B[0m     defaults_tree \u001B[38;5;241m=\u001B[39m \u001B[43m_create_defaults_tree\u001B[49m\u001B[43m(\u001B[49m\n\u001B[1;32m    718\u001B[0m \u001B[43m        \u001B[49m\u001B[43mrepo\u001B[49m\u001B[38;5;241;43m=\u001B[39;49m\u001B[43mrepo\u001B[49m\u001B[43m,\u001B[49m\n\u001B[1;32m    719\u001B[0m \u001B[43m        \u001B[49m\u001B[43mroot\u001B[49m\u001B[38;5;241;43m=\u001B[39;49m\u001B[43mroot\u001B[49m\u001B[43m,\u001B[49m\n\u001B[1;32m    720\u001B[0m \u001B[43m        \u001B[49m\u001B[43moverrides\u001B[49m\u001B[38;5;241;43m=\u001B[39;49m\u001B[43moverrides\u001B[49m\u001B[43m,\u001B[49m\n\u001B[1;32m    721\u001B[0m \u001B[43m        \u001B[49m\u001B[43mis_root_config\u001B[49m\u001B[38;5;241;43m=\u001B[39;49m\u001B[38;5;28;43;01mTrue\u001B[39;49;00m\u001B[43m,\u001B[49m\n\u001B[1;32m    722\u001B[0m \u001B[43m        \u001B[49m\u001B[43minterpolated_subtree\u001B[49m\u001B[38;5;241;43m=\u001B[39;49m\u001B[38;5;28;43;01mFalse\u001B[39;49;00m\u001B[43m,\u001B[49m\n\u001B[1;32m    723\u001B[0m \u001B[43m        \u001B[49m\u001B[43mskip_missing\u001B[49m\u001B[38;5;241;43m=\u001B[39;49m\u001B[43mskip_missing\u001B[49m\u001B[43m,\u001B[49m\n\u001B[1;32m    724\u001B[0m \u001B[43m    \u001B[49m\u001B[43m)\u001B[49m\n\u001B[1;32m    726\u001B[0m     output \u001B[38;5;241m=\u001B[39m _tree_to_list(tree\u001B[38;5;241m=\u001B[39mdefaults_tree)\n\u001B[1;32m    727\u001B[0m     ensure_no_duplicates_in_list(output)\n",
      "File \u001B[0;32m~/miniconda3/envs/mt/lib/python3.8/site-packages/hydra/_internal/defaults_list.py:355\u001B[0m, in \u001B[0;36m_create_defaults_tree\u001B[0;34m(repo, root, is_root_config, skip_missing, interpolated_subtree, overrides)\u001B[0m\n\u001B[1;32m    347\u001B[0m \u001B[38;5;28;01mdef\u001B[39;00m \u001B[38;5;21m_create_defaults_tree\u001B[39m(\n\u001B[1;32m    348\u001B[0m     repo: IConfigRepository,\n\u001B[1;32m    349\u001B[0m     root: DefaultsTreeNode,\n\u001B[0;32m   (...)\u001B[0m\n\u001B[1;32m    353\u001B[0m     overrides: Overrides,\n\u001B[1;32m    354\u001B[0m ) \u001B[38;5;241m-\u001B[39m\u001B[38;5;241m>\u001B[39m DefaultsTreeNode:\n\u001B[0;32m--> 355\u001B[0m     ret \u001B[38;5;241m=\u001B[39m \u001B[43m_create_defaults_tree_impl\u001B[49m\u001B[43m(\u001B[49m\n\u001B[1;32m    356\u001B[0m \u001B[43m        \u001B[49m\u001B[43mrepo\u001B[49m\u001B[38;5;241;43m=\u001B[39;49m\u001B[43mrepo\u001B[49m\u001B[43m,\u001B[49m\n\u001B[1;32m    357\u001B[0m \u001B[43m        \u001B[49m\u001B[43mroot\u001B[49m\u001B[38;5;241;43m=\u001B[39;49m\u001B[43mroot\u001B[49m\u001B[43m,\u001B[49m\n\u001B[1;32m    358\u001B[0m \u001B[43m        \u001B[49m\u001B[43mis_root_config\u001B[49m\u001B[38;5;241;43m=\u001B[39;49m\u001B[43mis_root_config\u001B[49m\u001B[43m,\u001B[49m\n\u001B[1;32m    359\u001B[0m \u001B[43m        \u001B[49m\u001B[43mskip_missing\u001B[49m\u001B[38;5;241;43m=\u001B[39;49m\u001B[43mskip_missing\u001B[49m\u001B[43m,\u001B[49m\n\u001B[1;32m    360\u001B[0m \u001B[43m        \u001B[49m\u001B[43minterpolated_subtree\u001B[49m\u001B[38;5;241;43m=\u001B[39;49m\u001B[43minterpolated_subtree\u001B[49m\u001B[43m,\u001B[49m\n\u001B[1;32m    361\u001B[0m \u001B[43m        \u001B[49m\u001B[43moverrides\u001B[49m\u001B[38;5;241;43m=\u001B[39;49m\u001B[43moverrides\u001B[49m\u001B[43m,\u001B[49m\n\u001B[1;32m    362\u001B[0m \u001B[43m    \u001B[49m\u001B[43m)\u001B[49m\n\u001B[1;32m    364\u001B[0m     \u001B[38;5;28;01mreturn\u001B[39;00m ret\n",
      "File \u001B[0;32m~/miniconda3/envs/mt/lib/python3.8/site-packages/hydra/_internal/defaults_list.py:454\u001B[0m, in \u001B[0;36m_create_defaults_tree_impl\u001B[0;34m(repo, root, is_root_config, skip_missing, interpolated_subtree, overrides)\u001B[0m\n\u001B[1;32m    452\u001B[0m \u001B[38;5;28;01mif\u001B[39;00m parent\u001B[38;5;241m.\u001B[39mis_virtual():\n\u001B[1;32m    453\u001B[0m     \u001B[38;5;28;01mif\u001B[39;00m is_root_config:\n\u001B[0;32m--> 454\u001B[0m         \u001B[38;5;28;01mreturn\u001B[39;00m \u001B[43m_expand_virtual_root\u001B[49m\u001B[43m(\u001B[49m\u001B[43mrepo\u001B[49m\u001B[43m,\u001B[49m\u001B[43m \u001B[49m\u001B[43mroot\u001B[49m\u001B[43m,\u001B[49m\u001B[43m \u001B[49m\u001B[43moverrides\u001B[49m\u001B[43m,\u001B[49m\u001B[43m \u001B[49m\u001B[43mskip_missing\u001B[49m\u001B[43m)\u001B[49m\n\u001B[1;32m    455\u001B[0m     \u001B[38;5;28;01melse\u001B[39;00m:\n\u001B[1;32m    456\u001B[0m         \u001B[38;5;28;01mreturn\u001B[39;00m root\n",
      "File \u001B[0;32m~/miniconda3/envs/mt/lib/python3.8/site-packages/hydra/_internal/defaults_list.py:280\u001B[0m, in \u001B[0;36m_expand_virtual_root\u001B[0;34m(repo, root, overrides, skip_missing)\u001B[0m\n\u001B[1;32m    277\u001B[0m new_root \u001B[38;5;241m=\u001B[39m DefaultsTreeNode(node\u001B[38;5;241m=\u001B[39md, parent\u001B[38;5;241m=\u001B[39mroot)\n\u001B[1;32m    278\u001B[0m d\u001B[38;5;241m.\u001B[39mupdate_parent(\u001B[38;5;124m\"\u001B[39m\u001B[38;5;124m\"\u001B[39m, \u001B[38;5;124m\"\u001B[39m\u001B[38;5;124m\"\u001B[39m)\n\u001B[0;32m--> 280\u001B[0m subtree \u001B[38;5;241m=\u001B[39m \u001B[43m_create_defaults_tree_impl\u001B[49m\u001B[43m(\u001B[49m\n\u001B[1;32m    281\u001B[0m \u001B[43m    \u001B[49m\u001B[43mrepo\u001B[49m\u001B[38;5;241;43m=\u001B[39;49m\u001B[43mrepo\u001B[49m\u001B[43m,\u001B[49m\n\u001B[1;32m    282\u001B[0m \u001B[43m    \u001B[49m\u001B[43mroot\u001B[49m\u001B[38;5;241;43m=\u001B[39;49m\u001B[43mnew_root\u001B[49m\u001B[43m,\u001B[49m\n\u001B[1;32m    283\u001B[0m \u001B[43m    \u001B[49m\u001B[43mis_root_config\u001B[49m\u001B[38;5;241;43m=\u001B[39;49m\u001B[43md\u001B[49m\u001B[38;5;241;43m.\u001B[39;49m\u001B[43mprimary\u001B[49m\u001B[43m,\u001B[49m\n\u001B[1;32m    284\u001B[0m \u001B[43m    \u001B[49m\u001B[43mskip_missing\u001B[49m\u001B[38;5;241;43m=\u001B[39;49m\u001B[43mskip_missing\u001B[49m\u001B[43m,\u001B[49m\n\u001B[1;32m    285\u001B[0m \u001B[43m    \u001B[49m\u001B[43minterpolated_subtree\u001B[49m\u001B[38;5;241;43m=\u001B[39;49m\u001B[38;5;28;43;01mFalse\u001B[39;49;00m\u001B[43m,\u001B[49m\n\u001B[1;32m    286\u001B[0m \u001B[43m    \u001B[49m\u001B[43moverrides\u001B[49m\u001B[38;5;241;43m=\u001B[39;49m\u001B[43moverrides\u001B[49m\u001B[43m,\u001B[49m\n\u001B[1;32m    287\u001B[0m \u001B[43m\u001B[49m\u001B[43m)\u001B[49m\n\u001B[1;32m    288\u001B[0m \u001B[38;5;28;01mif\u001B[39;00m subtree\u001B[38;5;241m.\u001B[39mchildren \u001B[38;5;129;01mis\u001B[39;00m \u001B[38;5;28;01mNone\u001B[39;00m:\n\u001B[1;32m    289\u001B[0m     children\u001B[38;5;241m.\u001B[39mappend(d)\n",
      "File \u001B[0;32m~/miniconda3/envs/mt/lib/python3.8/site-packages/hydra/_internal/defaults_list.py:574\u001B[0m, in \u001B[0;36m_create_defaults_tree_impl\u001B[0;34m(repo, root, is_root_config, skip_missing, interpolated_subtree, overrides)\u001B[0m\n\u001B[1;32m    571\u001B[0m                 \u001B[38;5;28;01mcontinue\u001B[39;00m\n\u001B[1;32m    573\u001B[0m             new_root \u001B[38;5;241m=\u001B[39m DefaultsTreeNode(node\u001B[38;5;241m=\u001B[39md, parent\u001B[38;5;241m=\u001B[39mroot)\n\u001B[0;32m--> 574\u001B[0m             \u001B[43madd_child\u001B[49m\u001B[43m(\u001B[49m\u001B[43mchildren\u001B[49m\u001B[43m,\u001B[49m\u001B[43m \u001B[49m\u001B[43mnew_root\u001B[49m\u001B[43m)\u001B[49m\n\u001B[1;32m    576\u001B[0m \u001B[38;5;66;03m# processed deferred interpolations\u001B[39;00m\n\u001B[1;32m    577\u001B[0m known_choices \u001B[38;5;241m=\u001B[39m _create_interpolation_map(overrides, defaults_list, self_added)\n",
      "File \u001B[0;32m~/miniconda3/envs/mt/lib/python3.8/site-packages/hydra/_internal/defaults_list.py:517\u001B[0m, in \u001B[0;36m_create_defaults_tree_impl.<locals>.add_child\u001B[0;34m(child_list, new_root_)\u001B[0m\n\u001B[1;32m    513\u001B[0m \u001B[38;5;28;01mdef\u001B[39;00m \u001B[38;5;21madd_child\u001B[39m(\n\u001B[1;32m    514\u001B[0m     child_list: List[Union[InputDefault, DefaultsTreeNode]],\n\u001B[1;32m    515\u001B[0m     new_root_: DefaultsTreeNode,\n\u001B[1;32m    516\u001B[0m ) \u001B[38;5;241m-\u001B[39m\u001B[38;5;241m>\u001B[39m \u001B[38;5;28;01mNone\u001B[39;00m:\n\u001B[0;32m--> 517\u001B[0m     subtree_ \u001B[38;5;241m=\u001B[39m \u001B[43m_create_defaults_tree_impl\u001B[49m\u001B[43m(\u001B[49m\n\u001B[1;32m    518\u001B[0m \u001B[43m        \u001B[49m\u001B[43mrepo\u001B[49m\u001B[38;5;241;43m=\u001B[39;49m\u001B[43mrepo\u001B[49m\u001B[43m,\u001B[49m\n\u001B[1;32m    519\u001B[0m \u001B[43m        \u001B[49m\u001B[43mroot\u001B[49m\u001B[38;5;241;43m=\u001B[39;49m\u001B[43mnew_root_\u001B[49m\u001B[43m,\u001B[49m\n\u001B[1;32m    520\u001B[0m \u001B[43m        \u001B[49m\u001B[43mis_root_config\u001B[49m\u001B[38;5;241;43m=\u001B[39;49m\u001B[38;5;28;43;01mFalse\u001B[39;49;00m\u001B[43m,\u001B[49m\n\u001B[1;32m    521\u001B[0m \u001B[43m        \u001B[49m\u001B[43minterpolated_subtree\u001B[49m\u001B[38;5;241;43m=\u001B[39;49m\u001B[43minterpolated_subtree\u001B[49m\u001B[43m,\u001B[49m\n\u001B[1;32m    522\u001B[0m \u001B[43m        \u001B[49m\u001B[43mskip_missing\u001B[49m\u001B[38;5;241;43m=\u001B[39;49m\u001B[43mskip_missing\u001B[49m\u001B[43m,\u001B[49m\n\u001B[1;32m    523\u001B[0m \u001B[43m        \u001B[49m\u001B[43moverrides\u001B[49m\u001B[38;5;241;43m=\u001B[39;49m\u001B[43moverrides\u001B[49m\u001B[43m,\u001B[49m\n\u001B[1;32m    524\u001B[0m \u001B[43m    \u001B[49m\u001B[43m)\u001B[49m\n\u001B[1;32m    525\u001B[0m     \u001B[38;5;28;01mif\u001B[39;00m subtree_\u001B[38;5;241m.\u001B[39mchildren \u001B[38;5;129;01mis\u001B[39;00m \u001B[38;5;28;01mNone\u001B[39;00m:\n\u001B[1;32m    526\u001B[0m         child_list\u001B[38;5;241m.\u001B[39mappend(new_root_\u001B[38;5;241m.\u001B[39mnode)\n",
      "File \u001B[0;32m~/miniconda3/envs/mt/lib/python3.8/site-packages/hydra/_internal/defaults_list.py:485\u001B[0m, in \u001B[0;36m_create_defaults_tree_impl\u001B[0;34m(repo, root, is_root_config, skip_missing, interpolated_subtree, overrides)\u001B[0m\n\u001B[1;32m    483\u001B[0m         parent\u001B[38;5;241m.\u001B[39mdeleted \u001B[38;5;241m=\u001B[39m \u001B[38;5;28;01mTrue\u001B[39;00m\n\u001B[1;32m    484\u001B[0m         \u001B[38;5;28;01mreturn\u001B[39;00m root\n\u001B[0;32m--> 485\u001B[0m     \u001B[43mconfig_not_found_error\u001B[49m\u001B[43m(\u001B[49m\u001B[43mrepo\u001B[49m\u001B[38;5;241;43m=\u001B[39;49m\u001B[43mrepo\u001B[49m\u001B[43m,\u001B[49m\u001B[43m \u001B[49m\u001B[43mtree\u001B[49m\u001B[38;5;241;43m=\u001B[39;49m\u001B[43mroot\u001B[49m\u001B[43m)\u001B[49m\n\u001B[1;32m    487\u001B[0m \u001B[38;5;28;01massert\u001B[39;00m loaded \u001B[38;5;129;01mis\u001B[39;00m \u001B[38;5;129;01mnot\u001B[39;00m \u001B[38;5;28;01mNone\u001B[39;00m\n\u001B[1;32m    488\u001B[0m defaults_list \u001B[38;5;241m=\u001B[39m copy\u001B[38;5;241m.\u001B[39mdeepcopy(loaded\u001B[38;5;241m.\u001B[39mdefaults_list)\n",
      "File \u001B[0;32m~/miniconda3/envs/mt/lib/python3.8/site-packages/hydra/_internal/defaults_list.py:801\u001B[0m, in \u001B[0;36mconfig_not_found_error\u001B[0;34m(repo, tree)\u001B[0m\n\u001B[1;32m    798\u001B[0m lines \u001B[38;5;241m=\u001B[39m \u001B[38;5;124m\"\u001B[39m\u001B[38;5;130;01m\\n\u001B[39;00m\u001B[38;5;124m\"\u001B[39m\u001B[38;5;241m.\u001B[39mjoin(descs)\n\u001B[1;32m    799\u001B[0m msg \u001B[38;5;241m+\u001B[39m\u001B[38;5;241m=\u001B[39m \u001B[38;5;124m\"\u001B[39m\u001B[38;5;130;01m\\n\u001B[39;00m\u001B[38;5;124mConfig search path:\u001B[39m\u001B[38;5;124m\"\u001B[39m \u001B[38;5;241m+\u001B[39m \u001B[38;5;124mf\u001B[39m\u001B[38;5;124m\"\u001B[39m\u001B[38;5;130;01m\\n\u001B[39;00m\u001B[38;5;132;01m{\u001B[39;00mlines\u001B[38;5;132;01m}\u001B[39;00m\u001B[38;5;124m\"\u001B[39m\n\u001B[0;32m--> 801\u001B[0m \u001B[38;5;28;01mraise\u001B[39;00m MissingConfigException(\n\u001B[1;32m    802\u001B[0m     missing_cfg_file\u001B[38;5;241m=\u001B[39melement\u001B[38;5;241m.\u001B[39mget_config_path(),\n\u001B[1;32m    803\u001B[0m     message\u001B[38;5;241m=\u001B[39mmsg,\n\u001B[1;32m    804\u001B[0m     options\u001B[38;5;241m=\u001B[39moptions,\n\u001B[1;32m    805\u001B[0m )\n",
      "\u001B[0;31mMissingConfigException\u001B[0m: In 'hydra/config': Could not find 'hydra/job_logging/colorlog'\n\nAvailable options in 'hydra/job_logging':\n\tdefault\n\tdisabled\n\tnone\n\tstdout\nConfig search path:\n\tprovider=hydra, path=pkg://hydra.conf\n\tprovider=main, path=file:///home/kuntik/dev/MT/configs\n\tprovider=schema, path=structured://"
     ]
    }
   ],
   "source": [
    "# import src.modules.yolov5\n",
    "with hydra.initialize(config_path='../configs'):\n",
    "    cfg = hydra.compose(config_name='train', overrides=['module=yolov5', 'datamodule.batch_size=1'])\n",
    "model = hydra.utils.instantiate(cfg.module.model)\n",
    "# model._get_lightning_module_state_dict(),\n"
   ],
   "metadata": {
    "collapsed": false,
    "pycharm": {
     "name": "#%%\n"
    }
   }
  }
 ],
 "metadata": {
  "kernelspec": {
   "display_name": "Python 3",
   "language": "python",
   "name": "python3"
  },
  "language_info": {
   "codemirror_mode": {
    "name": "ipython",
    "version": 2
   },
   "file_extension": ".py",
   "mimetype": "text/x-python",
   "name": "python",
   "nbconvert_exporter": "python",
   "pygments_lexer": "ipython2",
   "version": "2.7.6"
  }
 },
 "nbformat": 4,
 "nbformat_minor": 0
}