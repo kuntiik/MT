{
 "cells": [
  {
   "cell_type": "code",
   "execution_count": 1,
   "outputs": [],
   "source": [
    "from hydra import compose, initialize\n",
    "from omegaconf import OmegaConf\n",
    "import hydra"
   ],
   "metadata": {
    "collapsed": false,
    "pycharm": {
     "name": "#%%\n"
    }
   }
  },
  {
   "cell_type": "code",
   "execution_count": 3,
   "outputs": [
    {
     "name": "stdout",
     "output_type": "stream",
     "text": [
      "seed: 42\n",
      "name: null\n",
      "trainer:\n",
      "  _target_: pytorch_lightning.Trainer\n",
      "  gpus: 1\n",
      "  accumulate_grad_batches: 4\n",
      "module:\n",
      "  model_type: yolov5\n",
      "  backbone: large_p6\n",
      "  img_size:\n",
      "  - 960\n",
      "  - 768\n",
      "  model:\n",
      "    _target_: src.modules.yolov5.YoloV5Module\n",
      "    model:\n",
      "      _target_: src.models.yolov5.model\n",
      "      backbone:\n",
      "        _target_: src.models.yolov5.backbones.${module.backbone}\n",
      "        pretrained: 0\n",
      "      num_classes: 2\n",
      "      img_size: 960\n",
      "    learning_rate: 0.0001\n",
      "    weight_decay: 1.0e-06\n",
      "datamodule:\n",
      "  _target_: src.datamodules.dental_caries.DentalCaries\n",
      "  data_root: /datagrid/personal/kuntluka/dental_merged\n",
      "  model_type: ${module.model_type}\n",
      "  ann_file: annotations2.json\n",
      "  batch_size: 1\n",
      "  num_workers: 8\n",
      "  limit_train_samples: null\n",
      "  train_val_test_split:\n",
      "  - 0.7\n",
      "  - 0.15\n",
      "  - 0.15\n",
      "  seed: ${seed}\n",
      "logger:\n",
      "  wandb:\n",
      "    _target_: pytorch_lightning.loggers.wandb.WandbLogger\n",
      "    project: MT2\n",
      "    offline: false\n",
      "    id: null\n",
      "    log_model: false\n",
      "    prefix: ''\n",
      "    job_type: train\n",
      "    group: ''\n",
      "    tags: []\n",
      "callbacks:\n",
      "  rich_progress_bar:\n",
      "    _target_: pytorch_lightning.callbacks.RichProgressBar\n",
      "  model_checkpoint:\n",
      "    _target_: pytorch_lightning.callbacks.ModelCheckpoint\n",
      "    monitor: val/map_50\n",
      "    mode: max\n",
      "    save_top_k: 1\n",
      "    save_last: true\n",
      "    verbose: false\n",
      "    dirpath: checkpoints/\n",
      "    filename: epoch_{epoch:03d}_{val/map_50:.3f}\n",
      "    auto_insert_metric_name: false\n",
      "    save_weights_only: true\n",
      "  learning_rate_monitor:\n",
      "    _target_: pytorch_lightning.callbacks.LearningRateMonitor\n",
      "    logging_interval: epoch\n",
      "  early_stopping:\n",
      "    _target_: pytorch_lightning.callbacks.EarlyStopping\n",
      "    monitor: val/map_50\n",
      "    mode: max\n",
      "    patience: 10\n",
      "    min_delta: 0.005\n",
      "transforms:\n",
      "  _target_: src.transforms.transforms_composer.TransformsComposer\n",
      "  cfg:\n",
      "    image_size: ${module.img_size}\n",
      "    horizontal_flip:\n",
      "      apply: true\n",
      "      transform:\n",
      "        _target_: albumentations.HorizontalFlip\n",
      "        p: 0.5\n",
      "    vertical_flip:\n",
      "      apply: true\n",
      "      transform:\n",
      "        _target_: albumentations.VerticalFlip\n",
      "        p: 0.5\n",
      "    rotate:\n",
      "      apply: true\n",
      "      transform:\n",
      "        _target_: albumentations.Rotate\n",
      "        limit: 10\n",
      "        p: 0.3\n",
      "    affine_transform:\n",
      "      apply: true\n",
      "      transform:\n",
      "        _target_: albumentations.Affine\n",
      "        translate_percent:\n",
      "        - -0.1\n",
      "        - 0.1\n",
      "        p: 0.5\n",
      "    gaussian_blur:\n",
      "      apply: true\n",
      "      transform:\n",
      "        _target_: albumentations.GaussianBlur\n",
      "        blur_limit:\n",
      "        - 7\n",
      "        - 31\n",
      "        p: 0.3\n",
      "    random_gamma:\n",
      "      apply: true\n",
      "      transform:\n",
      "        _target_: albumentations.RandomGamma\n",
      "        gamma_limit:\n",
      "        - 60\n",
      "        - 140\n",
      "        p: 0.3\n",
      "\n"
     ]
    }
   ],
   "source": [
    "with initialize(config_path=\"../configs\"):\n",
    "    cfg = compose(config_name='train', overrides=['module=yolov5.yaml'])\n",
    "    print(OmegaConf.to_yaml(cfg))"
   ],
   "metadata": {
    "collapsed": false,
    "pycharm": {
     "name": "#%%\n"
    }
   }
  },
  {
   "cell_type": "code",
   "execution_count": 4,
   "outputs": [
    {
     "name": "stderr",
     "output_type": "stream",
     "text": [
      "/home/kuntik/miniconda3/envs/det/lib/python3.8/site-packages/torchvision/io/image.py:13: UserWarning: Failed to load image Python extension: libc10_cuda.so: cannot open shared object file: No such file or directory\n",
      "  warn(f\"Failed to load image Python extension: {e}\")\n"
     ]
    },
    {
     "ename": "ImportError",
     "evalue": "Error loading module 'src.modules.yolov5.YoloV5Module'",
     "output_type": "error",
     "traceback": [
      "\u001B[0;31m---------------------------------------------------------------------------\u001B[0m",
      "\u001B[0;31mValueError\u001B[0m                                Traceback (most recent call last)",
      "File \u001B[0;32m~/miniconda3/envs/det/lib/python3.8/site-packages/hydra/_internal/utils.py:570\u001B[0m, in \u001B[0;36m_locate\u001B[0;34m(path)\u001B[0m\n\u001B[1;32m    569\u001B[0m     mod \u001B[38;5;241m=\u001B[39m \u001B[38;5;124m\"\u001B[39m\u001B[38;5;124m.\u001B[39m\u001B[38;5;124m\"\u001B[39m\u001B[38;5;241m.\u001B[39mjoin(parts[:n])\n\u001B[0;32m--> 570\u001B[0m     module \u001B[38;5;241m=\u001B[39m \u001B[43mimport_module\u001B[49m\u001B[43m(\u001B[49m\u001B[43mmod\u001B[49m\u001B[43m)\u001B[49m\n\u001B[1;32m    571\u001B[0m \u001B[38;5;28;01mexcept\u001B[39;00m \u001B[38;5;167;01mException\u001B[39;00m \u001B[38;5;28;01mas\u001B[39;00m e:\n",
      "File \u001B[0;32m~/miniconda3/envs/det/lib/python3.8/importlib/__init__.py:127\u001B[0m, in \u001B[0;36mimport_module\u001B[0;34m(name, package)\u001B[0m\n\u001B[1;32m    126\u001B[0m         level \u001B[38;5;241m+\u001B[39m\u001B[38;5;241m=\u001B[39m \u001B[38;5;241m1\u001B[39m\n\u001B[0;32m--> 127\u001B[0m \u001B[38;5;28;01mreturn\u001B[39;00m \u001B[43m_bootstrap\u001B[49m\u001B[38;5;241;43m.\u001B[39;49m\u001B[43m_gcd_import\u001B[49m\u001B[43m(\u001B[49m\u001B[43mname\u001B[49m\u001B[43m[\u001B[49m\u001B[43mlevel\u001B[49m\u001B[43m:\u001B[49m\u001B[43m]\u001B[49m\u001B[43m,\u001B[49m\u001B[43m \u001B[49m\u001B[43mpackage\u001B[49m\u001B[43m,\u001B[49m\u001B[43m \u001B[49m\u001B[43mlevel\u001B[49m\u001B[43m)\u001B[49m\n",
      "File \u001B[0;32m<frozen importlib._bootstrap>:1011\u001B[0m, in \u001B[0;36m_gcd_import\u001B[0;34m(name, package, level)\u001B[0m\n",
      "File \u001B[0;32m<frozen importlib._bootstrap>:950\u001B[0m, in \u001B[0;36m_sanity_check\u001B[0;34m(name, package, level)\u001B[0m\n",
      "\u001B[0;31mValueError\u001B[0m: Empty module name",
      "\nThe above exception was the direct cause of the following exception:\n",
      "\u001B[0;31mImportError\u001B[0m                               Traceback (most recent call last)",
      "Input \u001B[0;32mIn [4]\u001B[0m, in \u001B[0;36m<cell line: 2>\u001B[0;34m()\u001B[0m\n\u001B[1;32m      1\u001B[0m \u001B[38;5;66;03m# import src.modules.yolov5\u001B[39;00m\n\u001B[0;32m----> 2\u001B[0m model \u001B[38;5;241m=\u001B[39m \u001B[43mhydra\u001B[49m\u001B[38;5;241;43m.\u001B[39;49m\u001B[43mutils\u001B[49m\u001B[38;5;241;43m.\u001B[39;49m\u001B[43minstantiate\u001B[49m\u001B[43m(\u001B[49m\u001B[43mcfg\u001B[49m\u001B[38;5;241;43m.\u001B[39;49m\u001B[43mmodule\u001B[49m\u001B[38;5;241;43m.\u001B[39;49m\u001B[43mmodel\u001B[49m\u001B[43m)\u001B[49m\n",
      "File \u001B[0;32m~/miniconda3/envs/det/lib/python3.8/site-packages/hydra/_internal/instantiate/_instantiate2.py:180\u001B[0m, in \u001B[0;36minstantiate\u001B[0;34m(config, *args, **kwargs)\u001B[0m\n\u001B[1;32m    177\u001B[0m     _recursive_ \u001B[38;5;241m=\u001B[39m config\u001B[38;5;241m.\u001B[39mpop(_Keys\u001B[38;5;241m.\u001B[39mRECURSIVE, \u001B[38;5;28;01mTrue\u001B[39;00m)\n\u001B[1;32m    178\u001B[0m     _convert_ \u001B[38;5;241m=\u001B[39m config\u001B[38;5;241m.\u001B[39mpop(_Keys\u001B[38;5;241m.\u001B[39mCONVERT, ConvertMode\u001B[38;5;241m.\u001B[39mNONE)\n\u001B[0;32m--> 180\u001B[0m     \u001B[38;5;28;01mreturn\u001B[39;00m \u001B[43minstantiate_node\u001B[49m\u001B[43m(\u001B[49m\u001B[43mconfig\u001B[49m\u001B[43m,\u001B[49m\u001B[43m \u001B[49m\u001B[38;5;241;43m*\u001B[39;49m\u001B[43margs\u001B[49m\u001B[43m,\u001B[49m\u001B[43m \u001B[49m\u001B[43mrecursive\u001B[49m\u001B[38;5;241;43m=\u001B[39;49m\u001B[43m_recursive_\u001B[49m\u001B[43m,\u001B[49m\u001B[43m \u001B[49m\u001B[43mconvert\u001B[49m\u001B[38;5;241;43m=\u001B[39;49m\u001B[43m_convert_\u001B[49m\u001B[43m)\u001B[49m\n\u001B[1;32m    181\u001B[0m \u001B[38;5;28;01melse\u001B[39;00m:\n\u001B[1;32m    182\u001B[0m     \u001B[38;5;28;01mraise\u001B[39;00m InstantiationException(\n\u001B[1;32m    183\u001B[0m         \u001B[38;5;124m\"\u001B[39m\u001B[38;5;124mTop level config has to be OmegaConf DictConfig, plain dict, or a Structured Config class or instance\u001B[39m\u001B[38;5;124m\"\u001B[39m\n\u001B[1;32m    184\u001B[0m     )\n",
      "File \u001B[0;32m~/miniconda3/envs/det/lib/python3.8/site-packages/hydra/_internal/instantiate/_instantiate2.py:240\u001B[0m, in \u001B[0;36minstantiate_node\u001B[0;34m(node, convert, recursive, *args)\u001B[0m\n\u001B[1;32m    238\u001B[0m exclude_keys \u001B[38;5;241m=\u001B[39m \u001B[38;5;28mset\u001B[39m({\u001B[38;5;124m\"\u001B[39m\u001B[38;5;124m_target_\u001B[39m\u001B[38;5;124m\"\u001B[39m, \u001B[38;5;124m\"\u001B[39m\u001B[38;5;124m_convert_\u001B[39m\u001B[38;5;124m\"\u001B[39m, \u001B[38;5;124m\"\u001B[39m\u001B[38;5;124m_recursive_\u001B[39m\u001B[38;5;124m\"\u001B[39m})\n\u001B[1;32m    239\u001B[0m \u001B[38;5;28;01mif\u001B[39;00m _is_target(node):\n\u001B[0;32m--> 240\u001B[0m     _target_ \u001B[38;5;241m=\u001B[39m \u001B[43m_resolve_target\u001B[49m\u001B[43m(\u001B[49m\u001B[43mnode\u001B[49m\u001B[38;5;241;43m.\u001B[39;49m\u001B[43mget\u001B[49m\u001B[43m(\u001B[49m\u001B[43m_Keys\u001B[49m\u001B[38;5;241;43m.\u001B[39;49m\u001B[43mTARGET\u001B[49m\u001B[43m)\u001B[49m\u001B[43m)\u001B[49m\n\u001B[1;32m    241\u001B[0m     kwargs \u001B[38;5;241m=\u001B[39m {}\n\u001B[1;32m    242\u001B[0m     \u001B[38;5;28;01mfor\u001B[39;00m key, value \u001B[38;5;129;01min\u001B[39;00m node\u001B[38;5;241m.\u001B[39mitems():\n",
      "File \u001B[0;32m~/miniconda3/envs/det/lib/python3.8/site-packages/hydra/_internal/instantiate/_instantiate2.py:104\u001B[0m, in \u001B[0;36m_resolve_target\u001B[0;34m(target)\u001B[0m\n\u001B[1;32m    102\u001B[0m \u001B[38;5;124;03m\"\"\"Resolve target string, type or callable into type or callable.\"\"\"\u001B[39;00m\n\u001B[1;32m    103\u001B[0m \u001B[38;5;28;01mif\u001B[39;00m \u001B[38;5;28misinstance\u001B[39m(target, \u001B[38;5;28mstr\u001B[39m):\n\u001B[0;32m--> 104\u001B[0m     \u001B[38;5;28;01mreturn\u001B[39;00m \u001B[43m_locate\u001B[49m\u001B[43m(\u001B[49m\u001B[43mtarget\u001B[49m\u001B[43m)\u001B[49m\n\u001B[1;32m    105\u001B[0m \u001B[38;5;28;01mif\u001B[39;00m \u001B[38;5;28misinstance\u001B[39m(target, \u001B[38;5;28mtype\u001B[39m):\n\u001B[1;32m    106\u001B[0m     \u001B[38;5;28;01mreturn\u001B[39;00m target\n",
      "File \u001B[0;32m~/miniconda3/envs/det/lib/python3.8/site-packages/hydra/_internal/utils.py:573\u001B[0m, in \u001B[0;36m_locate\u001B[0;34m(path)\u001B[0m\n\u001B[1;32m    571\u001B[0m \u001B[38;5;28;01mexcept\u001B[39;00m \u001B[38;5;167;01mException\u001B[39;00m \u001B[38;5;28;01mas\u001B[39;00m e:\n\u001B[1;32m    572\u001B[0m     \u001B[38;5;28;01mif\u001B[39;00m n \u001B[38;5;241m==\u001B[39m \u001B[38;5;241m0\u001B[39m:\n\u001B[0;32m--> 573\u001B[0m         \u001B[38;5;28;01mraise\u001B[39;00m \u001B[38;5;167;01mImportError\u001B[39;00m(\u001B[38;5;124mf\u001B[39m\u001B[38;5;124m\"\u001B[39m\u001B[38;5;124mError loading module \u001B[39m\u001B[38;5;124m'\u001B[39m\u001B[38;5;132;01m{\u001B[39;00mpath\u001B[38;5;132;01m}\u001B[39;00m\u001B[38;5;124m'\u001B[39m\u001B[38;5;124m\"\u001B[39m) \u001B[38;5;28;01mfrom\u001B[39;00m \u001B[38;5;21;01me\u001B[39;00m\n\u001B[1;32m    574\u001B[0m     \u001B[38;5;28;01mcontinue\u001B[39;00m\n\u001B[1;32m    575\u001B[0m \u001B[38;5;28;01mif\u001B[39;00m module:\n",
      "\u001B[0;31mImportError\u001B[0m: Error loading module 'src.modules.yolov5.YoloV5Module'"
     ]
    }
   ],
   "source": [
    "# import src.modules.yolov5\n",
    "model = hydra.utils.instantiate(cfg.module.model)\n",
    "# model._get_lightning_module_state_dict(),\n"
   ],
   "metadata": {
    "collapsed": false,
    "pycharm": {
     "name": "#%%\n"
    }
   }
  }
 ],
 "metadata": {
  "kernelspec": {
   "display_name": "Python 3",
   "language": "python",
   "name": "python3"
  },
  "language_info": {
   "codemirror_mode": {
    "name": "ipython",
    "version": 2
   },
   "file_extension": ".py",
   "mimetype": "text/x-python",
   "name": "python",
   "nbconvert_exporter": "python",
   "pygments_lexer": "ipython2",
   "version": "2.7.6"
  }
 },
 "nbformat": 4,
 "nbformat_minor": 0
}