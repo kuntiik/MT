{
 "cells": [
  {
   "cell_type": "code",
   "execution_count": 1,
   "metadata": {
    "collapsed": true
   },
   "outputs": [
    {
     "name": "stdout",
     "output_type": "stream",
     "text": [
      "foo\n"
     ]
    }
   ],
   "source": [
    "print('foo')"
   ]
  },
  {
   "cell_type": "markdown",
   "source": [],
   "metadata": {
    "collapsed": false
   }
  },
  {
   "cell_type": "code",
   "execution_count": 1,
   "outputs": [
    {
     "ename": "RuntimeError",
     "evalue": "\nobject has no attribute nms:\n  File \"/home/kuntik/miniconda3/envs/mt/lib/python3.9/site-packages/torchvision/ops/boxes.py\", line 42\n    \"\"\"\n    _assert_has_ops()\n    return torch.ops.torchvision.nms(boxes, scores, iou_threshold)\n           ~~~~~~~~~~~~~~~~~~~~~~~~~ <--- HERE\n'nms' is being compiled since it was called from 'batched_nms'\n  File \"/home/kuntik/miniconda3/envs/mt/lib/python3.9/site-packages/torchvision/ops/boxes.py\", line 88\n        offsets = idxs.to(boxes) * (max_coordinate + torch.tensor(1).to(boxes))\n        boxes_for_nms = boxes + offsets[:, None]\n        keep = nms(boxes_for_nms, scores, iou_threshold)\n        ~~~~~~~~~~~~~~~~~~~~~~~~~~~~~~~~~~~~~~~~~~~~~~~ <--- HERE\n        return keep\n'batched_nms' is being compiled since it was called from 'generate_detections'\n  File \"/home/kuntik/miniconda3/envs/mt/lib/python3.9/site-packages/effdet/anchors.py\", line 140\n        scores[top_detection_idx] = soft_scores\n    else:\n        top_detection_idx = batched_nms(boxes, scores, classes, iou_threshold=0.5)\n        ~~~~~~~~~~~~~~~~~~~~~~~~~~~~~~~~~~~~~~~~~~~~~~~~~~~~~~~~~~~~~~~~~~~~~~~~~ <--- HERE\n\n    # keep only top max_det_per_image scoring predictions\n'generate_detections' is being compiled since it was called from '_batch_detection'\n  File \"/home/kuntik/miniconda3/envs/mt/lib/python3.9/site-packages/effdet/bench.py\", line 82\n        img_scale_i = None if img_scale is None else img_scale[i]\n        img_size_i = None if img_size is None else img_size[i]\n        detections = generate_detections(\n        ~~~~~~~~~~~~~~~~~~~~~~~~~~~~~~~~~\n            class_out[i], box_out[i], anchor_boxes, indices[i], classes[i],\n            ~~~~~~~~~~~~~~~~~~~~~~~~~~~~~~~~~~~~~~~~~~~~~~~~~~~~~~~~~~~~~~~\n            img_scale_i, img_size_i, max_det_per_image=max_det_per_image, soft_nms=soft_nms)\n            ~~~~~~~~~~~~~~~~~~~~~~~~~~~~~~~~~~~~~~~~~~~~~~~~~~~~~~~~~~~~~~~~~~~~~~~~~~~~~~~ <--- HERE\n        batch_detections.append(detections)\n    return torch.stack(batch_detections, dim=0)\n",
     "output_type": "error",
     "traceback": [
      "\u001B[0;31m---------------------------------------------------------------------------\u001B[0m",
      "\u001B[0;31mRuntimeError\u001B[0m                              Traceback (most recent call last)",
      "\u001B[0;32m/tmp/ipykernel_61272/1167084692.py\u001B[0m in \u001B[0;36m<module>\u001B[0;34m\u001B[0m\n\u001B[0;32m----> 1\u001B[0;31m \u001B[0;32mfrom\u001B[0m \u001B[0msrc\u001B[0m\u001B[0;34m.\u001B[0m\u001B[0mlightning_modules\u001B[0m\u001B[0;34m.\u001B[0m\u001B[0mmodels\u001B[0m\u001B[0;34m.\u001B[0m\u001B[0mefficientdet\u001B[0m \u001B[0;32mimport\u001B[0m \u001B[0;34m*\u001B[0m\u001B[0;34m\u001B[0m\u001B[0;34m\u001B[0m\u001B[0m\n\u001B[0m",
      "\u001B[0;32m~/PycharmProjects/MT/src/lightning_modules/models/efficientdet/__init__.py\u001B[0m in \u001B[0;36m<module>\u001B[0;34m\u001B[0m\n\u001B[0;32m----> 1\u001B[0;31m \u001B[0;32mfrom\u001B[0m \u001B[0msrc\u001B[0m\u001B[0;34m.\u001B[0m\u001B[0mlightning_modules\u001B[0m\u001B[0;34m.\u001B[0m\u001B[0mmodels\u001B[0m\u001B[0;34m.\u001B[0m\u001B[0mefficientdet\u001B[0m\u001B[0;34m.\u001B[0m\u001B[0mmodel\u001B[0m \u001B[0;32mimport\u001B[0m \u001B[0;34m*\u001B[0m\u001B[0;34m\u001B[0m\u001B[0;34m\u001B[0m\u001B[0m\n\u001B[0m\u001B[1;32m      2\u001B[0m \u001B[0;32mfrom\u001B[0m \u001B[0msrc\u001B[0m\u001B[0;34m.\u001B[0m\u001B[0mlightning_modules\u001B[0m\u001B[0;34m.\u001B[0m\u001B[0mmodels\u001B[0m\u001B[0;34m.\u001B[0m\u001B[0mefficientdet\u001B[0m\u001B[0;34m.\u001B[0m\u001B[0mprediction\u001B[0m \u001B[0;32mimport\u001B[0m \u001B[0mconvert_raw_predictions\u001B[0m\u001B[0;34m\u001B[0m\u001B[0;34m\u001B[0m\u001B[0m\n\u001B[1;32m      3\u001B[0m \u001B[0;34m\u001B[0m\u001B[0m\n",
      "\u001B[0;32m~/PycharmProjects/MT/src/lightning_modules/models/efficientdet/model.py\u001B[0m in \u001B[0;36m<module>\u001B[0;34m\u001B[0m\n\u001B[1;32m      6\u001B[0m \u001B[0;32mimport\u001B[0m \u001B[0mtorchvision\u001B[0m\u001B[0;34m\u001B[0m\u001B[0;34m\u001B[0m\u001B[0m\n\u001B[1;32m      7\u001B[0m \u001B[0;32mimport\u001B[0m \u001B[0mtorch\u001B[0m\u001B[0;34m\u001B[0m\u001B[0;34m\u001B[0m\u001B[0m\n\u001B[0;32m----> 8\u001B[0;31m \u001B[0;32mfrom\u001B[0m \u001B[0meffdet\u001B[0m \u001B[0;32mimport\u001B[0m \u001B[0mget_efficientdet_config\u001B[0m\u001B[0;34m,\u001B[0m \u001B[0mEfficientDet\u001B[0m\u001B[0;34m,\u001B[0m \u001B[0mDetBenchTrain\u001B[0m\u001B[0;34m,\u001B[0m \u001B[0munwrap_bench\u001B[0m\u001B[0;34m\u001B[0m\u001B[0;34m\u001B[0m\u001B[0m\n\u001B[0m\u001B[1;32m      9\u001B[0m \u001B[0;32mfrom\u001B[0m \u001B[0meffdet\u001B[0m \u001B[0;32mimport\u001B[0m \u001B[0mcreate_model_from_config\u001B[0m\u001B[0;34m\u001B[0m\u001B[0;34m\u001B[0m\u001B[0m\n\u001B[1;32m     10\u001B[0m \u001B[0;32mfrom\u001B[0m \u001B[0meffdet\u001B[0m\u001B[0;34m.\u001B[0m\u001B[0mefficientdet\u001B[0m \u001B[0;32mimport\u001B[0m \u001B[0mHeadNet\u001B[0m\u001B[0;34m\u001B[0m\u001B[0;34m\u001B[0m\u001B[0m\n",
      "\u001B[0;32m~/miniconda3/envs/mt/lib/python3.9/site-packages/effdet/__init__.py\u001B[0m in \u001B[0;36m<module>\u001B[0;34m\u001B[0m\n\u001B[1;32m      1\u001B[0m \u001B[0;32mfrom\u001B[0m \u001B[0;34m.\u001B[0m\u001B[0mefficientdet\u001B[0m \u001B[0;32mimport\u001B[0m \u001B[0mEfficientDet\u001B[0m\u001B[0;34m\u001B[0m\u001B[0;34m\u001B[0m\u001B[0m\n\u001B[0;32m----> 2\u001B[0;31m \u001B[0;32mfrom\u001B[0m \u001B[0;34m.\u001B[0m\u001B[0mbench\u001B[0m \u001B[0;32mimport\u001B[0m \u001B[0mDetBenchPredict\u001B[0m\u001B[0;34m,\u001B[0m \u001B[0mDetBenchTrain\u001B[0m\u001B[0;34m,\u001B[0m \u001B[0munwrap_bench\u001B[0m\u001B[0;34m\u001B[0m\u001B[0;34m\u001B[0m\u001B[0m\n\u001B[0m\u001B[1;32m      3\u001B[0m \u001B[0;32mfrom\u001B[0m \u001B[0;34m.\u001B[0m\u001B[0mdata\u001B[0m \u001B[0;32mimport\u001B[0m \u001B[0mcreate_dataset\u001B[0m\u001B[0;34m,\u001B[0m \u001B[0mcreate_loader\u001B[0m\u001B[0;34m,\u001B[0m \u001B[0mcreate_parser\u001B[0m\u001B[0;34m,\u001B[0m \u001B[0mDetectionDatset\u001B[0m\u001B[0;34m,\u001B[0m \u001B[0mSkipSubset\u001B[0m\u001B[0;34m\u001B[0m\u001B[0;34m\u001B[0m\u001B[0m\n\u001B[1;32m      4\u001B[0m \u001B[0;32mfrom\u001B[0m \u001B[0;34m.\u001B[0m\u001B[0mevaluator\u001B[0m \u001B[0;32mimport\u001B[0m \u001B[0mCocoEvaluator\u001B[0m\u001B[0;34m,\u001B[0m \u001B[0mPascalEvaluator\u001B[0m\u001B[0;34m,\u001B[0m \u001B[0mOpenImagesEvaluator\u001B[0m\u001B[0;34m,\u001B[0m \u001B[0mcreate_evaluator\u001B[0m\u001B[0;34m\u001B[0m\u001B[0;34m\u001B[0m\u001B[0m\n\u001B[1;32m      5\u001B[0m \u001B[0;32mfrom\u001B[0m \u001B[0;34m.\u001B[0m\u001B[0mconfig\u001B[0m \u001B[0;32mimport\u001B[0m \u001B[0mget_efficientdet_config\u001B[0m\u001B[0;34m,\u001B[0m \u001B[0mdefault_detection_model_configs\u001B[0m\u001B[0;34m\u001B[0m\u001B[0;34m\u001B[0m\u001B[0m\n",
      "\u001B[0;32m~/miniconda3/envs/mt/lib/python3.9/site-packages/effdet/bench.py\u001B[0m in \u001B[0;36m<module>\u001B[0;34m\u001B[0m\n\u001B[1;32m     68\u001B[0m \u001B[0;34m\u001B[0m\u001B[0m\n\u001B[1;32m     69\u001B[0m \u001B[0;34m@\u001B[0m\u001B[0mtorch\u001B[0m\u001B[0;34m.\u001B[0m\u001B[0mjit\u001B[0m\u001B[0;34m.\u001B[0m\u001B[0mscript\u001B[0m\u001B[0;34m\u001B[0m\u001B[0;34m\u001B[0m\u001B[0m\n\u001B[0;32m---> 70\u001B[0;31m def _batch_detection(\n\u001B[0m\u001B[1;32m     71\u001B[0m         \u001B[0mbatch_size\u001B[0m\u001B[0;34m:\u001B[0m \u001B[0mint\u001B[0m\u001B[0;34m,\u001B[0m \u001B[0mclass_out\u001B[0m\u001B[0;34m,\u001B[0m \u001B[0mbox_out\u001B[0m\u001B[0;34m,\u001B[0m \u001B[0manchor_boxes\u001B[0m\u001B[0;34m,\u001B[0m \u001B[0mindices\u001B[0m\u001B[0;34m,\u001B[0m \u001B[0mclasses\u001B[0m\u001B[0;34m,\u001B[0m\u001B[0;34m\u001B[0m\u001B[0;34m\u001B[0m\u001B[0m\n\u001B[1;32m     72\u001B[0m         \u001B[0mimg_scale\u001B[0m\u001B[0;34m:\u001B[0m \u001B[0mOptional\u001B[0m\u001B[0;34m[\u001B[0m\u001B[0mtorch\u001B[0m\u001B[0;34m.\u001B[0m\u001B[0mTensor\u001B[0m\u001B[0;34m]\u001B[0m \u001B[0;34m=\u001B[0m \u001B[0;32mNone\u001B[0m\u001B[0;34m,\u001B[0m\u001B[0;34m\u001B[0m\u001B[0;34m\u001B[0m\u001B[0m\n",
      "\u001B[0;32m~/miniconda3/envs/mt/lib/python3.9/site-packages/torch/jit/_script.py\u001B[0m in \u001B[0;36mscript\u001B[0;34m(obj, optimize, _frames_up, _rcb, example_inputs)\u001B[0m\n\u001B[1;32m   1308\u001B[0m         \u001B[0;32mif\u001B[0m \u001B[0m_rcb\u001B[0m \u001B[0;32mis\u001B[0m \u001B[0;32mNone\u001B[0m\u001B[0;34m:\u001B[0m\u001B[0;34m\u001B[0m\u001B[0;34m\u001B[0m\u001B[0m\n\u001B[1;32m   1309\u001B[0m             \u001B[0m_rcb\u001B[0m \u001B[0;34m=\u001B[0m \u001B[0m_jit_internal\u001B[0m\u001B[0;34m.\u001B[0m\u001B[0mcreateResolutionCallbackFromClosure\u001B[0m\u001B[0;34m(\u001B[0m\u001B[0mobj\u001B[0m\u001B[0;34m)\u001B[0m\u001B[0;34m\u001B[0m\u001B[0;34m\u001B[0m\u001B[0m\n\u001B[0;32m-> 1310\u001B[0;31m         fn = torch._C._jit_script_compile(\n\u001B[0m\u001B[1;32m   1311\u001B[0m             \u001B[0mqualified_name\u001B[0m\u001B[0;34m,\u001B[0m \u001B[0mast\u001B[0m\u001B[0;34m,\u001B[0m \u001B[0m_rcb\u001B[0m\u001B[0;34m,\u001B[0m \u001B[0mget_default_args\u001B[0m\u001B[0;34m(\u001B[0m\u001B[0mobj\u001B[0m\u001B[0;34m)\u001B[0m\u001B[0;34m\u001B[0m\u001B[0;34m\u001B[0m\u001B[0m\n\u001B[1;32m   1312\u001B[0m         )\n",
      "\u001B[0;32m~/miniconda3/envs/mt/lib/python3.9/site-packages/torch/jit/_recursive.py\u001B[0m in \u001B[0;36mtry_compile_fn\u001B[0;34m(fn, loc)\u001B[0m\n\u001B[1;32m    836\u001B[0m     \u001B[0;31m# object\u001B[0m\u001B[0;34m\u001B[0m\u001B[0;34m\u001B[0m\u001B[0m\n\u001B[1;32m    837\u001B[0m     \u001B[0mrcb\u001B[0m \u001B[0;34m=\u001B[0m \u001B[0m_jit_internal\u001B[0m\u001B[0;34m.\u001B[0m\u001B[0mcreateResolutionCallbackFromClosure\u001B[0m\u001B[0;34m(\u001B[0m\u001B[0mfn\u001B[0m\u001B[0;34m)\u001B[0m\u001B[0;34m\u001B[0m\u001B[0;34m\u001B[0m\u001B[0m\n\u001B[0;32m--> 838\u001B[0;31m     \u001B[0;32mreturn\u001B[0m \u001B[0mtorch\u001B[0m\u001B[0;34m.\u001B[0m\u001B[0mjit\u001B[0m\u001B[0;34m.\u001B[0m\u001B[0mscript\u001B[0m\u001B[0;34m(\u001B[0m\u001B[0mfn\u001B[0m\u001B[0;34m,\u001B[0m \u001B[0m_rcb\u001B[0m\u001B[0;34m=\u001B[0m\u001B[0mrcb\u001B[0m\u001B[0;34m)\u001B[0m\u001B[0;34m\u001B[0m\u001B[0;34m\u001B[0m\u001B[0m\n\u001B[0m\u001B[1;32m    839\u001B[0m \u001B[0;34m\u001B[0m\u001B[0m\n\u001B[1;32m    840\u001B[0m \u001B[0;32mdef\u001B[0m \u001B[0mwrap_cpp_class\u001B[0m\u001B[0;34m(\u001B[0m\u001B[0mcpp_class\u001B[0m\u001B[0;34m)\u001B[0m\u001B[0;34m:\u001B[0m\u001B[0;34m\u001B[0m\u001B[0;34m\u001B[0m\u001B[0m\n",
      "\u001B[0;32m~/miniconda3/envs/mt/lib/python3.9/site-packages/torch/jit/_script.py\u001B[0m in \u001B[0;36mscript\u001B[0;34m(obj, optimize, _frames_up, _rcb, example_inputs)\u001B[0m\n\u001B[1;32m   1308\u001B[0m         \u001B[0;32mif\u001B[0m \u001B[0m_rcb\u001B[0m \u001B[0;32mis\u001B[0m \u001B[0;32mNone\u001B[0m\u001B[0;34m:\u001B[0m\u001B[0;34m\u001B[0m\u001B[0;34m\u001B[0m\u001B[0m\n\u001B[1;32m   1309\u001B[0m             \u001B[0m_rcb\u001B[0m \u001B[0;34m=\u001B[0m \u001B[0m_jit_internal\u001B[0m\u001B[0;34m.\u001B[0m\u001B[0mcreateResolutionCallbackFromClosure\u001B[0m\u001B[0;34m(\u001B[0m\u001B[0mobj\u001B[0m\u001B[0;34m)\u001B[0m\u001B[0;34m\u001B[0m\u001B[0;34m\u001B[0m\u001B[0m\n\u001B[0;32m-> 1310\u001B[0;31m         fn = torch._C._jit_script_compile(\n\u001B[0m\u001B[1;32m   1311\u001B[0m             \u001B[0mqualified_name\u001B[0m\u001B[0;34m,\u001B[0m \u001B[0mast\u001B[0m\u001B[0;34m,\u001B[0m \u001B[0m_rcb\u001B[0m\u001B[0;34m,\u001B[0m \u001B[0mget_default_args\u001B[0m\u001B[0;34m(\u001B[0m\u001B[0mobj\u001B[0m\u001B[0;34m)\u001B[0m\u001B[0;34m\u001B[0m\u001B[0;34m\u001B[0m\u001B[0m\n\u001B[1;32m   1312\u001B[0m         )\n",
      "\u001B[0;32m~/miniconda3/envs/mt/lib/python3.9/site-packages/torch/jit/_recursive.py\u001B[0m in \u001B[0;36mtry_compile_fn\u001B[0;34m(fn, loc)\u001B[0m\n\u001B[1;32m    836\u001B[0m     \u001B[0;31m# object\u001B[0m\u001B[0;34m\u001B[0m\u001B[0;34m\u001B[0m\u001B[0m\n\u001B[1;32m    837\u001B[0m     \u001B[0mrcb\u001B[0m \u001B[0;34m=\u001B[0m \u001B[0m_jit_internal\u001B[0m\u001B[0;34m.\u001B[0m\u001B[0mcreateResolutionCallbackFromClosure\u001B[0m\u001B[0;34m(\u001B[0m\u001B[0mfn\u001B[0m\u001B[0;34m)\u001B[0m\u001B[0;34m\u001B[0m\u001B[0;34m\u001B[0m\u001B[0m\n\u001B[0;32m--> 838\u001B[0;31m     \u001B[0;32mreturn\u001B[0m \u001B[0mtorch\u001B[0m\u001B[0;34m.\u001B[0m\u001B[0mjit\u001B[0m\u001B[0;34m.\u001B[0m\u001B[0mscript\u001B[0m\u001B[0;34m(\u001B[0m\u001B[0mfn\u001B[0m\u001B[0;34m,\u001B[0m \u001B[0m_rcb\u001B[0m\u001B[0;34m=\u001B[0m\u001B[0mrcb\u001B[0m\u001B[0;34m)\u001B[0m\u001B[0;34m\u001B[0m\u001B[0;34m\u001B[0m\u001B[0m\n\u001B[0m\u001B[1;32m    839\u001B[0m \u001B[0;34m\u001B[0m\u001B[0m\n\u001B[1;32m    840\u001B[0m \u001B[0;32mdef\u001B[0m \u001B[0mwrap_cpp_class\u001B[0m\u001B[0;34m(\u001B[0m\u001B[0mcpp_class\u001B[0m\u001B[0;34m)\u001B[0m\u001B[0;34m:\u001B[0m\u001B[0;34m\u001B[0m\u001B[0;34m\u001B[0m\u001B[0m\n",
      "\u001B[0;32m~/miniconda3/envs/mt/lib/python3.9/site-packages/torch/jit/_script.py\u001B[0m in \u001B[0;36mscript\u001B[0;34m(obj, optimize, _frames_up, _rcb, example_inputs)\u001B[0m\n\u001B[1;32m   1308\u001B[0m         \u001B[0;32mif\u001B[0m \u001B[0m_rcb\u001B[0m \u001B[0;32mis\u001B[0m \u001B[0;32mNone\u001B[0m\u001B[0;34m:\u001B[0m\u001B[0;34m\u001B[0m\u001B[0;34m\u001B[0m\u001B[0m\n\u001B[1;32m   1309\u001B[0m             \u001B[0m_rcb\u001B[0m \u001B[0;34m=\u001B[0m \u001B[0m_jit_internal\u001B[0m\u001B[0;34m.\u001B[0m\u001B[0mcreateResolutionCallbackFromClosure\u001B[0m\u001B[0;34m(\u001B[0m\u001B[0mobj\u001B[0m\u001B[0;34m)\u001B[0m\u001B[0;34m\u001B[0m\u001B[0;34m\u001B[0m\u001B[0m\n\u001B[0;32m-> 1310\u001B[0;31m         fn = torch._C._jit_script_compile(\n\u001B[0m\u001B[1;32m   1311\u001B[0m             \u001B[0mqualified_name\u001B[0m\u001B[0;34m,\u001B[0m \u001B[0mast\u001B[0m\u001B[0;34m,\u001B[0m \u001B[0m_rcb\u001B[0m\u001B[0;34m,\u001B[0m \u001B[0mget_default_args\u001B[0m\u001B[0;34m(\u001B[0m\u001B[0mobj\u001B[0m\u001B[0;34m)\u001B[0m\u001B[0;34m\u001B[0m\u001B[0;34m\u001B[0m\u001B[0m\n\u001B[1;32m   1312\u001B[0m         )\n",
      "\u001B[0;32m~/miniconda3/envs/mt/lib/python3.9/site-packages/torch/jit/_recursive.py\u001B[0m in \u001B[0;36mtry_compile_fn\u001B[0;34m(fn, loc)\u001B[0m\n\u001B[1;32m    836\u001B[0m     \u001B[0;31m# object\u001B[0m\u001B[0;34m\u001B[0m\u001B[0;34m\u001B[0m\u001B[0m\n\u001B[1;32m    837\u001B[0m     \u001B[0mrcb\u001B[0m \u001B[0;34m=\u001B[0m \u001B[0m_jit_internal\u001B[0m\u001B[0;34m.\u001B[0m\u001B[0mcreateResolutionCallbackFromClosure\u001B[0m\u001B[0;34m(\u001B[0m\u001B[0mfn\u001B[0m\u001B[0;34m)\u001B[0m\u001B[0;34m\u001B[0m\u001B[0;34m\u001B[0m\u001B[0m\n\u001B[0;32m--> 838\u001B[0;31m     \u001B[0;32mreturn\u001B[0m \u001B[0mtorch\u001B[0m\u001B[0;34m.\u001B[0m\u001B[0mjit\u001B[0m\u001B[0;34m.\u001B[0m\u001B[0mscript\u001B[0m\u001B[0;34m(\u001B[0m\u001B[0mfn\u001B[0m\u001B[0;34m,\u001B[0m \u001B[0m_rcb\u001B[0m\u001B[0;34m=\u001B[0m\u001B[0mrcb\u001B[0m\u001B[0;34m)\u001B[0m\u001B[0;34m\u001B[0m\u001B[0;34m\u001B[0m\u001B[0m\n\u001B[0m\u001B[1;32m    839\u001B[0m \u001B[0;34m\u001B[0m\u001B[0m\n\u001B[1;32m    840\u001B[0m \u001B[0;32mdef\u001B[0m \u001B[0mwrap_cpp_class\u001B[0m\u001B[0;34m(\u001B[0m\u001B[0mcpp_class\u001B[0m\u001B[0;34m)\u001B[0m\u001B[0;34m:\u001B[0m\u001B[0;34m\u001B[0m\u001B[0;34m\u001B[0m\u001B[0m\n",
      "\u001B[0;32m~/miniconda3/envs/mt/lib/python3.9/site-packages/torch/jit/_script.py\u001B[0m in \u001B[0;36mscript\u001B[0;34m(obj, optimize, _frames_up, _rcb, example_inputs)\u001B[0m\n\u001B[1;32m   1308\u001B[0m         \u001B[0;32mif\u001B[0m \u001B[0m_rcb\u001B[0m \u001B[0;32mis\u001B[0m \u001B[0;32mNone\u001B[0m\u001B[0;34m:\u001B[0m\u001B[0;34m\u001B[0m\u001B[0;34m\u001B[0m\u001B[0m\n\u001B[1;32m   1309\u001B[0m             \u001B[0m_rcb\u001B[0m \u001B[0;34m=\u001B[0m \u001B[0m_jit_internal\u001B[0m\u001B[0;34m.\u001B[0m\u001B[0mcreateResolutionCallbackFromClosure\u001B[0m\u001B[0;34m(\u001B[0m\u001B[0mobj\u001B[0m\u001B[0;34m)\u001B[0m\u001B[0;34m\u001B[0m\u001B[0;34m\u001B[0m\u001B[0m\n\u001B[0;32m-> 1310\u001B[0;31m         fn = torch._C._jit_script_compile(\n\u001B[0m\u001B[1;32m   1311\u001B[0m             \u001B[0mqualified_name\u001B[0m\u001B[0;34m,\u001B[0m \u001B[0mast\u001B[0m\u001B[0;34m,\u001B[0m \u001B[0m_rcb\u001B[0m\u001B[0;34m,\u001B[0m \u001B[0mget_default_args\u001B[0m\u001B[0;34m(\u001B[0m\u001B[0mobj\u001B[0m\u001B[0;34m)\u001B[0m\u001B[0;34m\u001B[0m\u001B[0;34m\u001B[0m\u001B[0m\n\u001B[1;32m   1312\u001B[0m         )\n",
      "\u001B[0;31mRuntimeError\u001B[0m: \nobject has no attribute nms:\n  File \"/home/kuntik/miniconda3/envs/mt/lib/python3.9/site-packages/torchvision/ops/boxes.py\", line 42\n    \"\"\"\n    _assert_has_ops()\n    return torch.ops.torchvision.nms(boxes, scores, iou_threshold)\n           ~~~~~~~~~~~~~~~~~~~~~~~~~ <--- HERE\n'nms' is being compiled since it was called from 'batched_nms'\n  File \"/home/kuntik/miniconda3/envs/mt/lib/python3.9/site-packages/torchvision/ops/boxes.py\", line 88\n        offsets = idxs.to(boxes) * (max_coordinate + torch.tensor(1).to(boxes))\n        boxes_for_nms = boxes + offsets[:, None]\n        keep = nms(boxes_for_nms, scores, iou_threshold)\n        ~~~~~~~~~~~~~~~~~~~~~~~~~~~~~~~~~~~~~~~~~~~~~~~ <--- HERE\n        return keep\n'batched_nms' is being compiled since it was called from 'generate_detections'\n  File \"/home/kuntik/miniconda3/envs/mt/lib/python3.9/site-packages/effdet/anchors.py\", line 140\n        scores[top_detection_idx] = soft_scores\n    else:\n        top_detection_idx = batched_nms(boxes, scores, classes, iou_threshold=0.5)\n        ~~~~~~~~~~~~~~~~~~~~~~~~~~~~~~~~~~~~~~~~~~~~~~~~~~~~~~~~~~~~~~~~~~~~~~~~~ <--- HERE\n\n    # keep only top max_det_per_image scoring predictions\n'generate_detections' is being compiled since it was called from '_batch_detection'\n  File \"/home/kuntik/miniconda3/envs/mt/lib/python3.9/site-packages/effdet/bench.py\", line 82\n        img_scale_i = None if img_scale is None else img_scale[i]\n        img_size_i = None if img_size is None else img_size[i]\n        detections = generate_detections(\n        ~~~~~~~~~~~~~~~~~~~~~~~~~~~~~~~~~\n            class_out[i], box_out[i], anchor_boxes, indices[i], classes[i],\n            ~~~~~~~~~~~~~~~~~~~~~~~~~~~~~~~~~~~~~~~~~~~~~~~~~~~~~~~~~~~~~~~\n            img_scale_i, img_size_i, max_det_per_image=max_det_per_image, soft_nms=soft_nms)\n            ~~~~~~~~~~~~~~~~~~~~~~~~~~~~~~~~~~~~~~~~~~~~~~~~~~~~~~~~~~~~~~~~~~~~~~~~~~~~~~~ <--- HERE\n        batch_detections.append(detections)\n    return torch.stack(batch_detections, dim=0)\n"
     ]
    }
   ],
   "source": [
    "from src.lightning_modules.models.efficientdet import *"
   ],
   "metadata": {
    "collapsed": false,
    "pycharm": {
     "name": "#%%\n"
    }
   }
  },
  {
   "cell_type": "code",
   "execution_count": 3,
   "outputs": [],
   "source": [],
   "metadata": {
    "collapsed": false,
    "pycharm": {
     "name": "#%%\n"
    }
   }
  },
  {
   "cell_type": "code",
   "execution_count": null,
   "outputs": [],
   "source": [],
   "metadata": {
    "collapsed": false,
    "pycharm": {
     "name": "#%%\n"
    }
   }
  }
 ],
 "metadata": {
  "kernelspec": {
   "display_name": "Python 3",
   "language": "python",
   "name": "python3"
  },
  "language_info": {
   "codemirror_mode": {
    "name": "ipython",
    "version": 2
   },
   "file_extension": ".py",
   "mimetype": "text/x-python",
   "name": "python",
   "nbconvert_exporter": "python",
   "pygments_lexer": "ipython2",
   "version": "2.7.6"
  }
 },
 "nbformat": 4,
 "nbformat_minor": 0
}